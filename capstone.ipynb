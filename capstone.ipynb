{
 "cells": [
  {
   "cell_type": "markdown",
   "metadata": {},
   "source": [
    "# Chicago Food Inspection"
   ]
  },
  {
   "cell_type": "markdown",
   "metadata": {},
   "source": [
    "## Executive Summary"
   ]
  },
  {
   "cell_type": "markdown",
   "metadata": {},
   "source": [
    "#### Problem Definition\n",
    "This data science project aims to optimize the Food Inspection process at Chicago city by trying to predict the restaurants that contain food violations, especially critical & serious violations, as defined by Chicago's Food Inspection Reporting System. The status of an inspection can be Pass, Pass with Conditions, or Fail, depending on the type of violations found. To create a predictive model, we used data about the weather, community area features, restaurant chain size, restaurant risk level, and the number and percentage of past failed visists. We noticed in our analysis that restaurants with more than one inspection behave differently than restaurants with only one or two inspections. Therefore, we creates two models, one using all observations, and the second using only restaurants with one or two past inspection visits."
   ]
  },
  {
   "cell_type": "markdown",
   "metadata": {},
   "source": [
    "#### Research Question\n",
    "According to the inspection process, we would like to predict restaurants that would pass with conditions or fail, because those are the restaurants that contain serious or critical violations. We would like to create a model that predicts whether a restaurant requires inspection, based on the data we have on past inspections. Therefore, we would like to predict whether an observation belongs to one of two classes: \n",
    "- Pass\n",
    "- Pass wth Conditions or Fail"
   ]
  },
  {
   "cell_type": "markdown",
   "metadata": {},
   "source": [
    "#### Model Evaluation\n",
    "When evaluating our model, we would like to increase Precision.We want to try to catch all restaurants with violations, and do not mind catching some restaurants without violations in the process. In other words, we do not want to miss the restaurants with critical and serious violations.\n",
    "\n",
    "We used four classification models: \n",
    "- Logistic Regression\n",
    "- Decision Trees\n",
    "- Random Forrests\n",
    "- XGBoost \n",
    "\n",
    "XGBoost returned 83.6%, the highest Accuracy among all models."
   ]
  },
  {
   "cell_type": "markdown",
   "metadata": {},
   "source": [
    "#### Results & Recommendations\n",
    "According to our analysis and our models' feature importance, the feature that has the highest correlation with the results of an inspection is the percentage of past failed inspections. Other features also correlated with an inspection's results, but very weakly. We created two models, one for the complete dataset, and another for the observations with more than two insepctions. According to our results, the first model outperformed the second one.\n",
    "\n",
    "Our recommendation for future work is to add more features to the dataset, mainly features about the restaurants themselves. Other than the restaurant risk level and the chain size, our dataset was lacking information about the restaurants themselves, such as the type of cuisine, the price range, and customer ratings from social media. \n",
    "\n",
    "Furthermore, the community area could be investigated further. According to the feature importance of the models, some community areas are either positively or negatively correlated with the results of an inspection. We could add a feature that represents the 9 regions of Chicago, they might show a pattern that we could not see with 77 community areas. "
   ]
  },
  {
   "cell_type": "markdown",
   "metadata": {},
   "source": [
    "## Table of Content\n",
    "- Import and Preprocess Data\n",
    "- Exploratory Data Analysis\n",
    "- Feature Re-engineering\n",
    "    - Regions\t\n",
    "        - Crime\n",
    "        - Sanitation\n",
    "        - Poverty, Education & Unemployment\n",
    "    - Frequency of Inspections & Failures\n",
    "    - Number of branches per restaurant (Restaurant Chain Sizes)\n",
    "    - Weather\n",
    "        - Season\n",
    "        - Temperature and Humidity\n",
    "        - Three consecutive days of high Temperature\n",
    "    - Violations\n",
    "    - Yelp Data\n",
    "- Modeling\n",
    "    - Model 1: All Restaurants\n",
    "    - Model 2: Restaurants with 3 and more Inspection Visits\n",
    "- conclusion\n"
   ]
  },
  {
   "cell_type": "markdown",
   "metadata": {},
   "source": [
    "----"
   ]
  },
  {
   "cell_type": "markdown",
   "metadata": {},
   "source": [
    "# Import and Preprocess Data"
   ]
  },
  {
   "cell_type": "markdown",
   "metadata": {},
   "source": [
    "#### Dataset\n",
    "The dataset has been downloaded from the Chicago Data Portal as a csv file on May 8th, 2019. According to the Chicago Data Portal, the data was last updated on May 7th, 2019. The data covers observations from 2010-01-04 to 2019-05-07. The dataset is available on the following link: https://data.cityofchicago.org/Health-Human-Services/Food-Inspections/4ijn-s7e5.\n"
   ]
  },
  {
   "cell_type": "code",
   "execution_count": 691,
   "metadata": {},
   "outputs": [],
   "source": [
    "import pandas as pd\n",
    "import numpy as np\n",
    "import matplotlib.pyplot as plt\n",
    "import seaborn as sns\n",
    "%matplotlib inline"
   ]
  },
  {
   "cell_type": "code",
   "execution_count": 692,
   "metadata": {},
   "outputs": [],
   "source": [
    "df = pd.read_csv(\"DATA/Food_Inspections.csv\")"
   ]
  },
  {
   "cell_type": "code",
   "execution_count": 693,
   "metadata": {},
   "outputs": [
    {
     "data": {
      "text/html": [
       "<div>\n",
       "<style scoped>\n",
       "    .dataframe tbody tr th:only-of-type {\n",
       "        vertical-align: middle;\n",
       "    }\n",
       "\n",
       "    .dataframe tbody tr th {\n",
       "        vertical-align: top;\n",
       "    }\n",
       "\n",
       "    .dataframe thead th {\n",
       "        text-align: right;\n",
       "    }\n",
       "</style>\n",
       "<table border=\"1\" class=\"dataframe\">\n",
       "  <thead>\n",
       "    <tr style=\"text-align: right;\">\n",
       "      <th></th>\n",
       "      <th>Inspection ID</th>\n",
       "      <th>DBA Name</th>\n",
       "      <th>AKA Name</th>\n",
       "      <th>License #</th>\n",
       "      <th>Facility Type</th>\n",
       "      <th>Risk</th>\n",
       "      <th>Address</th>\n",
       "      <th>City</th>\n",
       "      <th>State</th>\n",
       "      <th>Zip</th>\n",
       "      <th>...</th>\n",
       "      <th>Results</th>\n",
       "      <th>Violations</th>\n",
       "      <th>Latitude</th>\n",
       "      <th>Longitude</th>\n",
       "      <th>Location</th>\n",
       "      <th>Historical Wards 2003-2015</th>\n",
       "      <th>Zip Codes</th>\n",
       "      <th>Community Areas</th>\n",
       "      <th>Census Tracts</th>\n",
       "      <th>Wards</th>\n",
       "    </tr>\n",
       "  </thead>\n",
       "  <tbody>\n",
       "    <tr>\n",
       "      <th>0</th>\n",
       "      <td>2288224</td>\n",
       "      <td>LA V BAKERY, INC</td>\n",
       "      <td>LA V BAKERY, INC</td>\n",
       "      <td>2550054.0</td>\n",
       "      <td>Bakery</td>\n",
       "      <td>Risk 2 (Medium)</td>\n",
       "      <td>2338 S KEDZIE ...</td>\n",
       "      <td>CHICAGO</td>\n",
       "      <td>IL</td>\n",
       "      <td>60623.0</td>\n",
       "      <td>...</td>\n",
       "      <td>Out of Business</td>\n",
       "      <td>NaN</td>\n",
       "      <td>41.848790</td>\n",
       "      <td>-87.705311</td>\n",
       "      <td>(41.8487904950...</td>\n",
       "      <td>36.0</td>\n",
       "      <td>21569.0</td>\n",
       "      <td>32.0</td>\n",
       "      <td>291.0</td>\n",
       "      <td>1.0</td>\n",
       "    </tr>\n",
       "    <tr>\n",
       "      <th>1</th>\n",
       "      <td>2288211</td>\n",
       "      <td>SUBWAY</td>\n",
       "      <td>SUBWAY</td>\n",
       "      <td>1495274.0</td>\n",
       "      <td>Restaurant</td>\n",
       "      <td>Risk 1 (High)</td>\n",
       "      <td>3167 N LINCOLN...</td>\n",
       "      <td>CHICAGO</td>\n",
       "      <td>IL</td>\n",
       "      <td>60657.0</td>\n",
       "      <td>...</td>\n",
       "      <td>Pass w/ Condit...</td>\n",
       "      <td>3. MANAGEMENT,...</td>\n",
       "      <td>41.939425</td>\n",
       "      <td>-87.668111</td>\n",
       "      <td>(41.9394246216...</td>\n",
       "      <td>16.0</td>\n",
       "      <td>4449.0</td>\n",
       "      <td>57.0</td>\n",
       "      <td>712.0</td>\n",
       "      <td>40.0</td>\n",
       "    </tr>\n",
       "    <tr>\n",
       "      <th>2</th>\n",
       "      <td>2288212</td>\n",
       "      <td>DO-RITE DONUTS...</td>\n",
       "      <td>DO-RITE DONUTS...</td>\n",
       "      <td>2621370.0</td>\n",
       "      <td>Restaurant</td>\n",
       "      <td>Risk 1 (High)</td>\n",
       "      <td>1027 W ADDISON...</td>\n",
       "      <td>CHICAGO</td>\n",
       "      <td>IL</td>\n",
       "      <td>60613.0</td>\n",
       "      <td>...</td>\n",
       "      <td>Pass</td>\n",
       "      <td>41. WIPING CLO...</td>\n",
       "      <td>41.947117</td>\n",
       "      <td>-87.655460</td>\n",
       "      <td>(41.9471165370...</td>\n",
       "      <td>38.0</td>\n",
       "      <td>4449.0</td>\n",
       "      <td>57.0</td>\n",
       "      <td>211.0</td>\n",
       "      <td>25.0</td>\n",
       "    </tr>\n",
       "    <tr>\n",
       "      <th>3</th>\n",
       "      <td>2288241</td>\n",
       "      <td>KAI SUSHI</td>\n",
       "      <td>KAI SUSHI</td>\n",
       "      <td>2569284.0</td>\n",
       "      <td>Restaurant</td>\n",
       "      <td>Risk 1 (High)</td>\n",
       "      <td>3819 N SOUTHPO...</td>\n",
       "      <td>CHICAGO</td>\n",
       "      <td>IL</td>\n",
       "      <td>60613.0</td>\n",
       "      <td>...</td>\n",
       "      <td>Fail</td>\n",
       "      <td>1. PERSON IN C...</td>\n",
       "      <td>41.951337</td>\n",
       "      <td>-87.663988</td>\n",
       "      <td>(41.9513368355...</td>\n",
       "      <td>38.0</td>\n",
       "      <td>21186.0</td>\n",
       "      <td>57.0</td>\n",
       "      <td>725.0</td>\n",
       "      <td>25.0</td>\n",
       "    </tr>\n",
       "    <tr>\n",
       "      <th>4</th>\n",
       "      <td>2288221</td>\n",
       "      <td>PALETERIA AYUTLA</td>\n",
       "      <td>PALETERIA AYUTLA</td>\n",
       "      <td>2321232.0</td>\n",
       "      <td>Restaurant</td>\n",
       "      <td>Risk 2 (Medium)</td>\n",
       "      <td>2404 W 46TH PL</td>\n",
       "      <td>CHICAGO</td>\n",
       "      <td>IL</td>\n",
       "      <td>60632.0</td>\n",
       "      <td>...</td>\n",
       "      <td>Pass w/ Condit...</td>\n",
       "      <td>3. MANAGEMENT,...</td>\n",
       "      <td>41.809457</td>\n",
       "      <td>-87.684746</td>\n",
       "      <td>(41.8094569173...</td>\n",
       "      <td>29.0</td>\n",
       "      <td>14924.0</td>\n",
       "      <td>55.0</td>\n",
       "      <td>687.0</td>\n",
       "      <td>3.0</td>\n",
       "    </tr>\n",
       "  </tbody>\n",
       "</table>\n",
       "<p>5 rows × 22 columns</p>\n",
       "</div>"
      ],
      "text/plain": [
       "   Inspection ID           DBA Name           AKA Name  License #  \\\n",
       "0        2288224   LA V BAKERY, INC   LA V BAKERY, INC  2550054.0   \n",
       "1        2288211             SUBWAY             SUBWAY  1495274.0   \n",
       "2        2288212  DO-RITE DONUTS...  DO-RITE DONUTS...  2621370.0   \n",
       "3        2288241          KAI SUSHI          KAI SUSHI  2569284.0   \n",
       "4        2288221   PALETERIA AYUTLA   PALETERIA AYUTLA  2321232.0   \n",
       "\n",
       "  Facility Type             Risk            Address     City State      Zip  \\\n",
       "0        Bakery  Risk 2 (Medium)  2338 S KEDZIE ...  CHICAGO    IL  60623.0   \n",
       "1    Restaurant    Risk 1 (High)  3167 N LINCOLN...  CHICAGO    IL  60657.0   \n",
       "2    Restaurant    Risk 1 (High)  1027 W ADDISON...  CHICAGO    IL  60613.0   \n",
       "3    Restaurant    Risk 1 (High)  3819 N SOUTHPO...  CHICAGO    IL  60613.0   \n",
       "4    Restaurant  Risk 2 (Medium)    2404 W 46TH PL   CHICAGO    IL  60632.0   \n",
       "\n",
       "   ...              Results         Violations   Latitude  Longitude  \\\n",
       "0  ...      Out of Business                NaN  41.848790 -87.705311   \n",
       "1  ...    Pass w/ Condit...  3. MANAGEMENT,...  41.939425 -87.668111   \n",
       "2  ...                 Pass  41. WIPING CLO...  41.947117 -87.655460   \n",
       "3  ...                 Fail  1. PERSON IN C...  41.951337 -87.663988   \n",
       "4  ...    Pass w/ Condit...  3. MANAGEMENT,...  41.809457 -87.684746   \n",
       "\n",
       "            Location  Historical Wards 2003-2015 Zip Codes  Community Areas  \\\n",
       "0  (41.8487904950...               36.0            21569.0             32.0   \n",
       "1  (41.9394246216...               16.0             4449.0             57.0   \n",
       "2  (41.9471165370...               38.0             4449.0             57.0   \n",
       "3  (41.9513368355...               38.0            21186.0             57.0   \n",
       "4  (41.8094569173...               29.0            14924.0             55.0   \n",
       "\n",
       "   Census Tracts  Wards  \n",
       "0          291.0    1.0  \n",
       "1          712.0   40.0  \n",
       "2          211.0   25.0  \n",
       "3          725.0   25.0  \n",
       "4          687.0    3.0  \n",
       "\n",
       "[5 rows x 22 columns]"
      ]
     },
     "execution_count": 693,
     "metadata": {},
     "output_type": "execute_result"
    }
   ],
   "source": [
    "df.head()"
   ]
  },
  {
   "cell_type": "code",
   "execution_count": 694,
   "metadata": {},
   "outputs": [
    {
     "data": {
      "text/plain": [
       "(186426, 22)"
      ]
     },
     "execution_count": 694,
     "metadata": {},
     "output_type": "execute_result"
    }
   ],
   "source": [
    "df.shape"
   ]
  },
  {
   "cell_type": "markdown",
   "metadata": {},
   "source": [
    "### preprocessing column names"
   ]
  },
  {
   "cell_type": "code",
   "execution_count": 695,
   "metadata": {},
   "outputs": [],
   "source": [
    "df.columns = df.columns.map(lambda x: x.lower())\n",
    "df.columns = df.columns.map(lambda x: x.replace(' ','_'))\n",
    "df.rename(columns={\"license_#\":\"license_num\"}, inplace=True)"
   ]
  },
  {
   "cell_type": "code",
   "execution_count": 696,
   "metadata": {},
   "outputs": [],
   "source": [
    "df.head();"
   ]
  },
  {
   "cell_type": "markdown",
   "metadata": {},
   "source": [
    "### Filtering"
   ]
  },
  {
   "cell_type": "markdown",
   "metadata": {},
   "source": [
    "Before filtering based on the inspection type, we need to remove entries without an inspection type:"
   ]
  },
  {
   "cell_type": "code",
   "execution_count": 697,
   "metadata": {},
   "outputs": [
    {
     "data": {
      "text/plain": [
       "1"
      ]
     },
     "execution_count": 697,
     "metadata": {},
     "output_type": "execute_result"
    }
   ],
   "source": [
    "df.inspection_type.isnull().sum()"
   ]
  },
  {
   "cell_type": "code",
   "execution_count": 698,
   "metadata": {},
   "outputs": [
    {
     "data": {
      "text/html": [
       "<div>\n",
       "<style scoped>\n",
       "    .dataframe tbody tr th:only-of-type {\n",
       "        vertical-align: middle;\n",
       "    }\n",
       "\n",
       "    .dataframe tbody tr th {\n",
       "        vertical-align: top;\n",
       "    }\n",
       "\n",
       "    .dataframe thead th {\n",
       "        text-align: right;\n",
       "    }\n",
       "</style>\n",
       "<table border=\"1\" class=\"dataframe\">\n",
       "  <thead>\n",
       "    <tr style=\"text-align: right;\">\n",
       "      <th></th>\n",
       "      <th>state</th>\n",
       "      <th>zip</th>\n",
       "      <th>inspection_date</th>\n",
       "      <th>inspection_type</th>\n",
       "      <th>results</th>\n",
       "      <th>violations</th>\n",
       "      <th>latitude</th>\n",
       "    </tr>\n",
       "  </thead>\n",
       "  <tbody>\n",
       "    <tr>\n",
       "      <th>55362</th>\n",
       "      <td>IL</td>\n",
       "      <td>60614.0</td>\n",
       "      <td>07/14/2016</td>\n",
       "      <td>NaN</td>\n",
       "      <td>Pass</td>\n",
       "      <td>NaN</td>\n",
       "      <td>41.930833</td>\n",
       "    </tr>\n",
       "  </tbody>\n",
       "</table>\n",
       "</div>"
      ],
      "text/plain": [
       "      state      zip inspection_date inspection_type results violations  \\\n",
       "55362    IL  60614.0      07/14/2016             NaN    Pass        NaN   \n",
       "\n",
       "        latitude  \n",
       "55362  41.930833  "
      ]
     },
     "execution_count": 698,
     "metadata": {},
     "output_type": "execute_result"
    }
   ],
   "source": [
    "df[df.inspection_type.isnull()].iloc[:,8:15]"
   ]
  },
  {
   "cell_type": "markdown",
   "metadata": {},
   "source": [
    "There is one observation with NaNs as values for the inspection type and violations, therefore it will be useless for our analysis and we will delete it"
   ]
  },
  {
   "cell_type": "code",
   "execution_count": 699,
   "metadata": {},
   "outputs": [],
   "source": [
    "null_rows = df[df.inspection_type.isnull()].index\n",
    "df.drop(null_rows,inplace=True)"
   ]
  },
  {
   "cell_type": "markdown",
   "metadata": {},
   "source": [
    "### a. filter by inspection type\n",
    "\n",
    "Canvas inspections occur throughout the year and are somewhat random inspections of various restaurants"
   ]
  },
  {
   "cell_type": "code",
   "execution_count": 700,
   "metadata": {},
   "outputs": [],
   "source": [
    "df = df.loc[df.inspection_type.str.contains(\"canvas\", case=False)]"
   ]
  },
  {
   "cell_type": "code",
   "execution_count": 701,
   "metadata": {},
   "outputs": [
    {
     "data": {
      "text/plain": [
       "(118179, 22)"
      ]
     },
     "execution_count": 701,
     "metadata": {},
     "output_type": "execute_result"
    }
   ],
   "source": [
    "df.shape"
   ]
  },
  {
   "cell_type": "code",
   "execution_count": 702,
   "metadata": {},
   "outputs": [
    {
     "data": {
      "text/plain": [
       "Canvass                              98792\n",
       "Canvass Re-Inspection                19380\n",
       "CANVASS/SPECIAL EVENT                    1\n",
       "CANVASS                                  1\n",
       "CANVASS RE INSPECTION OF CLOSE UP        1\n",
       "CANVASS SPECIAL EVENTS                   1\n",
       "CANVASS FOR RIB FEST                     1\n",
       "CANVASS SCHOOL/SPECIAL EVENT             1\n",
       "CANVAS                                   1\n",
       "Name: inspection_type, dtype: int64"
      ]
     },
     "execution_count": 702,
     "metadata": {},
     "output_type": "execute_result"
    }
   ],
   "source": [
    "df.inspection_type.value_counts()"
   ]
  },
  {
   "cell_type": "markdown",
   "metadata": {},
   "source": [
    "We are not interested in Canvass Re-Inspection, therefore we need to filter it too"
   ]
  },
  {
   "cell_type": "code",
   "execution_count": 703,
   "metadata": {},
   "outputs": [],
   "source": [
    "df = df.loc[df.inspection_type!=\"Canvass Re-Inspection\"]"
   ]
  },
  {
   "cell_type": "code",
   "execution_count": 704,
   "metadata": {},
   "outputs": [
    {
     "data": {
      "text/plain": [
       "(98799, 22)"
      ]
     },
     "execution_count": 704,
     "metadata": {},
     "output_type": "execute_result"
    }
   ],
   "source": [
    "df.shape"
   ]
  },
  {
   "cell_type": "markdown",
   "metadata": {},
   "source": [
    "### b. filter by facility type"
   ]
  },
  {
   "cell_type": "code",
   "execution_count": 705,
   "metadata": {},
   "outputs": [],
   "source": [
    "df = df[df.facility_type == \"Restaurant\"]"
   ]
  },
  {
   "cell_type": "code",
   "execution_count": 706,
   "metadata": {},
   "outputs": [
    {
     "data": {
      "text/plain": [
       "(66136, 22)"
      ]
     },
     "execution_count": 706,
     "metadata": {},
     "output_type": "execute_result"
    }
   ],
   "source": [
    "df.shape"
   ]
  },
  {
   "cell_type": "markdown",
   "metadata": {},
   "source": [
    "### c. filter observations before 2013"
   ]
  },
  {
   "cell_type": "markdown",
   "metadata": {},
   "source": [
    "Convert the Inspection Date to datetime before filtering"
   ]
  },
  {
   "cell_type": "code",
   "execution_count": 707,
   "metadata": {},
   "outputs": [],
   "source": [
    "df.inspection_date = pd.to_datetime(df.inspection_date)"
   ]
  },
  {
   "cell_type": "code",
   "execution_count": 708,
   "metadata": {},
   "outputs": [],
   "source": [
    "df = df[df['inspection_date'] > '2013-01-01']"
   ]
  },
  {
   "cell_type": "code",
   "execution_count": 709,
   "metadata": {},
   "outputs": [
    {
     "data": {
      "text/plain": [
       "(50935, 22)"
      ]
     },
     "execution_count": 709,
     "metadata": {},
     "output_type": "execute_result"
    }
   ],
   "source": [
    "df.shape"
   ]
  },
  {
   "cell_type": "markdown",
   "metadata": {},
   "source": [
    "### Cleaning Data"
   ]
  },
  {
   "cell_type": "markdown",
   "metadata": {},
   "source": [
    " I noticed during visualization that the license number 0 is very random; it corresponds to more than 30 different restaurants. It seems to be an error and it is definately an outlier and distorts the dataset, therefore we will delete it."
   ]
  },
  {
   "cell_type": "code",
   "execution_count": 710,
   "metadata": {},
   "outputs": [],
   "source": [
    "df[df.license_num==0];"
   ]
  },
  {
   "cell_type": "code",
   "execution_count": 711,
   "metadata": {},
   "outputs": [],
   "source": [
    "license_zero = df[df.license_num==0].index"
   ]
  },
  {
   "cell_type": "code",
   "execution_count": 712,
   "metadata": {},
   "outputs": [],
   "source": [
    "df.drop(license_zero,inplace=True)"
   ]
  },
  {
   "cell_type": "markdown",
   "metadata": {},
   "source": [
    "While working with the dataset, I noticed some restaurants that are spelled differently in different observations which causes our analysis to work with them as different restaurants.\n",
    "\n",
    "following is a list of mistakes found:\n",
    "\n",
    "SUBWAY\n",
    "Subway\n",
    "SUBWAY SANDWICHES\n",
    "\n",
    "KFC\n",
    "KENTUCKY FRIED CHICKEN \n",
    "\n",
    "MC DONALD'S \n",
    "MCDONALD'S  \n",
    "MCDONALDS \n",
    "\n",
    "POTBELLY SANDWICH WORKS LLC \n",
    "POTBELLY SANDWICH WORKS\n",
    "\n",
    "JIMMY JOHN'S\n",
    "JIMMY JOHNS\n",
    "\n",
    "DUNKIN DONUTS / BASKIN ROBBINS\n",
    "DUNKIN DONUTS/BASKIN ROBBINS \n",
    "\n",
    "DOMINO'S\n",
    "DOMINO'S PIZZA\n",
    "\n",
    "We will correct these mistakes manually."
   ]
  },
  {
   "cell_type": "code",
   "execution_count": 713,
   "metadata": {},
   "outputs": [],
   "source": [
    "#df[df.dba_name=='Subway'].dba_name = \"SUBWAY\"\n",
    "df.loc[df.dba_name=='Subway',\"dba_name\"] = \"SUBWAY\"\n",
    "df.loc[df.dba_name=='SUBWAY SANDWICHES',\"dba_name\"] = \"SUBWAY\"\n",
    "df.loc[df.dba_name=='KENTUCKY FRIED CHICKEN',\"dba_name\"] = \"KFC\"\n",
    "df.loc[df.dba_name==\"MC DONALD'S\",\"dba_name\"] = \"MCDONALD'S\"\n",
    "df.loc[df.dba_name==\"MCDONALDS\",\"dba_name\"] = \"MCDONALD'S\"\n",
    "df.loc[df.dba_name==\"POTBELLY SANDWICH WORKS LLC\",\"dba_name\"] = \"POTBELLY SANDWICH WORKS\"\n",
    "df.loc[df.dba_name==\"JIMMY JOHNS\",\"dba_name\"] = \"JIMMY JOHN'S\"\n",
    "df.loc[df.dba_name==\"DUNKIN DONUTS / BASKIN ROBBINS\",\"dba_name\"] = \"DUNKIN DONUTS/BASKIN ROBBINS\"\n",
    "df.loc[df.dba_name==\"DOMINO'S\",\"dba_name\"] = \"DOMINO'S PIZZA\""
   ]
  },
  {
   "cell_type": "markdown",
   "metadata": {},
   "source": [
    "### Data Types Preprocessing"
   ]
  },
  {
   "cell_type": "code",
   "execution_count": 714,
   "metadata": {},
   "outputs": [],
   "source": [
    "#df.info()"
   ]
  },
  {
   "cell_type": "markdown",
   "metadata": {},
   "source": [
    "#### Convert to Integers"
   ]
  },
  {
   "cell_type": "code",
   "execution_count": 715,
   "metadata": {},
   "outputs": [],
   "source": [
    "df.inspection_id = df.inspection_id.astype(int)"
   ]
  },
  {
   "cell_type": "code",
   "execution_count": 716,
   "metadata": {},
   "outputs": [],
   "source": [
    "df.license_num = df.license_num.astype(int)"
   ]
  },
  {
   "cell_type": "code",
   "execution_count": 717,
   "metadata": {},
   "outputs": [],
   "source": [
    "null_rows = df[df.community_areas.isnull()].index\n",
    "df.drop(null_rows,inplace=True)"
   ]
  },
  {
   "cell_type": "code",
   "execution_count": 718,
   "metadata": {},
   "outputs": [],
   "source": [
    "df.community_areas = df.community_areas.astype(int)"
   ]
  },
  {
   "cell_type": "markdown",
   "metadata": {},
   "source": [
    "### Delete unnecessary columns"
   ]
  },
  {
   "cell_type": "code",
   "execution_count": 719,
   "metadata": {},
   "outputs": [
    {
     "data": {
      "text/plain": [
       "49677"
      ]
     },
     "execution_count": 719,
     "metadata": {},
     "output_type": "execute_result"
    }
   ],
   "source": [
    "df.inspection_id.nunique() # each observation has a unique inspection id"
   ]
  },
  {
   "cell_type": "code",
   "execution_count": 720,
   "metadata": {},
   "outputs": [
    {
     "data": {
      "text/plain": [
       "13019"
      ]
     },
     "execution_count": 720,
     "metadata": {},
     "output_type": "execute_result"
    }
   ],
   "source": [
    "df.license_num.nunique()"
   ]
  },
  {
   "cell_type": "code",
   "execution_count": 721,
   "metadata": {},
   "outputs": [],
   "source": [
    "df.city.value_counts();"
   ]
  },
  {
   "cell_type": "code",
   "execution_count": 722,
   "metadata": {},
   "outputs": [
    {
     "data": {
      "text/plain": [
       "IL    49676\n",
       "Name: state, dtype: int64"
      ]
     },
     "execution_count": 722,
     "metadata": {},
     "output_type": "execute_result"
    }
   ],
   "source": [
    "df.state.value_counts()"
   ]
  },
  {
   "cell_type": "code",
   "execution_count": 723,
   "metadata": {},
   "outputs": [
    {
     "data": {
      "text/plain": [
       "(50, 58, 76, 752, 50)"
      ]
     },
     "execution_count": 723,
     "metadata": {},
     "output_type": "execute_result"
    }
   ],
   "source": [
    "df[\"historical_wards_2003-2015\"].nunique() ,df.zip_codes.nunique(), df.community_areas.nunique(), df.census_tracts.nunique(), df.wards.nunique()"
   ]
  },
  {
   "cell_type": "code",
   "execution_count": 724,
   "metadata": {},
   "outputs": [],
   "source": [
    "df.drop(['inspection_id','city','state','inspection_type','facility_type','historical_wards_2003-2015', 'census_tracts'],axis=1,inplace=True);"
   ]
  },
  {
   "cell_type": "markdown",
   "metadata": {},
   "source": [
    "### Missing Values and Duplicates"
   ]
  },
  {
   "cell_type": "code",
   "execution_count": 725,
   "metadata": {
    "scrolled": false
   },
   "outputs": [
    {
     "data": {
      "text/plain": [
       "26"
      ]
     },
     "execution_count": 725,
     "metadata": {},
     "output_type": "execute_result"
    }
   ],
   "source": [
    "sum(df.duplicated())"
   ]
  },
  {
   "cell_type": "code",
   "execution_count": 726,
   "metadata": {},
   "outputs": [],
   "source": [
    "df[df.duplicated()];"
   ]
  },
  {
   "cell_type": "code",
   "execution_count": 727,
   "metadata": {},
   "outputs": [],
   "source": [
    "df.drop_duplicates(inplace=True)"
   ]
  },
  {
   "cell_type": "markdown",
   "metadata": {},
   "source": [
    "Missing Values are Violations, they will be resolved in the section \"Food Inspection Violations and Results\""
   ]
  },
  {
   "cell_type": "markdown",
   "metadata": {},
   "source": [
    " ---------------------------------------------------------------------------------------------------------------"
   ]
  },
  {
   "cell_type": "markdown",
   "metadata": {},
   "source": [
    "# Exploratory Data Analysis"
   ]
  },
  {
   "cell_type": "markdown",
   "metadata": {},
   "source": [
    "### Food Inspection Violations and Results"
   ]
  },
  {
   "cell_type": "markdown",
   "metadata": {},
   "source": [
    "The following table identifies specific Critical, Serious, and Minor Health Code Violations:\n",
    "\n",
    "- Critical Health Code Violations (V1-14)\n",
    "- Serious Health Code Violations (V15-29)\n",
    "- Minor Health Code Violations (V30-44, V70)"
   ]
  },
  {
   "cell_type": "markdown",
   "metadata": {},
   "source": [
    "#### Critical Violations\n",
    "\n",
    "This category includes such occurrences as:\n",
    "\n",
    "- Inadequate storage temperatures\n",
    "- Inappropriate food handling practices\n",
    "- Improper personal hygiene\n",
    "- Rodent and/or insect infestation\n",
    "- Lack of hot running water"
   ]
  },
  {
   "cell_type": "markdown",
   "metadata": {},
   "source": [
    "#### Serious Violations\n",
    "\n",
    "This category includes such occurrences as:\n",
    "\n",
    "- Potentially hazardous food improperly thawed\n",
    "- Re-serving food previously served to another customer (except for packaged food in its original unopened packages)\n",
    "- Food not properly protected from contamination during storage, preparation, display, service, and transportation"
   ]
  },
  {
   "cell_type": "markdown",
   "metadata": {},
   "source": [
    "#### Minor Violations\n",
    "\n",
    "This category includes such occurrences as:\n",
    "\n",
    "- Poorly constructed, unclean, or dilapidated walls, ceilings, or floors\n",
    "- Improper storage of soiled and clean linens, coats, and aprons\n",
    "- Unauthorized personnel in the food-prep area"
   ]
  },
  {
   "cell_type": "markdown",
   "metadata": {},
   "source": [
    "#### Determining Inspection Status/Results\n",
    "The status of an inspection can be Pass, Pass with Conditions, or Fail.\n",
    "\n",
    "- A status of Pass is given if the business meets the minimum requirements of the municipal code and does not have Serious or Critical violations present during the inspection.\n",
    "- A status of Pass with Conditions is given if the business has Serious or Critical violations that are corrected during the inspection or the certified Food Service Sanitation Manager is not present at the time of inspection.\n",
    "- A status of Fail is given if the business has Serious violations that cannot be corrected during the inspection. The business must correct the Serious violations promptly and pass a re-inspection in order to remain open.\n",
    "- A status of Fail is also given if the business has Critical violations that cannot be corrected during the inspection. In this situation, the business will have its license suspended until it passes a re-inspection."
   ]
  },
  {
   "cell_type": "markdown",
   "metadata": {},
   "source": [
    "#### Resource: City of Chicago's Official Site https://webapps1.cityofchicago.org/healthinspection/Code_Violations.jsp#critical"
   ]
  },
  {
   "cell_type": "code",
   "execution_count": 728,
   "metadata": {},
   "outputs": [
    {
     "data": {
      "image/png": "[encoded data removed]",
      "text/plain": [
       "<Figure size 360x360 with 1 Axes>"
      ]
     },
     "metadata": {},
     "output_type": "display_data"
    }
   ],
   "source": [
    "plt.figure(figsize = (5,5))\n",
    "plt.pie(df.results.value_counts().values,labels=df.results.value_counts().index,autopct='%1.1f%%')\n",
    "plt.title('Proportions of the Result types to the Total Inspections',color = 'blue',fontsize = 15);"
   ]
  },
  {
   "cell_type": "code",
   "execution_count": 729,
   "metadata": {},
   "outputs": [
    {
     "data": {
      "text/plain": [
       "Pass                    22524\n",
       "Pass w/ Conditions       8437\n",
       "Fail                     8401\n",
       "Out of Business          6670\n",
       "No Entry                 3585\n",
       "Not Ready                  25\n",
       "Business Not Located        9\n",
       "Name: results, dtype: int64"
      ]
     },
     "execution_count": 729,
     "metadata": {},
     "output_type": "execute_result"
    }
   ],
   "source": [
    "df.results.value_counts()"
   ]
  },
  {
   "cell_type": "markdown",
   "metadata": {},
   "source": [
    "### Violations Column for Results other than Pass and Fail"
   ]
  },
  {
   "cell_type": "code",
   "execution_count": 730,
   "metadata": {},
   "outputs": [
    {
     "data": {
      "text/plain": [
       "6660"
      ]
     },
     "execution_count": 730,
     "metadata": {},
     "output_type": "execute_result"
    }
   ],
   "source": [
    "df[df.results==\"Out of Business\"].violations.isna().sum()"
   ]
  },
  {
   "cell_type": "code",
   "execution_count": 731,
   "metadata": {},
   "outputs": [
    {
     "data": {
      "text/plain": [
       "3480"
      ]
     },
     "execution_count": 731,
     "metadata": {},
     "output_type": "execute_result"
    }
   ],
   "source": [
    "df[df.results==\"No Entry\"].violations.isna().sum()"
   ]
  },
  {
   "cell_type": "code",
   "execution_count": 732,
   "metadata": {},
   "outputs": [
    {
     "data": {
      "text/plain": [
       "24"
      ]
     },
     "execution_count": 732,
     "metadata": {},
     "output_type": "execute_result"
    }
   ],
   "source": [
    "df[df.results==\"Not Ready\"].violations.isna().sum()"
   ]
  },
  {
   "cell_type": "code",
   "execution_count": 733,
   "metadata": {},
   "outputs": [
    {
     "data": {
      "text/plain": [
       "9"
      ]
     },
     "execution_count": 733,
     "metadata": {},
     "output_type": "execute_result"
    }
   ],
   "source": [
    "df[df.results==\"Business Not Located\"].violations.isna().sum()"
   ]
  },
  {
   "cell_type": "markdown",
   "metadata": {},
   "source": [
    "The classes \"Out of Business\", \"No Entry\", \"Not Ready\" and \"Business Not Located\" do not indicate the presence of serious or critical violations because they are not classified as pass or fail or pass wth conditions. Moreover, the Violations column is almost completely empty for these observations. They do not indicate the presence of serious or critical violations neither by result of inspection nor by violations. Therefore, they are not indicative of our model's target variable and will be deleted. Another solution would be to predict their results based on their past inspections whenevr present. However this would be a lengthy errorsome process, and we already have enough data to work without these observations. "
   ]
  },
  {
   "cell_type": "code",
   "execution_count": 734,
   "metadata": {},
   "outputs": [],
   "source": [
    "df.drop(df[df.results==\"Out of Business\"].index, inplace=True)\n",
    "df.drop(df[df.results==\"No Entry\"].index, inplace=True)\n",
    "df.drop(df[df.results==\"Not Ready\"].index, inplace=True)\n",
    "df.drop(df[df.results==\"Business Not Located\"].index, inplace=True)"
   ]
  },
  {
   "cell_type": "markdown",
   "metadata": {},
   "source": [
    "### Restaurant Risk Levels "
   ]
  },
  {
   "cell_type": "markdown",
   "metadata": {},
   "source": [
    "#### Determining the Risk Level of a Restaurant\n",
    "At the time of licensing, the risk type of the business is determined based on the complexity of food handling practices and the type of food served. Subsequent inspections are determined by risk type. Establishments are categorized as Risk 1, Risk 2, or Risk 3 depending on the type of operation and the potential for causing a food-borne illness. Risk 1 establishments are considered to be high-risk and have complex menus with more risky food handling practices, whereas, Risk 3 establishments are considered to be low-risk and have food that may be packaged in a commercially inspected facility or are nonperishable. \n",
    "\n",
    "#### frequency of inspections\n",
    "The frequency of inspections that an establishment receives per year depends upon its risk type. As a general rule, Risk 1 establishments are inspected at least twice per calendar year; Risk 2 establishments are inspected at least once per calendar year; and Risk 3 establishments are inspected every two years. However, there are many exceptions to this rule, such as additional inspections in response to complaints or suspected food-borne illnesses."
   ]
  },
  {
   "cell_type": "markdown",
   "metadata": {},
   "source": [
    "#### Resource: City of Chicago's Official Site https://webapps1.cityofchicago.org/healthinspection/General_Info.jsp"
   ]
  },
  {
   "cell_type": "code",
   "execution_count": 735,
   "metadata": {
    "scrolled": true
   },
   "outputs": [
    {
     "data": {
      "text/plain": [
       "Risk 1 (High)      33704\n",
       "Risk 2 (Medium)     5537\n",
       "Risk 3 (Low)         121\n",
       "Name: risk, dtype: int64"
      ]
     },
     "execution_count": 735,
     "metadata": {},
     "output_type": "execute_result"
    }
   ],
   "source": [
    "df.risk.value_counts()"
   ]
  },
  {
   "cell_type": "markdown",
   "metadata": {},
   "source": [
    "### Proportions of restaurants with risk 1, 2 & 3"
   ]
  },
  {
   "cell_type": "markdown",
   "metadata": {},
   "source": [
    "It is important to note here that risk1 restaurants are inspected more often, therefore their observations are repeated. To find out how many restaurants are high risk, we need to view by Branch and counting each branch once only (ignoring repeated visits).\n",
    "\n",
    "#### This is because Risk is an attribute of the restaurant, not the observations."
   ]
  },
  {
   "cell_type": "code",
   "execution_count": 736,
   "metadata": {},
   "outputs": [
    {
     "data": {
      "image/png": "[encoded data removed]",
      "text/plain": [
       "<Figure size 360x360 with 1 Axes>"
      ]
     },
     "metadata": {},
     "output_type": "display_data"
    }
   ],
   "source": [
    "restaurants = df.drop_duplicates(subset='license_num')\n",
    "\n",
    "risk_proportions = restaurants.risk.value_counts()\n",
    "labels = risk_proportions.index\n",
    "sizes = risk_proportions.values\n",
    "\n",
    "plt.figure(figsize = (5,5))\n",
    "plt.pie(sizes,labels=labels,autopct='%1.1f%%')\n",
    "plt.title('Proportions of the three Risk types to all the Restaurants',color = 'blue',fontsize = 15);"
   ]
  },
  {
   "cell_type": "markdown",
   "metadata": {},
   "source": [
    "### Risk vs Results"
   ]
  },
  {
   "cell_type": "code",
   "execution_count": 737,
   "metadata": {},
   "outputs": [],
   "source": [
    "risk1_results = df[df.risk==\"Risk 1 (High)\"].results.value_counts()\n",
    "risk2_results = df[df.risk==\"Risk 2 (Medium)\"].results.value_counts()\n",
    "risk3_results = df[df.risk==\"Risk 3 (Low)\"].results.value_counts()"
   ]
  },
  {
   "cell_type": "code",
   "execution_count": 738,
   "metadata": {},
   "outputs": [
    {
     "data": {
      "image/png": "[encoded data removed]",
      "text/plain": [
       "<Figure size 1080x360 with 3 Axes>"
      ]
     },
     "metadata": {},
     "output_type": "display_data"
    }
   ],
   "source": [
    "plt.figure(figsize = (15,5))\n",
    "plt.subplot(1,3,1)\n",
    "plt.pie(risk1_results.values, labels=risk1_results.index, autopct='%1.1f%%')\n",
    "plt.title('Risk#1 Results',color = 'blue',fontsize = 15)\n",
    "plt.subplot(1,3,2)\n",
    "plt.pie(risk2_results.values, labels=risk2_results.index, autopct='%1.1f%%')\n",
    "plt.title('Risk#2 Results',color = 'blue',fontsize = 15)\n",
    "plt.subplot(1,3,3)\n",
    "plt.pie(risk3_results.values, labels=risk3_results.index, autopct='%1.1f%%')\n",
    "plt.title('Risk#3 Results',color = 'blue',fontsize = 15);"
   ]
  },
  {
   "cell_type": "markdown",
   "metadata": {},
   "source": [
    "According to the pie charts above, there is a higher probability of finding serious and critical violations when inspecting high risk restaurants. The probability decreases with the decrease of the risk level."
   ]
  },
  {
   "cell_type": "markdown",
   "metadata": {},
   "source": [
    "## Results Transformation"
   ]
  },
  {
   "cell_type": "markdown",
   "metadata": {},
   "source": [
    "Since we are interested in only two classes: \n",
    "- Pass \n",
    "- Fail or Pass with conditions \n",
    "\n",
    "We will combine the two classes Fail and Pass with Conditions. We will also convert the results from categorical to binary, 1 for failing, 0 for passing. \n",
    "\n",
    "From this point forward, when we refer to failing, it includes both the fail results and the pass with conditions results. "
   ]
  },
  {
   "cell_type": "code",
   "execution_count": 739,
   "metadata": {},
   "outputs": [],
   "source": [
    "df.loc[df.results == 'Fail', \"results\"] = 'Fail'\n",
    "df.loc[df.results == 'Pass w/ Conditions', \"results\"] = 'Fail'\n",
    "df['results'] = df['results'].apply({'Fail':1, 'Pass':0}.get)"
   ]
  },
  {
   "cell_type": "markdown",
   "metadata": {},
   "source": [
    "-----"
   ]
  },
  {
   "cell_type": "markdown",
   "metadata": {},
   "source": [
    "# Feature Re-engineering"
   ]
  },
  {
   "cell_type": "markdown",
   "metadata": {},
   "source": [
    "## Regions"
   ]
  },
  {
   "cell_type": "markdown",
   "metadata": {},
   "source": [
    "An important aspect of analysing our dataset is the location of the restaurant. Various information has been provided to indicate the location of a restarant: address, coordinates, ward, and community area. We will use the community area because it is available in external datasets that we would like use to enrich the information in our dataset.\n",
    "\n",
    "Chicago is made up of 77 community areas (from 1 to 77) that are often grouped into 9 districts or “sides.” The community areas are well defined and do not overlap. \n",
    "\n",
    "#### Here we will make an assumption that community areas have the same size and same population size in order to simplify our calculations. "
   ]
  },
  {
   "cell_type": "markdown",
   "metadata": {},
   "source": [
    "#### It is important to note that when we study a community area in this dataset, the area is repeated due to multiple inspections of the same restaurant in the same area."
   ]
  },
  {
   "cell_type": "markdown",
   "metadata": {},
   "source": [
    "### External Data about Chicago's Community Areas"
   ]
  },
  {
   "cell_type": "markdown",
   "metadata": {},
   "source": [
    "In order to read external data in Rds format, we need to import the rpy2 library:"
   ]
  },
  {
   "cell_type": "code",
   "execution_count": 740,
   "metadata": {},
   "outputs": [],
   "source": [
    "import rpy2.robjects as robjects\n",
    "from rpy2.robjects import pandas2ri\n",
    "\n",
    "pandas2ri.activate()\n",
    "readRDS = robjects.r['readRDS']"
   ]
  },
  {
   "cell_type": "markdown",
   "metadata": {},
   "source": [
    "### Crime "
   ]
  },
  {
   "cell_type": "markdown",
   "metadata": {},
   "source": [
    "The crime dataset represents crime in the city of Chicago from 2001 to 2014. This dataset was downloaded from https://github.com/Chicago/food-inspections-evaluation/tree/master/DATA. The only type of crime registered in this dataset is Burglary."
   ]
  },
  {
   "cell_type": "code",
   "execution_count": 741,
   "metadata": {},
   "outputs": [
    {
     "name": "stderr",
     "output_type": "stream",
     "text": [
      "C:\\Users\\noura\\Anaconda3\\lib\\site-packages\\rpy2-2.9.4-py3.6-win-amd64.egg\\rpy2\\robjects\\pandas2ri.py:191: FutureWarning: from_items is deprecated. Please use DataFrame.from_dict(dict(items), ...) instead. DataFrame.from_dict(OrderedDict(items)) may be used to preserve the key order.\n",
      "  res = PandasDataFrame.from_items(items)\n"
     ]
    }
   ],
   "source": [
    "crime = readRDS('DATA/12_crime.Rds')\n",
    "crime = pandas2ri.ri2py(crime)"
   ]
  },
  {
   "cell_type": "code",
   "execution_count": 742,
   "metadata": {},
   "outputs": [
    {
     "data": {
      "text/html": [
       "<div>\n",
       "<style scoped>\n",
       "    .dataframe tbody tr th:only-of-type {\n",
       "        vertical-align: middle;\n",
       "    }\n",
       "\n",
       "    .dataframe tbody tr th {\n",
       "        vertical-align: top;\n",
       "    }\n",
       "\n",
       "    .dataframe thead th {\n",
       "        text-align: right;\n",
       "    }\n",
       "</style>\n",
       "<table border=\"1\" class=\"dataframe\">\n",
       "  <thead>\n",
       "    <tr style=\"text-align: right;\">\n",
       "      <th></th>\n",
       "      <th>ID</th>\n",
       "      <th>Case_Number</th>\n",
       "      <th>Date</th>\n",
       "      <th>Block</th>\n",
       "      <th>IUCR</th>\n",
       "      <th>Primary_Type</th>\n",
       "      <th>Description</th>\n",
       "      <th>Location_Description</th>\n",
       "      <th>Arrest</th>\n",
       "      <th>Domestic</th>\n",
       "      <th>...</th>\n",
       "      <th>Ward</th>\n",
       "      <th>Community_Area</th>\n",
       "      <th>FBI_Code</th>\n",
       "      <th>X_Coordinate</th>\n",
       "      <th>Y_Coordinate</th>\n",
       "      <th>Year</th>\n",
       "      <th>Updated_On</th>\n",
       "      <th>Latitude</th>\n",
       "      <th>Longitude</th>\n",
       "      <th>Location</th>\n",
       "    </tr>\n",
       "  </thead>\n",
       "  <tbody>\n",
       "    <tr>\n",
       "      <th>0</th>\n",
       "      <td>1310263.0</td>\n",
       "      <td>G000647</td>\n",
       "      <td>11323</td>\n",
       "      <td>053XX W SCHOOL ST</td>\n",
       "      <td>610.0</td>\n",
       "      <td>BURGLARY</td>\n",
       "      <td>FORCIBLE ENTRY</td>\n",
       "      <td>RESIDENCE-GARAGE</td>\n",
       "      <td>0</td>\n",
       "      <td>0</td>\n",
       "      <td>...</td>\n",
       "      <td>NaN</td>\n",
       "      <td>NaN</td>\n",
       "      <td>5.0</td>\n",
       "      <td>1139920.0</td>\n",
       "      <td>1921456.0</td>\n",
       "      <td>2001.0</td>\n",
       "      <td>13238</td>\n",
       "      <td>41.940578</td>\n",
       "      <td>-87.761156</td>\n",
       "      <td>(41.940577989,...</td>\n",
       "    </tr>\n",
       "    <tr>\n",
       "      <th>1</th>\n",
       "      <td>1310374.0</td>\n",
       "      <td>G000129</td>\n",
       "      <td>11323</td>\n",
       "      <td>010XX W FOSTER AV</td>\n",
       "      <td>620.0</td>\n",
       "      <td>BURGLARY</td>\n",
       "      <td>UNLAWFUL ENTRY</td>\n",
       "      <td>APARTMENT</td>\n",
       "      <td>0</td>\n",
       "      <td>0</td>\n",
       "      <td>...</td>\n",
       "      <td>NaN</td>\n",
       "      <td>NaN</td>\n",
       "      <td>5.0</td>\n",
       "      <td>1167952.0</td>\n",
       "      <td>1934657.0</td>\n",
       "      <td>2001.0</td>\n",
       "      <td>13238</td>\n",
       "      <td>41.976242</td>\n",
       "      <td>-87.657746</td>\n",
       "      <td>(41.97624237, ...</td>\n",
       "    </tr>\n",
       "  </tbody>\n",
       "</table>\n",
       "<p>2 rows × 22 columns</p>\n",
       "</div>"
      ],
      "text/plain": [
       "          ID Case_Number   Date              Block   IUCR Primary_Type  \\\n",
       "0  1310263.0     G000647  11323  053XX W SCHOOL ST  610.0     BURGLARY   \n",
       "1  1310374.0     G000129  11323  010XX W FOSTER AV  620.0     BURGLARY   \n",
       "\n",
       "      Description Location_Description  Arrest  Domestic        ...          \\\n",
       "0  FORCIBLE ENTRY   RESIDENCE-GARAGE         0         0        ...           \n",
       "1  UNLAWFUL ENTRY          APARTMENT         0         0        ...           \n",
       "\n",
       "   Ward  Community_Area  FBI_Code  X_Coordinate  Y_Coordinate    Year  \\\n",
       "0   NaN             NaN       5.0     1139920.0     1921456.0  2001.0   \n",
       "1   NaN             NaN       5.0     1167952.0     1934657.0  2001.0   \n",
       "\n",
       "   Updated_On   Latitude  Longitude           Location  \n",
       "0       13238  41.940578 -87.761156  (41.940577989,...  \n",
       "1       13238  41.976242 -87.657746  (41.97624237, ...  \n",
       "\n",
       "[2 rows x 22 columns]"
      ]
     },
     "execution_count": 742,
     "metadata": {},
     "output_type": "execute_result"
    }
   ],
   "source": [
    "crime.head(2)"
   ]
  },
  {
   "cell_type": "code",
   "execution_count": 743,
   "metadata": {},
   "outputs": [
    {
     "data": {
      "text/plain": [
       "32597"
      ]
     },
     "execution_count": 743,
     "metadata": {},
     "output_type": "execute_result"
    }
   ],
   "source": [
    "crime.Community_Area.isnull().sum()"
   ]
  },
  {
   "cell_type": "code",
   "execution_count": 744,
   "metadata": {},
   "outputs": [],
   "source": [
    "null_community_area = crime[crime.Community_Area.isnull()].index\n",
    "crime.drop(null_community_area,inplace=True)"
   ]
  },
  {
   "cell_type": "code",
   "execution_count": 745,
   "metadata": {},
   "outputs": [],
   "source": [
    "crime.Community_Area = crime.Community_Area.astype(int)"
   ]
  },
  {
   "cell_type": "code",
   "execution_count": 746,
   "metadata": {},
   "outputs": [],
   "source": [
    "community_area_crime_frequency = crime.Community_Area.value_counts()"
   ]
  },
  {
   "cell_type": "code",
   "execution_count": 747,
   "metadata": {},
   "outputs": [],
   "source": [
    "df['crime_frequency'] = df.community_areas.apply(lambda x:community_area_crime_frequency[x])"
   ]
  },
  {
   "cell_type": "markdown",
   "metadata": {},
   "source": [
    "------------------------------------------------------------------------------------------------------------------------"
   ]
  },
  {
   "cell_type": "markdown",
   "metadata": {},
   "source": [
    "### Sanitation"
   ]
  },
  {
   "cell_type": "markdown",
   "metadata": {},
   "source": [
    "This dataset was downloaded from https://github.com/Chicago/food-inspections-evaluation/tree/master/DATA. After going through the sanitation dataframe, it seems that the observations correspond to sanitation code violations. The observations are registered along with the community area number, therefore we will use the frequency of the occurrence of a community area to represent the number of sanitation code violations in a community area. This number represents a proxy for the sanitation of that community area."
   ]
  },
  {
   "cell_type": "code",
   "execution_count": 748,
   "metadata": {},
   "outputs": [
    {
     "name": "stderr",
     "output_type": "stream",
     "text": [
      "C:\\Users\\noura\\Anaconda3\\lib\\site-packages\\rpy2-2.9.4-py3.6-win-amd64.egg\\rpy2\\robjects\\pandas2ri.py:191: FutureWarning: from_items is deprecated. Please use DataFrame.from_dict(dict(items), ...) instead. DataFrame.from_dict(OrderedDict(items)) may be used to preserve the key order.\n",
      "  res = PandasDataFrame.from_items(items)\n"
     ]
    }
   ],
   "source": [
    "sanitation = readRDS('DATA/15_sanitation_code.Rds')\n",
    "sanitation = pandas2ri.ri2py(sanitation)"
   ]
  },
  {
   "cell_type": "code",
   "execution_count": 749,
   "metadata": {
    "scrolled": false
   },
   "outputs": [
    {
     "data": {
      "text/html": [
       "<div>\n",
       "<style scoped>\n",
       "    .dataframe tbody tr th:only-of-type {\n",
       "        vertical-align: middle;\n",
       "    }\n",
       "\n",
       "    .dataframe tbody tr th {\n",
       "        vertical-align: top;\n",
       "    }\n",
       "\n",
       "    .dataframe thead th {\n",
       "        text-align: right;\n",
       "    }\n",
       "</style>\n",
       "<table border=\"1\" class=\"dataframe\">\n",
       "  <thead>\n",
       "    <tr style=\"text-align: right;\">\n",
       "      <th></th>\n",
       "      <th>Creation_Date</th>\n",
       "      <th>Status</th>\n",
       "      <th>Completion_Date</th>\n",
       "      <th>Service_Request_Number</th>\n",
       "      <th>Type_of_Service_Request</th>\n",
       "      <th>What_is_the_Nature_of_this_Code_Violation</th>\n",
       "      <th>Street_Address</th>\n",
       "      <th>ZIP_Code</th>\n",
       "      <th>X_Coordinate</th>\n",
       "      <th>Y_Coordinate</th>\n",
       "      <th>Ward</th>\n",
       "      <th>Police_District</th>\n",
       "      <th>Community_Area</th>\n",
       "      <th>Latitude</th>\n",
       "      <th>Longitude</th>\n",
       "      <th>Location</th>\n",
       "    </tr>\n",
       "  </thead>\n",
       "  <tbody>\n",
       "    <tr>\n",
       "      <th>0</th>\n",
       "      <td>10959</td>\n",
       "      <td>Completed</td>\n",
       "      <td>15061</td>\n",
       "      <td>00-00002158</td>\n",
       "      <td>Sanitation Cod...</td>\n",
       "      <td></td>\n",
       "      <td>4853 S WOOD</td>\n",
       "      <td>NaN</td>\n",
       "      <td>1.165167e+06</td>\n",
       "      <td>1.872509e+06</td>\n",
       "      <td>20.0</td>\n",
       "      <td>9.0</td>\n",
       "      <td>61.0</td>\n",
       "      <td>41.805763</td>\n",
       "      <td>-87.669757</td>\n",
       "      <td>(41.8057634358...</td>\n",
       "    </tr>\n",
       "    <tr>\n",
       "      <th>1</th>\n",
       "      <td>10959</td>\n",
       "      <td>Completed</td>\n",
       "      <td>15061</td>\n",
       "      <td>00-00002178</td>\n",
       "      <td>Sanitation Cod...</td>\n",
       "      <td></td>\n",
       "      <td>4837 S DAMEN</td>\n",
       "      <td>NaN</td>\n",
       "      <td>1.163839e+06</td>\n",
       "      <td>1.872588e+06</td>\n",
       "      <td>20.0</td>\n",
       "      <td>9.0</td>\n",
       "      <td>61.0</td>\n",
       "      <td>41.806008</td>\n",
       "      <td>-87.674623</td>\n",
       "      <td>(41.8060077431...</td>\n",
       "    </tr>\n",
       "  </tbody>\n",
       "</table>\n",
       "</div>"
      ],
      "text/plain": [
       "   Creation_Date     Status  Completion_Date Service_Request_Number  \\\n",
       "0          10959  Completed            15061        00-00002158       \n",
       "1          10959  Completed            15061        00-00002178       \n",
       "\n",
       "  Type_of_Service_Request What_is_the_Nature_of_this_Code_Violation  \\\n",
       "0  Sanitation Cod...                                                  \n",
       "1  Sanitation Cod...                                                  \n",
       "\n",
       "  Street_Address  ZIP_Code  X_Coordinate  Y_Coordinate  Ward  Police_District  \\\n",
       "0    4853 S WOOD       NaN  1.165167e+06  1.872509e+06  20.0              9.0   \n",
       "1   4837 S DAMEN       NaN  1.163839e+06  1.872588e+06  20.0              9.0   \n",
       "\n",
       "   Community_Area   Latitude  Longitude           Location  \n",
       "0            61.0  41.805763 -87.669757  (41.8057634358...  \n",
       "1            61.0  41.806008 -87.674623  (41.8060077431...  "
      ]
     },
     "execution_count": 749,
     "metadata": {},
     "output_type": "execute_result"
    }
   ],
   "source": [
    "sanitation.head(2)"
   ]
  },
  {
   "cell_type": "code",
   "execution_count": 750,
   "metadata": {},
   "outputs": [
    {
     "data": {
      "text/plain": [
       "4"
      ]
     },
     "execution_count": 750,
     "metadata": {},
     "output_type": "execute_result"
    }
   ],
   "source": [
    "sanitation.Community_Area.isnull().sum()"
   ]
  },
  {
   "cell_type": "code",
   "execution_count": 751,
   "metadata": {},
   "outputs": [],
   "source": [
    "null_community_area = sanitation[sanitation.Community_Area.isnull()].index"
   ]
  },
  {
   "cell_type": "code",
   "execution_count": 752,
   "metadata": {},
   "outputs": [],
   "source": [
    "sanitation.drop(null_community_area,inplace=True)"
   ]
  },
  {
   "cell_type": "code",
   "execution_count": 753,
   "metadata": {},
   "outputs": [],
   "source": [
    "sanitation.Community_Area = sanitation.Community_Area.astype(int)"
   ]
  },
  {
   "cell_type": "code",
   "execution_count": 754,
   "metadata": {},
   "outputs": [],
   "source": [
    "sanitation.Community_Area.value_counts();"
   ]
  },
  {
   "cell_type": "code",
   "execution_count": 755,
   "metadata": {},
   "outputs": [
    {
     "data": {
      "text/html": [
       "<div>\n",
       "<style scoped>\n",
       "    .dataframe tbody tr th:only-of-type {\n",
       "        vertical-align: middle;\n",
       "    }\n",
       "\n",
       "    .dataframe tbody tr th {\n",
       "        vertical-align: top;\n",
       "    }\n",
       "\n",
       "    .dataframe thead th {\n",
       "        text-align: right;\n",
       "    }\n",
       "</style>\n",
       "<table border=\"1\" class=\"dataframe\">\n",
       "  <thead>\n",
       "    <tr style=\"text-align: right;\">\n",
       "      <th></th>\n",
       "      <th>Creation_Date</th>\n",
       "      <th>Status</th>\n",
       "      <th>Completion_Date</th>\n",
       "      <th>Service_Request_Number</th>\n",
       "      <th>Type_of_Service_Request</th>\n",
       "      <th>What_is_the_Nature_of_this_Code_Violation</th>\n",
       "      <th>Street_Address</th>\n",
       "      <th>ZIP_Code</th>\n",
       "      <th>X_Coordinate</th>\n",
       "      <th>Y_Coordinate</th>\n",
       "      <th>Ward</th>\n",
       "      <th>Police_District</th>\n",
       "      <th>Community_Area</th>\n",
       "      <th>Latitude</th>\n",
       "      <th>Longitude</th>\n",
       "      <th>Location</th>\n",
       "    </tr>\n",
       "  </thead>\n",
       "  <tbody>\n",
       "    <tr>\n",
       "      <th>1344</th>\n",
       "      <td>15016</td>\n",
       "      <td>Completed</td>\n",
       "      <td>15037</td>\n",
       "      <td>11-00239034</td>\n",
       "      <td>Sanitation Cod...</td>\n",
       "      <td>Dumpster not b...</td>\n",
       "      <td>7216 W IRVING ...</td>\n",
       "      <td>0.0</td>\n",
       "      <td>1.127172e+06</td>\n",
       "      <td>1.925811e+06</td>\n",
       "      <td>0.0</td>\n",
       "      <td>31.0</td>\n",
       "      <td>0</td>\n",
       "      <td>41.952754</td>\n",
       "      <td>-87.807912</td>\n",
       "      <td>(41.9527535522...</td>\n",
       "    </tr>\n",
       "    <tr>\n",
       "      <th>1567</th>\n",
       "      <td>15019</td>\n",
       "      <td>Completed</td>\n",
       "      <td>15044</td>\n",
       "      <td>11-00254652</td>\n",
       "      <td>Sanitation Cod...</td>\n",
       "      <td>Other</td>\n",
       "      <td>5135 N ORIOLE AVE</td>\n",
       "      <td>0.0</td>\n",
       "      <td>1.124674e+06</td>\n",
       "      <td>1.933462e+06</td>\n",
       "      <td>0.0</td>\n",
       "      <td>31.0</td>\n",
       "      <td>0</td>\n",
       "      <td>41.973790</td>\n",
       "      <td>-87.816924</td>\n",
       "      <td>(41.9737901959...</td>\n",
       "    </tr>\n",
       "    <tr>\n",
       "      <th>16359</th>\n",
       "      <td>15281</td>\n",
       "      <td>Completed</td>\n",
       "      <td>15310</td>\n",
       "      <td>11-04067254</td>\n",
       "      <td>Sanitation Cod...</td>\n",
       "      <td></td>\n",
       "      <td>11900 S ASHLAN...</td>\n",
       "      <td>60643.0</td>\n",
       "      <td>1.167819e+06</td>\n",
       "      <td>1.825805e+06</td>\n",
       "      <td>0.0</td>\n",
       "      <td>0.0</td>\n",
       "      <td>0</td>\n",
       "      <td>41.677544</td>\n",
       "      <td>-87.661365</td>\n",
       "      <td>(41.6775442597...</td>\n",
       "    </tr>\n",
       "  </tbody>\n",
       "</table>\n",
       "</div>"
      ],
      "text/plain": [
       "       Creation_Date     Status  Completion_Date Service_Request_Number  \\\n",
       "1344           15016  Completed            15037        11-00239034       \n",
       "1567           15019  Completed            15044        11-00254652       \n",
       "16359          15281  Completed            15310        11-04067254       \n",
       "\n",
       "      Type_of_Service_Request What_is_the_Nature_of_this_Code_Violation  \\\n",
       "1344   Sanitation Cod...       Dumpster not b...                          \n",
       "1567   Sanitation Cod...                   Other                          \n",
       "16359  Sanitation Cod...                                                  \n",
       "\n",
       "          Street_Address  ZIP_Code  X_Coordinate  Y_Coordinate  Ward  \\\n",
       "1344   7216 W IRVING ...       0.0  1.127172e+06  1.925811e+06   0.0   \n",
       "1567   5135 N ORIOLE AVE       0.0  1.124674e+06  1.933462e+06   0.0   \n",
       "16359  11900 S ASHLAN...   60643.0  1.167819e+06  1.825805e+06   0.0   \n",
       "\n",
       "       Police_District  Community_Area   Latitude  Longitude  \\\n",
       "1344              31.0               0  41.952754 -87.807912   \n",
       "1567              31.0               0  41.973790 -87.816924   \n",
       "16359              0.0               0  41.677544 -87.661365   \n",
       "\n",
       "                Location  \n",
       "1344   (41.9527535522...  \n",
       "1567   (41.9737901959...  \n",
       "16359  (41.6775442597...  "
      ]
     },
     "execution_count": 755,
     "metadata": {},
     "output_type": "execute_result"
    }
   ],
   "source": [
    "sanitation[sanitation.Community_Area == 0]"
   ]
  },
  {
   "cell_type": "markdown",
   "metadata": {},
   "source": [
    "After checking the unique values of Community areas in the dataframe, we found 3 entries with the community area number 0. I searched online for these three locations using the given addresses and zip codes when provided. The first two observations are in an area named \"Norridge\". The third observation is in \"Calumet Park\". Norridge and Calumet Park are not included in the 77 community areas of Chicago. Therefore, these three observations will be deleted. "
   ]
  },
  {
   "cell_type": "code",
   "execution_count": 756,
   "metadata": {},
   "outputs": [],
   "source": [
    "sanitation.drop(sanitation[sanitation.Community_Area == 0].index,inplace=True)"
   ]
  },
  {
   "cell_type": "code",
   "execution_count": 757,
   "metadata": {},
   "outputs": [],
   "source": [
    "sanitaion_community_areas = sanitation.Community_Area.value_counts()"
   ]
  },
  {
   "cell_type": "code",
   "execution_count": 758,
   "metadata": {},
   "outputs": [],
   "source": [
    "df['sanitation_reports'] = df.community_areas.apply(lambda x:sanitaion_community_areas[x])"
   ]
  },
  {
   "cell_type": "markdown",
   "metadata": {},
   "source": [
    "-----------------------------------------------------------------------------------------------------------------"
   ]
  },
  {
   "cell_type": "markdown",
   "metadata": {},
   "source": [
    "### Poverty, Education & Unemployment"
   ]
  },
  {
   "cell_type": "markdown",
   "metadata": {},
   "source": [
    "Based on Census Data - Selected socioeconomic indicators in Chicago, 2008 – 2012\n",
    "This dataset contains a selection of six socioeconomic indicators of public health significance and a “hardship index,” by Chicago community area, for the years 2007 – 2011.  The hardship index is a score that incorporates each of the\n",
    "six selected socioeconomic indicators. Scores on the index can range from 1 to 100, with a higher\n",
    "index number representing a greater level of hardship. The scores are standardized according to the\n",
    "data for the 77 community areas."
   ]
  },
  {
   "cell_type": "code",
   "execution_count": 759,
   "metadata": {},
   "outputs": [],
   "source": [
    "poverty = pd.read_csv('DATA/below_poverty_level_by_community.csv')"
   ]
  },
  {
   "cell_type": "code",
   "execution_count": 760,
   "metadata": {
    "scrolled": false
   },
   "outputs": [
    {
     "data": {
      "text/html": [
       "<div>\n",
       "<style scoped>\n",
       "    .dataframe tbody tr th:only-of-type {\n",
       "        vertical-align: middle;\n",
       "    }\n",
       "\n",
       "    .dataframe tbody tr th {\n",
       "        vertical-align: top;\n",
       "    }\n",
       "\n",
       "    .dataframe thead th {\n",
       "        text-align: right;\n",
       "    }\n",
       "</style>\n",
       "<table border=\"1\" class=\"dataframe\">\n",
       "  <thead>\n",
       "    <tr style=\"text-align: right;\">\n",
       "      <th></th>\n",
       "      <th>Community Area Number</th>\n",
       "      <th>COMMUNITY AREA NAME</th>\n",
       "      <th>PERCENT OF HOUSING CROWDED</th>\n",
       "      <th>PERCENT HOUSEHOLDS BELOW POVERTY</th>\n",
       "      <th>PERCENT AGED 16+ UNEMPLOYED</th>\n",
       "      <th>PERCENT AGED 25+ WITHOUT HIGH SCHOOL DIPLOMA</th>\n",
       "      <th>PERCENT AGED UNDER 18 OR OVER 64</th>\n",
       "      <th>PER CAPITA INCOME</th>\n",
       "      <th>HARDSHIP INDEX</th>\n",
       "    </tr>\n",
       "  </thead>\n",
       "  <tbody>\n",
       "    <tr>\n",
       "      <th>0</th>\n",
       "      <td>5.0</td>\n",
       "      <td>North Center</td>\n",
       "      <td>0.3</td>\n",
       "      <td>7.5</td>\n",
       "      <td>5.2</td>\n",
       "      <td>4.5</td>\n",
       "      <td>26.2</td>\n",
       "      <td>57123</td>\n",
       "      <td>6.0</td>\n",
       "    </tr>\n",
       "    <tr>\n",
       "      <th>1</th>\n",
       "      <td>75.0</td>\n",
       "      <td>Morgan Park</td>\n",
       "      <td>0.8</td>\n",
       "      <td>13.2</td>\n",
       "      <td>15.0</td>\n",
       "      <td>10.8</td>\n",
       "      <td>40.3</td>\n",
       "      <td>27149</td>\n",
       "      <td>30.0</td>\n",
       "    </tr>\n",
       "  </tbody>\n",
       "</table>\n",
       "</div>"
      ],
      "text/plain": [
       "   Community Area Number COMMUNITY AREA NAME  PERCENT OF HOUSING CROWDED  \\\n",
       "0                5.0           North Center                 0.3            \n",
       "1               75.0            Morgan Park                 0.8            \n",
       "\n",
       "   PERCENT HOUSEHOLDS BELOW POVERTY  PERCENT AGED 16+ UNEMPLOYED  \\\n",
       "0                7.5                               5.2             \n",
       "1               13.2                              15.0             \n",
       "\n",
       "   PERCENT AGED 25+ WITHOUT HIGH SCHOOL DIPLOMA  \\\n",
       "0                4.5                              \n",
       "1               10.8                              \n",
       "\n",
       "   PERCENT AGED UNDER 18 OR OVER 64  PER CAPITA INCOME   HARDSHIP INDEX  \n",
       "0               26.2                             57123              6.0  \n",
       "1               40.3                             27149             30.0  "
      ]
     },
     "execution_count": 760,
     "metadata": {},
     "output_type": "execute_result"
    }
   ],
   "source": [
    "poverty.head(2)"
   ]
  },
  {
   "cell_type": "code",
   "execution_count": 761,
   "metadata": {},
   "outputs": [
    {
     "data": {
      "text/html": [
       "<div>\n",
       "<style scoped>\n",
       "    .dataframe tbody tr th:only-of-type {\n",
       "        vertical-align: middle;\n",
       "    }\n",
       "\n",
       "    .dataframe tbody tr th {\n",
       "        vertical-align: top;\n",
       "    }\n",
       "\n",
       "    .dataframe thead th {\n",
       "        text-align: right;\n",
       "    }\n",
       "</style>\n",
       "<table border=\"1\" class=\"dataframe\">\n",
       "  <thead>\n",
       "    <tr style=\"text-align: right;\">\n",
       "      <th></th>\n",
       "      <th>Community Area Number</th>\n",
       "      <th>COMMUNITY AREA NAME</th>\n",
       "      <th>PERCENT OF HOUSING CROWDED</th>\n",
       "      <th>PERCENT HOUSEHOLDS BELOW POVERTY</th>\n",
       "      <th>PERCENT AGED 16+ UNEMPLOYED</th>\n",
       "      <th>PERCENT AGED 25+ WITHOUT HIGH SCHOOL DIPLOMA</th>\n",
       "      <th>PERCENT AGED UNDER 18 OR OVER 64</th>\n",
       "      <th>PER CAPITA INCOME</th>\n",
       "      <th>HARDSHIP INDEX</th>\n",
       "    </tr>\n",
       "  </thead>\n",
       "  <tbody>\n",
       "    <tr>\n",
       "      <th>47</th>\n",
       "      <td>NaN</td>\n",
       "      <td>CHICAGO</td>\n",
       "      <td>4.7</td>\n",
       "      <td>19.7</td>\n",
       "      <td>12.9</td>\n",
       "      <td>19.5</td>\n",
       "      <td>33.5</td>\n",
       "      <td>28202</td>\n",
       "      <td>NaN</td>\n",
       "    </tr>\n",
       "  </tbody>\n",
       "</table>\n",
       "</div>"
      ],
      "text/plain": [
       "    Community Area Number COMMUNITY AREA NAME  PERCENT OF HOUSING CROWDED  \\\n",
       "47                NaN                CHICAGO                 4.7            \n",
       "\n",
       "    PERCENT HOUSEHOLDS BELOW POVERTY  PERCENT AGED 16+ UNEMPLOYED  \\\n",
       "47               19.7                              12.9             \n",
       "\n",
       "    PERCENT AGED 25+ WITHOUT HIGH SCHOOL DIPLOMA  \\\n",
       "47               19.5                              \n",
       "\n",
       "    PERCENT AGED UNDER 18 OR OVER 64  PER CAPITA INCOME   HARDSHIP INDEX  \n",
       "47               33.5                             28202              NaN  "
      ]
     },
     "execution_count": 761,
     "metadata": {},
     "output_type": "execute_result"
    }
   ],
   "source": [
    "poverty[poverty[\"Community Area Number\"].isnull()]"
   ]
  },
  {
   "cell_type": "code",
   "execution_count": 762,
   "metadata": {},
   "outputs": [],
   "source": [
    "poverty.drop(47,inplace=True)"
   ]
  },
  {
   "cell_type": "code",
   "execution_count": 763,
   "metadata": {},
   "outputs": [],
   "source": [
    "poverty[\"Community Area Number\"] = poverty[\"Community Area Number\"].astype(int)"
   ]
  },
  {
   "cell_type": "markdown",
   "metadata": {},
   "source": [
    "#### Add the hardship index to our dataframe"
   ]
  },
  {
   "cell_type": "code",
   "execution_count": 764,
   "metadata": {},
   "outputs": [],
   "source": [
    "hardship = poverty[['Community Area Number','HARDSHIP INDEX']].set_index('Community Area Number')"
   ]
  },
  {
   "cell_type": "code",
   "execution_count": 765,
   "metadata": {},
   "outputs": [],
   "source": [
    "df['hardship_index'] = df.apply(lambda row: hardship.loc[row.community_areas,'HARDSHIP INDEX'],axis=1)"
   ]
  },
  {
   "cell_type": "markdown",
   "metadata": {},
   "source": [
    "#### Add the community area name to our dataframe"
   ]
  },
  {
   "cell_type": "code",
   "execution_count": 766,
   "metadata": {},
   "outputs": [],
   "source": [
    "community_name = poverty[['Community Area Number','COMMUNITY AREA NAME']].set_index('Community Area Number')"
   ]
  },
  {
   "cell_type": "code",
   "execution_count": 767,
   "metadata": {},
   "outputs": [],
   "source": [
    "df['community_name'] = df.apply(lambda row: community_name.loc[row.community_areas,'COMMUNITY AREA NAME'],axis=1)"
   ]
  },
  {
   "cell_type": "markdown",
   "metadata": {},
   "source": [
    "### Community Areas Crime, Sanitation & Hardship Index "
   ]
  },
  {
   "cell_type": "code",
   "execution_count": 768,
   "metadata": {},
   "outputs": [],
   "source": [
    "from sklearn.preprocessing import StandardScaler\n",
    "ss = StandardScaler()"
   ]
  },
  {
   "cell_type": "code",
   "execution_count": 769,
   "metadata": {},
   "outputs": [
    {
     "name": "stderr",
     "output_type": "stream",
     "text": [
      "C:\\Users\\noura\\Anaconda3\\lib\\site-packages\\sklearn\\utils\\validation.py:475: DataConversionWarning: Data with input dtype int64 was converted to float64 by StandardScaler.\n",
      "  warnings.warn(msg, DataConversionWarning)\n",
      "C:\\Users\\noura\\Anaconda3\\lib\\site-packages\\sklearn\\utils\\validation.py:475: DataConversionWarning: Data with input dtype int64 was converted to float64 by StandardScaler.\n",
      "  warnings.warn(msg, DataConversionWarning)\n",
      "C:\\Users\\noura\\Anaconda3\\lib\\site-packages\\sklearn\\utils\\validation.py:475: DataConversionWarning: Data with input dtype int64 was converted to float64 by StandardScaler.\n",
      "  warnings.warn(msg, DataConversionWarning)\n",
      "C:\\Users\\noura\\Anaconda3\\lib\\site-packages\\sklearn\\utils\\validation.py:475: DataConversionWarning: Data with input dtype int64 was converted to float64 by StandardScaler.\n",
      "  warnings.warn(msg, DataConversionWarning)\n"
     ]
    }
   ],
   "source": [
    "y1 = ss.fit_transform(df.crime_frequency.values.reshape(-1, 1))\n",
    "y2 = ss.fit_transform(df.sanitation_reports.values.reshape(-1, 1))\n",
    "y3 = ss.fit_transform(df.hardship_index.values.reshape(-1,1))"
   ]
  },
  {
   "cell_type": "code",
   "execution_count": 770,
   "metadata": {},
   "outputs": [],
   "source": [
    "y1.shape = (39362, )"
   ]
  },
  {
   "cell_type": "code",
   "execution_count": 771,
   "metadata": {},
   "outputs": [],
   "source": [
    "y2.shape = (39362, )"
   ]
  },
  {
   "cell_type": "code",
   "execution_count": 772,
   "metadata": {},
   "outputs": [],
   "source": [
    "y3.shape = (39362, )"
   ]
  },
  {
   "cell_type": "code",
   "execution_count": 773,
   "metadata": {},
   "outputs": [
    {
     "name": "stderr",
     "output_type": "stream",
     "text": [
      "C:\\Users\\noura\\Anaconda3\\lib\\site-packages\\matplotlib\\legend.py:938: UserWarning: Legend does not support <matplotlib.axes._subplots.AxesSubplot object at 0x000001D487AAB1D0> instances.\n",
      "A proxy artist may be used instead.\n",
      "See: http://matplotlib.org/users/legend_guide.html#creating-artists-specifically-for-adding-to-the-legend-aka-proxy-artists\n",
      "  \"aka-proxy-artists\".format(orig_handle)\n",
      "C:\\Users\\noura\\Anaconda3\\lib\\site-packages\\matplotlib\\legend.py:938: UserWarning: Legend does not support <matplotlib.axes._subplots.AxesSubplot object at 0x000001D487AAB1D0> instances.\n",
      "A proxy artist may be used instead.\n",
      "See: http://matplotlib.org/users/legend_guide.html#creating-artists-specifically-for-adding-to-the-legend-aka-proxy-artists\n",
      "  \"aka-proxy-artists\".format(orig_handle)\n",
      "C:\\Users\\noura\\Anaconda3\\lib\\site-packages\\matplotlib\\legend.py:938: UserWarning: Legend does not support <matplotlib.axes._subplots.AxesSubplot object at 0x000001D487AAB1D0> instances.\n",
      "A proxy artist may be used instead.\n",
      "See: http://matplotlib.org/users/legend_guide.html#creating-artists-specifically-for-adding-to-the-legend-aka-proxy-artists\n",
      "  \"aka-proxy-artists\".format(orig_handle)\n"
     ]
    },
    {
     "data": {
      "image/png": "[encoded data removed]",
      "text/plain": [
       "<Figure size 432x432 with 1 Axes>"
      ]
     },
     "metadata": {},
     "output_type": "display_data"
    }
   ],
   "source": [
    "plt.figure(figsize=(6,6))\n",
    "crime_plot = sns.scatterplot(x=df.community_areas,y=y1, alpha=0.1, label='crime') #crime\n",
    "sanitation_plot = sns.scatterplot(x=df.community_areas,y=y2, alpha=0.1, label='sanitation') #sanitation\n",
    "hardship_plot = sns.scatterplot(x=df.community_areas,y=y3, alpha=0.1, label='hardship') #hardship\n",
    "plt.legend(handles=[crime_plot,sanitation_plot,hardship_plot])\n",
    "plt.title('hardship index, Crime & Sanitation by Community Area')\n",
    "\n",
    "plt.legend();"
   ]
  },
  {
   "cell_type": "code",
   "execution_count": 774,
   "metadata": {},
   "outputs": [
    {
     "data": {
      "image/png": "[encoded data removed]",
      "text/plain": [
       "<Figure size 1296x360 with 3 Axes>"
      ]
     },
     "metadata": {},
     "output_type": "display_data"
    }
   ],
   "source": [
    "plt.figure(figsize=(18,5))\n",
    "plt.subplot(1,3,1)\n",
    "sns.scatterplot(x=df.community_areas,y=y1, alpha=0.05) #crime\n",
    "sns.scatterplot(x=df.community_areas,y=y2, alpha=0.05) #sanitation\n",
    "plt.title('crime & sanitation by community area')\n",
    "plt.subplot(1,3,2)\n",
    "sns.scatterplot(x=df.community_areas,y=y1, alpha=0.05) #crime\n",
    "sns.scatterplot(x=df.community_areas,y=y3, alpha=0.05) #hardship\n",
    "plt.title('crime & hardship index by community area')\n",
    "plt.subplot(1,3,3)\n",
    "sns.scatterplot(x=df.community_areas,y=y2, alpha=0.05) #sanitation\n",
    "sns.scatterplot(x=df.community_areas,y=y3, alpha=0.05);#hardship\n",
    "plt.title('hardship index & sanitation by community area');"
   ]
  },
  {
   "cell_type": "code",
   "execution_count": 775,
   "metadata": {},
   "outputs": [],
   "source": [
    "s = df.pivot_table(index=[\"community_areas\",'hardship_index'], aggfunc='count')['sanitation_reports']"
   ]
  },
  {
   "cell_type": "markdown",
   "metadata": {},
   "source": [
    "#### Community Areas with highest crime reports"
   ]
  },
  {
   "cell_type": "code",
   "execution_count": 776,
   "metadata": {
    "scrolled": false
   },
   "outputs": [
    {
     "data": {
      "text/plain": [
       "array([ 6, 22, 24, 25, 49, 66, 67, 68, 71])"
      ]
     },
     "execution_count": 776,
     "metadata": {},
     "output_type": "execute_result"
    }
   ],
   "source": [
    "np.unique(df[df.crime_frequency >8000].community_areas)"
   ]
  },
  {
   "cell_type": "markdown",
   "metadata": {},
   "source": [
    "#### Community Areas with highest sanitation reports"
   ]
  },
  {
   "cell_type": "code",
   "execution_count": 777,
   "metadata": {},
   "outputs": [
    {
     "data": {
      "text/plain": [
       "array([ 7, 22, 23, 24, 25, 66, 67, 71])"
      ]
     },
     "execution_count": 777,
     "metadata": {},
     "output_type": "execute_result"
    }
   ],
   "source": [
    "np.unique(df[df.sanitation_reports>2000].community_areas)"
   ]
  },
  {
   "cell_type": "markdown",
   "metadata": {},
   "source": [
    "#### Community Areas with highest hardship index"
   ]
  },
  {
   "cell_type": "code",
   "execution_count": 778,
   "metadata": {},
   "outputs": [
    {
     "data": {
      "text/plain": [
       "array([23, 26, 27, 29, 30, 34, 37, 40, 54, 58, 61, 63, 67, 68])"
      ]
     },
     "execution_count": 778,
     "metadata": {},
     "output_type": "execute_result"
    }
   ],
   "source": [
    "np.unique(df[df.hardship_index > 80].community_areas)"
   ]
  },
  {
   "cell_type": "markdown",
   "metadata": {},
   "source": [
    "There is an overlap between the crime and sanitation levels of community areas, but not with the hardship index. This can be seen visually"
   ]
  },
  {
   "cell_type": "markdown",
   "metadata": {},
   "source": [
    "----------------"
   ]
  },
  {
   "cell_type": "markdown",
   "metadata": {},
   "source": [
    "#### Top Five Community Areas with the largest number of restaurants"
   ]
  },
  {
   "cell_type": "code",
   "execution_count": 779,
   "metadata": {},
   "outputs": [
    {
     "data": {
      "text/plain": [
       "37    1068\n",
       "38     983\n",
       "29     723\n",
       "57     695\n",
       "25     544\n",
       "68     483\n",
       "23     317\n",
       "Name: community_areas, dtype: int64"
      ]
     },
     "execution_count": 779,
     "metadata": {},
     "output_type": "execute_result"
    }
   ],
   "source": [
    "restaurants = df.drop_duplicates('license_num')\n",
    "restaurants.community_areas.value_counts()[:7]"
   ]
  },
  {
   "cell_type": "markdown",
   "metadata": {},
   "source": [
    "#### Top Five Community Areas with the largest number of failing restaurants"
   ]
  },
  {
   "cell_type": "code",
   "execution_count": 780,
   "metadata": {},
   "outputs": [
    {
     "data": {
      "text/plain": [
       "37    668\n",
       "38    521\n",
       "29    455\n",
       "57    408\n",
       "25    303\n",
       "68    294\n",
       "23    203\n",
       "Name: community_areas, dtype: int64"
      ]
     },
     "execution_count": 780,
     "metadata": {},
     "output_type": "execute_result"
    }
   ],
   "source": [
    "restaurants[restaurants.results==1].community_areas.value_counts()[:7]"
   ]
  },
  {
   "cell_type": "markdown",
   "metadata": {},
   "source": [
    "#### Top Five Community Areas with the largest number of passing restaurants"
   ]
  },
  {
   "cell_type": "code",
   "execution_count": 781,
   "metadata": {},
   "outputs": [
    {
     "data": {
      "text/plain": [
       "38    462\n",
       "37    400\n",
       "57    287\n",
       "29    268\n",
       "25    241\n",
       "68    189\n",
       "23    114\n",
       "Name: community_areas, dtype: int64"
      ]
     },
     "execution_count": 781,
     "metadata": {},
     "output_type": "execute_result"
    }
   ],
   "source": [
    "restaurants[restaurants.results==0].community_areas.value_counts()[:7]"
   ]
  },
  {
   "cell_type": "markdown",
   "metadata": {},
   "source": [
    "We tried to find out which areas contain the highest number of failed inspections, butwe found that the number of passing restaurants and failing restaurants is propotional to the number of restaurants in a community area, and consistent across the top 7 community area. Therefore we did not find any trend here. "
   ]
  },
  {
   "cell_type": "markdown",
   "metadata": {},
   "source": [
    "---"
   ]
  },
  {
   "cell_type": "markdown",
   "metadata": {},
   "source": [
    "### Crime, Sanitation & Hardship Index vs Results"
   ]
  },
  {
   "cell_type": "code",
   "execution_count": 785,
   "metadata": {},
   "outputs": [
    {
     "data": {
      "image/png": "[encoded data removed]",
      "text/plain": [
       "<Figure size 1008x288 with 3 Axes>"
      ]
     },
     "metadata": {},
     "output_type": "display_data"
    }
   ],
   "source": [
    "plt.figure(figsize=(14,4))\n",
    "plt.subplot(1,3,1)\n",
    "sns.scatterplot(restaurants.crime_frequency,restaurants.results, alpha=0.007)\n",
    "plt.title('crime vs results')\n",
    "plt.subplot(1,3,2)\n",
    "sns.scatterplot(restaurants.sanitation_reports,restaurants.results, alpha=0.007)\n",
    "plt.title('sanitation vs results')\n",
    "plt.subplot(1,3,3)\n",
    "sns.scatterplot(restaurants.hardship_index,restaurants.results, alpha=0.007)\n",
    "plt.title('hardship index vs results');"
   ]
  },
  {
   "cell_type": "markdown",
   "metadata": {},
   "source": [
    "According to the plots above, whether crime rates are high or not does not change the frequency of passes or failures. Same for sanitation and hardship index. Distribution of results looks equal across the two classes regardless of the crime, sanitation & hardship index. Hardship shows some difference between pass and fail results when the hardship index is low, but not a clear difference."
   ]
  },
  {
   "cell_type": "markdown",
   "metadata": {},
   "source": [
    "---------------------------------------------------------------------------------------------------------------"
   ]
  },
  {
   "cell_type": "markdown",
   "metadata": {},
   "source": [
    "## Frequency of Inspections & Failures"
   ]
  },
  {
   "cell_type": "markdown",
   "metadata": {},
   "source": [
    "#### Number of Inspections per restaurant \n",
    "\n",
    "One important aspect of our data is that we have historical data about our observations because some restaurants have already been visited more than once. We would like to know the number of times a restaurant had inspection visits. We use the license number and inspection date to find the number of inspections per restaurant."
   ]
  },
  {
   "cell_type": "code",
   "execution_count": 786,
   "metadata": {},
   "outputs": [],
   "source": [
    "num_of_inspections_per_license = df.groupby([\"license_num\",\"inspection_date\"]).count().reset_index()[\"license_num\"].value_counts()"
   ]
  },
  {
   "cell_type": "code",
   "execution_count": 787,
   "metadata": {},
   "outputs": [],
   "source": [
    "df[\"num_inspections\"] = df.license_num.apply(lambda x: num_of_inspections_per_license[x] )"
   ]
  },
  {
   "cell_type": "markdown",
   "metadata": {},
   "source": [
    "#### Number of Failed Inspections per restaurant "
   ]
  },
  {
   "cell_type": "markdown",
   "metadata": {},
   "source": [
    "After extracting the number of Inspections, we would like to know the number of inspections where serious or critical violations were found per restaurant (i.e pass with conditions and fail)"
   ]
  },
  {
   "cell_type": "code",
   "execution_count": 789,
   "metadata": {},
   "outputs": [],
   "source": [
    "df_fail = df[df.results==1]"
   ]
  },
  {
   "cell_type": "code",
   "execution_count": 790,
   "metadata": {},
   "outputs": [],
   "source": [
    "num_fail_passwthcondition_inspections_per_license = df_fail.groupby([\"license_num\",\"inspection_date\"]).count().reset_index()[\"license_num\"].value_counts()"
   ]
  },
  {
   "cell_type": "code",
   "execution_count": 791,
   "metadata": {},
   "outputs": [],
   "source": [
    "def count_failed_insp(x):\n",
    "    # takes license num\n",
    "    try: \n",
    "        return num_fail_passwthcondition_inspections_per_license[x]\n",
    "    except:\n",
    "        return 0"
   ]
  },
  {
   "cell_type": "code",
   "execution_count": 792,
   "metadata": {},
   "outputs": [],
   "source": [
    "df[\"num_failed_inspections\"] = df.license_num.apply(count_failed_insp)"
   ]
  },
  {
   "cell_type": "markdown",
   "metadata": {},
   "source": [
    "#### Failed Inspections Percentage for each Restaurant"
   ]
  },
  {
   "cell_type": "code",
   "execution_count": 793,
   "metadata": {},
   "outputs": [],
   "source": [
    "df['failed_inspections_percentage'] = df[\"num_failed_inspections\"]/df[\"num_inspections\"] "
   ]
  },
  {
   "cell_type": "markdown",
   "metadata": {},
   "source": [
    "------------------"
   ]
  },
  {
   "cell_type": "markdown",
   "metadata": {},
   "source": [
    "Failed Inspections by Restaurant is an attribute of the restaurant, therefore we need to group by the license num and plot the result per restaurant, avoiding the repetition of the visits to the same restaurant."
   ]
  },
  {
   "cell_type": "code",
   "execution_count": 794,
   "metadata": {},
   "outputs": [],
   "source": [
    "restaurants = df.drop_duplicates('license_num')"
   ]
  },
  {
   "cell_type": "code",
   "execution_count": 795,
   "metadata": {},
   "outputs": [
    {
     "data": {
      "image/png": "[encoded data removed]",
      "text/plain": [
       "<Figure size 864x288 with 2 Axes>"
      ]
     },
     "metadata": {},
     "output_type": "display_data"
    }
   ],
   "source": [
    "fig = plt.figure(figsize = (12,4))\n",
    "st = fig.suptitle(\"Distribution of Restaurants' Failed Inspection Percentage\", fontsize=\"x-large\")\n",
    "plt.subplot(1,2,1)\n",
    "sns.distplot(restaurants.failed_inspections_percentage)\n",
    "plt.subplot(1,2,2)\n",
    "sns.boxplot(restaurants.failed_inspections_percentage);"
   ]
  },
  {
   "cell_type": "markdown",
   "metadata": {},
   "source": [
    "According to the histogram above, the percentage of past failed inspections is misleading in the case of restaurants with a low number of inspections, especially restaurants with one inspection. This could be an indication that this feature we created can be used with restaurants with more than one inspection but not with restaurants with one inspection."
   ]
  },
  {
   "cell_type": "code",
   "execution_count": 796,
   "metadata": {},
   "outputs": [],
   "source": [
    "one_visit = restaurants[(restaurants.num_inspections==1)]"
   ]
  },
  {
   "cell_type": "code",
   "execution_count": 797,
   "metadata": {},
   "outputs": [
    {
     "data": {
      "text/plain": [
       "1.0    1243\n",
       "0.0    1087\n",
       "Name: failed_inspections_percentage, dtype: int64"
      ]
     },
     "execution_count": 797,
     "metadata": {},
     "output_type": "execute_result"
    }
   ],
   "source": [
    "one_visit.failed_inspections_percentage.value_counts()"
   ]
  },
  {
   "cell_type": "code",
   "execution_count": 798,
   "metadata": {},
   "outputs": [],
   "source": [
    "multiple_visits = restaurants[(restaurants.num_inspections>1)]"
   ]
  },
  {
   "cell_type": "code",
   "execution_count": 799,
   "metadata": {},
   "outputs": [
    {
     "data": {
      "text/plain": [
       "1297"
      ]
     },
     "execution_count": 799,
     "metadata": {},
     "output_type": "execute_result"
    }
   ],
   "source": [
    "multiple_visits[multiple_visits.failed_inspections_percentage==0].shape[0]"
   ]
  },
  {
   "cell_type": "code",
   "execution_count": 800,
   "metadata": {},
   "outputs": [
    {
     "data": {
      "text/plain": [
       "797"
      ]
     },
     "execution_count": 800,
     "metadata": {},
     "output_type": "execute_result"
    }
   ],
   "source": [
    "multiple_visits[multiple_visits.failed_inspections_percentage==1].shape[0]"
   ]
  },
  {
   "cell_type": "code",
   "execution_count": 801,
   "metadata": {
    "scrolled": true
   },
   "outputs": [
    {
     "data": {
      "image/png": "[encoded data removed]",
      "text/plain": [
       "<Figure size 864x288 with 2 Axes>"
      ]
     },
     "metadata": {},
     "output_type": "display_data"
    }
   ],
   "source": [
    "fig = plt.figure(figsize = (12,4))\n",
    "st = fig.suptitle(\"Distribution of Restaurants' Failed Inspection Percentage\", fontsize=\"x-large\")\n",
    "plt.subplot(1,2,1)\n",
    "sns.distplot(multiple_visits.failed_inspections_percentage)\n",
    "plt.subplot(1,2,2)\n",
    "sns.boxplot(multiple_visits.failed_inspections_percentage);"
   ]
  },
  {
   "cell_type": "markdown",
   "metadata": {},
   "source": [
    "We removed restaurants with one inspection and the two spikes at 0 and 1 reduced."
   ]
  },
  {
   "cell_type": "code",
   "execution_count": 802,
   "metadata": {},
   "outputs": [],
   "source": [
    "multiple_visits = restaurants[(restaurants.num_inspections>2)]"
   ]
  },
  {
   "cell_type": "code",
   "execution_count": 803,
   "metadata": {},
   "outputs": [
    {
     "data": {
      "text/plain": [
       "799"
      ]
     },
     "execution_count": 803,
     "metadata": {},
     "output_type": "execute_result"
    }
   ],
   "source": [
    "multiple_visits[multiple_visits.failed_inspections_percentage==0].shape[0]"
   ]
  },
  {
   "cell_type": "code",
   "execution_count": 804,
   "metadata": {},
   "outputs": [
    {
     "data": {
      "text/plain": [
       "359"
      ]
     },
     "execution_count": 804,
     "metadata": {},
     "output_type": "execute_result"
    }
   ],
   "source": [
    "multiple_visits[multiple_visits.failed_inspections_percentage==1].shape[0]"
   ]
  },
  {
   "cell_type": "code",
   "execution_count": 805,
   "metadata": {
    "scrolled": true
   },
   "outputs": [
    {
     "data": {
      "image/png": "[encoded data removed]",
      "text/plain": [
       "<Figure size 864x288 with 2 Axes>"
      ]
     },
     "metadata": {},
     "output_type": "display_data"
    }
   ],
   "source": [
    "fig = plt.figure(figsize = (12,4))\n",
    "st = fig.suptitle(\"Distribution of Restaurants' Failed Inspection Percentage\", fontsize=\"x-large\")\n",
    "plt.subplot(1,2,1)\n",
    "sns.distplot(multiple_visits.failed_inspections_percentage)\n",
    "plt.subplot(1,2,2)\n",
    "sns.boxplot(multiple_visits.failed_inspections_percentage);"
   ]
  },
  {
   "cell_type": "markdown",
   "metadata": {},
   "source": [
    "We removed restaurants with two inspections and the two spikes at 0 and 1 reduced even further."
   ]
  },
  {
   "cell_type": "markdown",
   "metadata": {},
   "source": [
    "----"
   ]
  },
  {
   "cell_type": "markdown",
   "metadata": {},
   "source": [
    "### Last inspection date"
   ]
  },
  {
   "cell_type": "markdown",
   "metadata": {},
   "source": [
    "Future Work .."
   ]
  },
  {
   "cell_type": "markdown",
   "metadata": {},
   "source": [
    "## Number of branches per restaurant - Restaurant Chain Sizes"
   ]
  },
  {
   "cell_type": "markdown",
   "metadata": {},
   "source": [
    "#### Here we are making an assumption that the license number represents a branch of a restaurant chain.\n",
    "\n",
    "I tried to find the number of branches per restaurant once by counting the number of addresses and another time by counting the number of licenses that correspond to a restaurant. However, both approaches are errorsome because a restaurant could relocate and therefore that address wouldnt be available anymore. Also, the license number could change, but it is probably less often for a license number to change than for a restaurant to relocate. Therefore we will use the second approach (counting branches by license number). The number of branches gives a rough estimate of how large a restaurant chain is, even if the number is not very accurate. \n",
    "\n"
   ]
  },
  {
   "cell_type": "markdown",
   "metadata": {},
   "source": [
    "#### Num of Branches by License Number"
   ]
  },
  {
   "cell_type": "code",
   "execution_count": 806,
   "metadata": {},
   "outputs": [],
   "source": [
    "branches_by_license = df.groupby([\"dba_name\",\"license_num\"]).count().reset_index()[\"dba_name\"].value_counts()"
   ]
  },
  {
   "cell_type": "code",
   "execution_count": 807,
   "metadata": {},
   "outputs": [
    {
     "data": {
      "text/plain": [
       "10778"
      ]
     },
     "execution_count": 807,
     "metadata": {},
     "output_type": "execute_result"
    }
   ],
   "source": [
    "sum(branches_by_license)"
   ]
  },
  {
   "cell_type": "code",
   "execution_count": 808,
   "metadata": {},
   "outputs": [],
   "source": [
    "df[\"num_branches\"] = df.dba_name.apply(lambda x: branches_by_license[x] )"
   ]
  },
  {
   "cell_type": "markdown",
   "metadata": {},
   "source": [
    "### Number of Branches vs Serious & Critical Violations"
   ]
  },
  {
   "cell_type": "markdown",
   "metadata": {},
   "source": [
    "We would like to know whether the number of branches is correlated with the detection of serious & critical violations. Serious and critical violations result in failing or passing with conditions, according to the city of Chicago's Food Inspection Reporting System. If a restaurant passs, it means there are no serious or critical violations found in the inspection visit.\n",
    "\n",
    "In order to visualize the relationship between number of branches and serious & critical violations, we need to represent each restaurant once (ex. Subway will have one entry). "
   ]
  },
  {
   "cell_type": "code",
   "execution_count": 809,
   "metadata": {},
   "outputs": [],
   "source": [
    "restaurants_branches = df.groupby(['dba_name','num_branches']).count().reset_index('num_branches')['num_branches']"
   ]
  },
  {
   "cell_type": "markdown",
   "metadata": {},
   "source": [
    "Critical inspections are inspections that found critical & serious violations of the health code. These are present in results labeled as failed or pass with conditions."
   ]
  },
  {
   "cell_type": "code",
   "execution_count": 810,
   "metadata": {},
   "outputs": [],
   "source": [
    "critical_inspections = df.loc[df.results==1, 'dba_name'].value_counts()"
   ]
  },
  {
   "cell_type": "code",
   "execution_count": 811,
   "metadata": {},
   "outputs": [],
   "source": [
    "total_inspections = df.loc[:,'dba_name'].value_counts()"
   ]
  },
  {
   "cell_type": "markdown",
   "metadata": {},
   "source": [
    "The critical inspections will be geater for restaurants with a lot of branches. Therefore we need to get the ratio of critical inspections to total inspections of a restaurant"
   ]
  },
  {
   "cell_type": "code",
   "execution_count": 812,
   "metadata": {},
   "outputs": [],
   "source": [
    "critical_ratio = critical_inspections/total_inspections\n",
    "critical_ratio.fillna(0,inplace=True)"
   ]
  },
  {
   "cell_type": "code",
   "execution_count": 813,
   "metadata": {},
   "outputs": [
    {
     "data": {
      "image/png": "[encoded data removed]",
      "text/plain": [
       "<Figure size 864x288 with 1 Axes>"
      ]
     },
     "metadata": {},
     "output_type": "display_data"
    }
   ],
   "source": [
    "plt.figure(figsize=(12,4))\n",
    "sns.scatterplot(x=restaurants_branches,y=critical_ratio, alpha=0.5)\n",
    "plt.ylabel('Fail & Pass wth Conditions ratio')\n",
    "plt.title('Number of Branches VS Ratio of Failed and Pass wth Conditions Inspections to Total Inspections');"
   ]
  },
  {
   "cell_type": "markdown",
   "metadata": {},
   "source": [
    "The plot above is distorted by the presence of some outliers. We will remove the three largest chains: Subway, Dunkin Donuts, and Mcdonald's. This will give us a better look at the rest of our data"
   ]
  },
  {
   "cell_type": "code",
   "execution_count": 814,
   "metadata": {},
   "outputs": [
    {
     "data": {
      "image/png": "[encoded data removed]",
      "text/plain": [
       "<Figure size 864x288 with 1 Axes>"
      ]
     },
     "metadata": {},
     "output_type": "display_data"
    }
   ],
   "source": [
    "plt.figure(figsize=(12,4))\n",
    "sns.scatterplot(x=restaurants_branches.drop([\"DUNKIN DONUTS\",\"SUBWAY\",\"MCDONALD'S\"]),y=critical_ratio.drop([\"DUNKIN DONUTS\",\"SUBWAY\",\"MCDONALD'S\"]), alpha=0.5)\n",
    "plt.ylabel('Fail & Pass wth Conditions ratio')\n",
    "plt.title('Number of Branches VS Ratio of Failed and Pass wth Conditions Inspections to Total Inspections');"
   ]
  },
  {
   "cell_type": "markdown",
   "metadata": {},
   "source": [
    "We can see from the plot above that single branch restaurants range from 0 to 1 in the ratio of inspections with critical violations to the total number of inspections. The more branches a restaurant has, the closer it gets to a ratio of about 40% of inspections catching critical violations.\n",
    "\n",
    "This observation is consistent with the histogram of the \"past failure ratio\" feature. Restaurants that have lots of observation (i.e. have been visited multiple times or have lots of branches) have a result distribution that converges to 40% chance of failing or passing with conditions. \n",
    "\n",
    "On the other hand, restaurants that have a few observations (are inspected only once or twice, or have few branches) are difficult to predict. Their results range from 0 to 1."
   ]
  },
  {
   "cell_type": "markdown",
   "metadata": {},
   "source": [
    "----"
   ]
  },
  {
   "cell_type": "markdown",
   "metadata": {},
   "source": [
    "### Restaurant Branches by Food Inspections"
   ]
  },
  {
   "cell_type": "markdown",
   "metadata": {},
   "source": [
    "We would like to create a column that represents the size of the chain it belongs to. The chain_size column will be a categorical column with the values:\n",
    "- 1 for restaurants with no branches. \n",
    "- 2-6 for restaurants with at least 2 branches and at most 6 branches.\n",
    "- 7+ for restaurants with 7 branches and more.\n",
    "\n",
    "This division was chosen based on the previous scatter plot. By visually observing the plot, we see that restaurants with 6 branches and more start to converge to a ratio of 0.4."
   ]
  },
  {
   "cell_type": "code",
   "execution_count": 815,
   "metadata": {},
   "outputs": [],
   "source": [
    "\n",
    "df['chain_size'] = df.num_branches.apply(lambda x:'1' if x==1 else '2-6' if 7>x>1 else '7+')"
   ]
  },
  {
   "cell_type": "markdown",
   "metadata": {},
   "source": [
    "----------------------------------------------------------------------------------------------------------------------------"
   ]
  },
  {
   "cell_type": "markdown",
   "metadata": {},
   "source": [
    "## Weather"
   ]
  },
  {
   "cell_type": "markdown",
   "metadata": {},
   "source": [
    "When we study the weather data, we are viewing our data by observation (inspection), not by branch or restaurant. Therefore we do not need to group by a certain column or create pivot tables."
   ]
  },
  {
   "cell_type": "markdown",
   "metadata": {},
   "source": [
    "### Season"
   ]
  },
  {
   "cell_type": "markdown",
   "metadata": {},
   "source": [
    "Create a new column for Season:"
   ]
  },
  {
   "cell_type": "code",
   "execution_count": 816,
   "metadata": {},
   "outputs": [],
   "source": [
    "df[\"season\"] = df.inspection_date.dt.month\n",
    "df.season = df.season.apply(lambda x: (x %12 + 3)//3)\n",
    "df.season = df.season.map({1:\"winter\",2:\"spring\",3:\"summer\",4:\"fall\"})"
   ]
  },
  {
   "cell_type": "markdown",
   "metadata": {},
   "source": [
    "### Season vs Results"
   ]
  },
  {
   "cell_type": "code",
   "execution_count": 817,
   "metadata": {},
   "outputs": [],
   "source": [
    "inspections_per_season = df.season.value_counts()\n",
    "pass_per_season = df[df.results==0].season.value_counts()\n",
    "fail_per_season = df[df.results==1].season.value_counts()"
   ]
  },
  {
   "cell_type": "code",
   "execution_count": 818,
   "metadata": {},
   "outputs": [
    {
     "data": {
      "image/png": "[encoded data removed]",
      "text/plain": [
       "<Figure size 1080x360 with 3 Axes>"
      ]
     },
     "metadata": {},
     "output_type": "display_data"
    }
   ],
   "source": [
    "plt.figure(figsize = (15,5))\n",
    "plt.subplot(1,3,1)\n",
    "plt.pie(inspections_per_season.values, labels=inspections_per_season.index, autopct='%1.1f%%')\n",
    "plt.title('Inspections per Season',color = 'blue',fontsize = 15)\n",
    "plt.subplot(1,3,2)\n",
    "plt.pie(pass_per_season.values, labels=pass_per_season.index, autopct='%1.1f%%')\n",
    "plt.title('Passing per Season',color = 'blue',fontsize = 15)\n",
    "plt.subplot(1,3,3)\n",
    "plt.pie(fail_and_conditionalpass_by_season.values, labels=fail_and_conditionalpass_by_season.index, autopct='%1.1f%%')\n",
    "plt.title('Fail and Conditional Passing by Season',color = 'blue',fontsize = 15);"
   ]
  },
  {
   "cell_type": "markdown",
   "metadata": {},
   "source": [
    "According to the plots above, the probability of passing vs failing or passing wth conditions is approximately consistent accross seasons. There are a bit more failed inspections in the summer, but a very small difference."
   ]
  },
  {
   "cell_type": "markdown",
   "metadata": {},
   "source": [
    "### Temperature & Humidity"
   ]
  },
  {
   "cell_type": "markdown",
   "metadata": {},
   "source": [
    "The weather data for the city of Chicago has been scraped from the website :https://www.wunderground.com/history/monthly/us/il/chicago/KMDW/date/2019-5. After analysing the correlation between the seasons and the inspection results, we do not see a difference in the inspection results among the seasons. Therefore, we scraped the weather data and added it to our dataset. Among the variables given in the weather dataset, we would expect to see a correlation between Temperature and/or Humidity versus inspection results. Contrary to our expectations, we did not see a difference in temperature and humidity between passing and failing inspections. \n",
    "\n",
    "According to the literature on the Chicago Food Inspection case, an average of 3 day high temperature has an effect on the inspection results. Therefore, we created a new boolean column to indicate the occurence of three consecutive days with a high temperature. We checked the distribution of the average temperature column and chose the 75% percentile (70 degrees Fahrenheit) as the threshold for high temperature.   "
   ]
  },
  {
   "cell_type": "markdown",
   "metadata": {},
   "source": [
    "#### Add Weather data to our dataframe"
   ]
  },
  {
   "cell_type": "code",
   "execution_count": 819,
   "metadata": {},
   "outputs": [],
   "source": [
    "weather = pd.read_csv('DATA/weather_data.csv')"
   ]
  },
  {
   "cell_type": "code",
   "execution_count": 820,
   "metadata": {},
   "outputs": [],
   "source": [
    "weather.date = pd.to_datetime(weather.date)"
   ]
  },
  {
   "cell_type": "markdown",
   "metadata": {},
   "source": [
    "Weather data is from 1/1/2010 to 30/4/2019. We need to start from 1/1/2013 to match our Chicago Food Inspections dataset."
   ]
  },
  {
   "cell_type": "code",
   "execution_count": 821,
   "metadata": {},
   "outputs": [],
   "source": [
    "weather = weather[weather.date >= '2013-01-01']"
   ]
  },
  {
   "cell_type": "code",
   "execution_count": 822,
   "metadata": {
    "scrolled": true
   },
   "outputs": [
    {
     "data": {
      "text/html": [
       "<div>\n",
       "<style scoped>\n",
       "    .dataframe tbody tr th:only-of-type {\n",
       "        vertical-align: middle;\n",
       "    }\n",
       "\n",
       "    .dataframe tbody tr th {\n",
       "        vertical-align: top;\n",
       "    }\n",
       "\n",
       "    .dataframe thead th {\n",
       "        text-align: right;\n",
       "    }\n",
       "</style>\n",
       "<table border=\"1\" class=\"dataframe\">\n",
       "  <thead>\n",
       "    <tr style=\"text-align: right;\">\n",
       "      <th></th>\n",
       "      <th>Unnamed: 0</th>\n",
       "      <th>Temperature_Max</th>\n",
       "      <th>Temperature_Avg</th>\n",
       "      <th>Temperature_Min</th>\n",
       "      <th>Dew_Point_Max</th>\n",
       "      <th>Dew_Point_Avg</th>\n",
       "      <th>Dew_Point_Min</th>\n",
       "      <th>Humidity_Max</th>\n",
       "      <th>Humidity_Avg</th>\n",
       "      <th>Humidity_Min</th>\n",
       "      <th>Wind_speed_Max</th>\n",
       "      <th>Wind_speed_Avg</th>\n",
       "      <th>Wind_speed_Min</th>\n",
       "      <th>Pressure_Max</th>\n",
       "      <th>Pressure_Avg</th>\n",
       "      <th>Pressure_Min</th>\n",
       "      <th>date</th>\n",
       "    </tr>\n",
       "  </thead>\n",
       "  <tbody>\n",
       "    <tr>\n",
       "      <th>1096</th>\n",
       "      <td>0</td>\n",
       "      <td>27</td>\n",
       "      <td>20</td>\n",
       "      <td>13</td>\n",
       "      <td>9</td>\n",
       "      <td>4</td>\n",
       "      <td>0</td>\n",
       "      <td>64</td>\n",
       "      <td>-</td>\n",
       "      <td>32</td>\n",
       "      <td>14</td>\n",
       "      <td>-</td>\n",
       "      <td>0</td>\n",
       "      <td>30.25</td>\n",
       "      <td>-</td>\n",
       "      <td>30.15</td>\n",
       "      <td>2013-01-01</td>\n",
       "    </tr>\n",
       "    <tr>\n",
       "      <th>1097</th>\n",
       "      <td>1</td>\n",
       "      <td>30</td>\n",
       "      <td>21</td>\n",
       "      <td>11</td>\n",
       "      <td>12</td>\n",
       "      <td>6</td>\n",
       "      <td>1</td>\n",
       "      <td>68</td>\n",
       "      <td>-</td>\n",
       "      <td>25</td>\n",
       "      <td>15</td>\n",
       "      <td>-</td>\n",
       "      <td>4</td>\n",
       "      <td>30.27</td>\n",
       "      <td>-</td>\n",
       "      <td>30.15</td>\n",
       "      <td>2013-01-02</td>\n",
       "    </tr>\n",
       "    <tr>\n",
       "      <th>1098</th>\n",
       "      <td>2</td>\n",
       "      <td>30</td>\n",
       "      <td>25</td>\n",
       "      <td>19</td>\n",
       "      <td>23</td>\n",
       "      <td>18</td>\n",
       "      <td>12</td>\n",
       "      <td>78</td>\n",
       "      <td>-</td>\n",
       "      <td>55</td>\n",
       "      <td>16</td>\n",
       "      <td>-</td>\n",
       "      <td>7</td>\n",
       "      <td>30.32</td>\n",
       "      <td>-</td>\n",
       "      <td>30.09</td>\n",
       "      <td>2013-01-03</td>\n",
       "    </tr>\n",
       "  </tbody>\n",
       "</table>\n",
       "</div>"
      ],
      "text/plain": [
       "      Unnamed: 0  Temperature_Max  Temperature_Avg  Temperature_Min  \\\n",
       "1096           0               27               20               13   \n",
       "1097           1               30               21               11   \n",
       "1098           2               30               25               19   \n",
       "\n",
       "      Dew_Point_Max  Dew_Point_Avg  Dew_Point_Min  Humidity_Max Humidity_Avg  \\\n",
       "1096              9              4              0            64            -   \n",
       "1097             12              6              1            68            -   \n",
       "1098             23             18             12            78            -   \n",
       "\n",
       "      Humidity_Min  Wind_speed_Max Wind_speed_Avg  Wind_speed_Min  \\\n",
       "1096            32              14              -               0   \n",
       "1097            25              15              -               4   \n",
       "1098            55              16              -               7   \n",
       "\n",
       "      Pressure_Max Pressure_Avg  Pressure_Min       date  \n",
       "1096         30.25            -         30.15 2013-01-01  \n",
       "1097         30.27            -         30.15 2013-01-02  \n",
       "1098         30.32            -         30.09 2013-01-03  "
      ]
     },
     "execution_count": 822,
     "metadata": {},
     "output_type": "execute_result"
    }
   ],
   "source": [
    "weather.head(3)"
   ]
  },
  {
   "cell_type": "code",
   "execution_count": 823,
   "metadata": {},
   "outputs": [
    {
     "data": {
      "image/png": "[encoded data removed]",
      "text/plain": [
       "<Figure size 432x288 with 1 Axes>"
      ]
     },
     "metadata": {},
     "output_type": "display_data"
    }
   ],
   "source": [
    "sns.boxplot(weather.Temperature_Avg)\n",
    "plt.title(\"Distribution of Temperature Avg\");"
   ]
  },
  {
   "cell_type": "code",
   "execution_count": 824,
   "metadata": {},
   "outputs": [
    {
     "data": {
      "text/plain": [
       "count    2311.000000\n",
       "mean       51.540891\n",
       "std        20.653584\n",
       "min       -15.000000\n",
       "25%        36.000000\n",
       "50%        52.000000\n",
       "75%        70.000000\n",
       "max        88.000000\n",
       "Name: Temperature_Avg, dtype: float64"
      ]
     },
     "execution_count": 824,
     "metadata": {},
     "output_type": "execute_result"
    }
   ],
   "source": [
    "weather.Temperature_Avg.describe()"
   ]
  },
  {
   "cell_type": "code",
   "execution_count": 825,
   "metadata": {},
   "outputs": [],
   "source": [
    "weather['is_high_temp'] = weather[\"Temperature_Avg\"].apply(lambda x : 1 if x > 70 else 0)"
   ]
  },
  {
   "cell_type": "code",
   "execution_count": 826,
   "metadata": {},
   "outputs": [],
   "source": [
    "weather.reset_index(inplace=True)"
   ]
  },
  {
   "cell_type": "code",
   "execution_count": 827,
   "metadata": {},
   "outputs": [],
   "source": [
    "lst = []\n",
    "counter = 0\n",
    "while counter < len(weather[\"Temperature_Avg\"]):\n",
    "    if counter in [0,1]:\n",
    "        lst.append(weather.iloc[counter][\"is_high_temp\"])\n",
    "    else:\n",
    "        lst.append(weather.iloc[counter][\"is_high_temp\"] + weather.iloc[counter-1][\"is_high_temp\"]+ weather.iloc[counter-2][\"is_high_temp\"])\n",
    "    counter += 1"
   ]
  },
  {
   "cell_type": "code",
   "execution_count": 828,
   "metadata": {},
   "outputs": [],
   "source": [
    "weather['is_3d_high'] = pd.Series(lst)"
   ]
  },
  {
   "cell_type": "code",
   "execution_count": 829,
   "metadata": {
    "scrolled": true
   },
   "outputs": [
    {
     "data": {
      "text/plain": [
       "0    1570\n",
       "3     402\n",
       "1     186\n",
       "2     153\n",
       "Name: is_3d_high, dtype: int64"
      ]
     },
     "execution_count": 829,
     "metadata": {},
     "output_type": "execute_result"
    }
   ],
   "source": [
    "weather['is_3d_high'].value_counts()"
   ]
  },
  {
   "cell_type": "code",
   "execution_count": 830,
   "metadata": {},
   "outputs": [],
   "source": [
    "weather['is_3d_high'] = weather['is_3d_high'].apply(lambda x : 1 if x == 3 else 0)"
   ]
  },
  {
   "cell_type": "code",
   "execution_count": 831,
   "metadata": {},
   "outputs": [],
   "source": [
    "weather.Humidity_Avg = (weather.Humidity_Max + weather.Humidity_Min)/2"
   ]
  },
  {
   "cell_type": "code",
   "execution_count": 832,
   "metadata": {},
   "outputs": [],
   "source": [
    "df = df.merge(weather.reset_index()[['date',\"Temperature_Avg\",\"Humidity_Avg\", 'is_3d_high']], \"left\", left_on=\"inspection_date\", right_on=\"date\")"
   ]
  },
  {
   "cell_type": "code",
   "execution_count": 833,
   "metadata": {},
   "outputs": [],
   "source": [
    "df = df.drop(['date'],axis=1)"
   ]
  },
  {
   "cell_type": "code",
   "execution_count": 834,
   "metadata": {},
   "outputs": [],
   "source": [
    "# Drop the first 13 rows because the temperature & humidity data is not available for them\n",
    "df.drop(df.index[0:13],inplace=True) "
   ]
  },
  {
   "cell_type": "code",
   "execution_count": 835,
   "metadata": {},
   "outputs": [
    {
     "data": {
      "text/plain": [
       "0.0    32222\n",
       "1.0     7127\n",
       "Name: is_3d_high, dtype: int64"
      ]
     },
     "execution_count": 835,
     "metadata": {},
     "output_type": "execute_result"
    }
   ],
   "source": [
    "df.is_3d_high.value_counts()"
   ]
  },
  {
   "cell_type": "code",
   "execution_count": 836,
   "metadata": {},
   "outputs": [
    {
     "data": {
      "text/html": [
       "<div>\n",
       "<style scoped>\n",
       "    .dataframe tbody tr th:only-of-type {\n",
       "        vertical-align: middle;\n",
       "    }\n",
       "\n",
       "    .dataframe tbody tr th {\n",
       "        vertical-align: top;\n",
       "    }\n",
       "\n",
       "    .dataframe thead th {\n",
       "        text-align: right;\n",
       "    }\n",
       "</style>\n",
       "<table border=\"1\" class=\"dataframe\">\n",
       "  <thead>\n",
       "    <tr style=\"text-align: right;\">\n",
       "      <th></th>\n",
       "      <th>Temperature_Avg</th>\n",
       "      <th>Humidity_Avg</th>\n",
       "      <th>is_3d_high</th>\n",
       "      <th>results</th>\n",
       "    </tr>\n",
       "  </thead>\n",
       "  <tbody>\n",
       "    <tr>\n",
       "      <th>Temperature_Avg</th>\n",
       "      <td>1.000000</td>\n",
       "      <td>0.006520</td>\n",
       "      <td>0.573137</td>\n",
       "      <td>0.026663</td>\n",
       "    </tr>\n",
       "    <tr>\n",
       "      <th>Humidity_Avg</th>\n",
       "      <td>0.006520</td>\n",
       "      <td>1.000000</td>\n",
       "      <td>0.047656</td>\n",
       "      <td>0.007881</td>\n",
       "    </tr>\n",
       "    <tr>\n",
       "      <th>is_3d_high</th>\n",
       "      <td>0.573137</td>\n",
       "      <td>0.047656</td>\n",
       "      <td>1.000000</td>\n",
       "      <td>0.046583</td>\n",
       "    </tr>\n",
       "    <tr>\n",
       "      <th>results</th>\n",
       "      <td>0.026663</td>\n",
       "      <td>0.007881</td>\n",
       "      <td>0.046583</td>\n",
       "      <td>1.000000</td>\n",
       "    </tr>\n",
       "  </tbody>\n",
       "</table>\n",
       "</div>"
      ],
      "text/plain": [
       "                 Temperature_Avg  Humidity_Avg  is_3d_high   results\n",
       "Temperature_Avg         1.000000      0.006520    0.573137  0.026663\n",
       "Humidity_Avg            0.006520      1.000000    0.047656  0.007881\n",
       "is_3d_high              0.573137      0.047656    1.000000  0.046583\n",
       "results                 0.026663      0.007881    0.046583  1.000000"
      ]
     },
     "execution_count": 836,
     "metadata": {},
     "output_type": "execute_result"
    }
   ],
   "source": [
    "df[[\"Temperature_Avg\" ,\"Humidity_Avg\" , \"is_3d_high\", \"results\"]].corr()"
   ]
  },
  {
   "cell_type": "code",
   "execution_count": 837,
   "metadata": {},
   "outputs": [
    {
     "data": {
      "image/png": "[encoded data removed]",
      "text/plain": [
       "<Figure size 576x432 with 1 Axes>"
      ]
     },
     "metadata": {},
     "output_type": "display_data"
    }
   ],
   "source": [
    "plt.figure(figsize = (8,6))\n",
    "sns.scatterplot(df.Temperature_Avg, df.Humidity_Avg, hue=df.results)\n",
    "plt.title('Temperature Avg & Humidity Avg vs Results');"
   ]
  },
  {
   "cell_type": "markdown",
   "metadata": {},
   "source": [
    "The Scatter plot above shows that there is no correlation between the temperature, humidity, and the results of an inspection. "
   ]
  },
  {
   "cell_type": "code",
   "execution_count": 838,
   "metadata": {},
   "outputs": [
    {
     "name": "stderr",
     "output_type": "stream",
     "text": [
      "C:\\Users\\noura\\Anaconda3\\lib\\site-packages\\matplotlib\\legend.py:938: UserWarning: Legend does not support <matplotlib.axes._subplots.AxesSubplot object at 0x000001D484376FD0> instances.\n",
      "A proxy artist may be used instead.\n",
      "See: http://matplotlib.org/users/legend_guide.html#creating-artists-specifically-for-adding-to-the-legend-aka-proxy-artists\n",
      "  \"aka-proxy-artists\".format(orig_handle)\n",
      "C:\\Users\\noura\\Anaconda3\\lib\\site-packages\\matplotlib\\legend.py:938: UserWarning: Legend does not support <matplotlib.axes._subplots.AxesSubplot object at 0x000001D484376FD0> instances.\n",
      "A proxy artist may be used instead.\n",
      "See: http://matplotlib.org/users/legend_guide.html#creating-artists-specifically-for-adding-to-the-legend-aka-proxy-artists\n",
      "  \"aka-proxy-artists\".format(orig_handle)\n"
     ]
    },
    {
     "data": {
      "image/png": "[encoded data removed]",
      "text/plain": [
       "<Figure size 432x432 with 1 Axes>"
      ]
     },
     "metadata": {},
     "output_type": "display_data"
    }
   ],
   "source": [
    "plt.figure(figsize = (6,6))\n",
    "humid_results = sns.lineplot(df.Humidity_Avg,df.results, label='Humidity Avg')\n",
    "temp_results = sns.lineplot(df.Temperature_Avg,df.results, label='Temperature Avg')\n",
    "plt.legend(handles=[humid_results,temp_results])\n",
    "plt.xlabel('Temperature & Humidity')\n",
    "plt.title(\"Temperature and Humidity vs Inspection Results\")\n",
    "plt.legend();"
   ]
  },
  {
   "cell_type": "markdown",
   "metadata": {},
   "source": [
    "Consistent with the scatter plot, the line plot indicates that there is no strong relationship between the weather and the results. The only conclusion we can make about this chart is that there are more passing inspections when the humidity is low."
   ]
  },
  {
   "cell_type": "code",
   "execution_count": 839,
   "metadata": {},
   "outputs": [
    {
     "data": {
      "image/png": "[encoded data removed]",
      "text/plain": [
       "<Figure size 432x288 with 1 Axes>"
      ]
     },
     "metadata": {},
     "output_type": "display_data"
    }
   ],
   "source": [
    "plt.figure(figsize = (6,4))\n",
    "sns.barplot(df.is_3d_high,df.results)\n",
    "plt.ylabel('Proportion of Results')\n",
    "plt.title(\"3 Consecutive Days of Hot Weather vs Inspection Results\");"
   ]
  },
  {
   "cell_type": "markdown",
   "metadata": {},
   "source": [
    "Contrary to our expectations, there is no visually significant difference in inspection results between a regular day and a day with three consecutive days of higher than average temperature. "
   ]
  },
  {
   "cell_type": "markdown",
   "metadata": {},
   "source": [
    "----"
   ]
  },
  {
   "cell_type": "markdown",
   "metadata": {},
   "source": [
    "## Violations"
   ]
  },
  {
   "cell_type": "markdown",
   "metadata": {},
   "source": [
    "When we study the violations data, we are viewing our data by observation (inspection), not by branch or restaurant."
   ]
  },
  {
   "cell_type": "code",
   "execution_count": 841,
   "metadata": {},
   "outputs": [],
   "source": [
    "df.head();"
   ]
  },
  {
   "cell_type": "code",
   "execution_count": 842,
   "metadata": {},
   "outputs": [],
   "source": [
    "import re"
   ]
  },
  {
   "cell_type": "code",
   "execution_count": 843,
   "metadata": {},
   "outputs": [],
   "source": [
    "df['violation_nums'] = df.violations.fillna(\"0.\").apply(lambda x: [int(re.search(\"(\\d+)\\.\", x).group(1))]+[int(x) for x in re.findall(r'\\|\\s(\\d+)\\.',x)])"
   ]
  },
  {
   "cell_type": "code",
   "execution_count": 844,
   "metadata": {},
   "outputs": [],
   "source": [
    "#pd.set_option('display.max_colwidth',-1)\n",
    "df.violation_nums[20:50];"
   ]
  },
  {
   "cell_type": "code",
   "execution_count": 845,
   "metadata": {},
   "outputs": [],
   "source": [
    "df['count_violations'] =  df.violation_nums.apply(lambda x: len(x))"
   ]
  },
  {
   "cell_type": "code",
   "execution_count": 846,
   "metadata": {},
   "outputs": [],
   "source": [
    "df['count_criticalv'] = df.violation_nums.apply(lambda lis: sum([int(x) in range(1,15) for x in lis]))"
   ]
  },
  {
   "cell_type": "code",
   "execution_count": 847,
   "metadata": {},
   "outputs": [],
   "source": [
    "df['count_seriousv'] = df.violation_nums.apply(lambda lis: sum([int(x) in range(15,30) for x in lis]))"
   ]
  },
  {
   "cell_type": "code",
   "execution_count": 848,
   "metadata": {},
   "outputs": [],
   "source": [
    "df['count_minorv'] = df.violation_nums.apply(lambda lis: sum([int(x) in (range(30,45)) for x in lis]))"
   ]
  },
  {
   "cell_type": "code",
   "execution_count": 849,
   "metadata": {},
   "outputs": [],
   "source": [
    "df['count_otherv'] = df.violation_nums.apply(lambda lis: sum([int(x) in (range(45,70)) for x in lis]))"
   ]
  },
  {
   "cell_type": "code",
   "execution_count": 850,
   "metadata": {},
   "outputs": [
    {
     "data": {
      "image/png": "[encoded data removed]",
      "text/plain": [
       "<Figure size 1296x360 with 3 Axes>"
      ]
     },
     "metadata": {},
     "output_type": "display_data"
    }
   ],
   "source": [
    "plt.figure(figsize=(18,5))\n",
    "plt.subplot(1,3,1)\n",
    "sns.barplot(x=df.count_criticalv,y=df.results)\n",
    "plt.subplot(1,3,2)\n",
    "sns.barplot(x=df.count_seriousv,y=df.results)\n",
    "plt.subplot(1,3,3)\n",
    "sns.barplot(x=df.count_minorv,y=df.results);"
   ]
  },
  {
   "cell_type": "markdown",
   "metadata": {},
   "source": [
    "Consistent with our expectations, the presence of critical and serious violations is a strong indicator of passing or not. However, the number of critical and serious violations doesnt seem to make a difference (i.e. whether a restaurant has a lot of serious violations or just a few). "
   ]
  },
  {
   "cell_type": "markdown",
   "metadata": {},
   "source": [
    "### Violation Comments"
   ]
  },
  {
   "cell_type": "code",
   "execution_count": 851,
   "metadata": {
    "scrolled": false
   },
   "outputs": [],
   "source": [
    "pattern = r'- Comments:\\s(.*?)\\s\\|'\n",
    "df['violation_comments'] = df.violations.fillna(\"\").apply(lambda x: re.findall(pattern,x))"
   ]
  },
  {
   "cell_type": "code",
   "execution_count": 852,
   "metadata": {},
   "outputs": [],
   "source": [
    "#pd.set_option('display.max_colwidth',18)"
   ]
  },
  {
   "cell_type": "code",
   "execution_count": 853,
   "metadata": {},
   "outputs": [],
   "source": [
    "# text=df[\"violation_comments\"]\n",
    "# words=text.split()\n",
    "# tokens=word_tokenize(text)\n",
    "# tokens=[i.lower() for i in words]\n",
    "# table=str.maketrans(\"\",\"\",string.punctuation)\n",
    "# stripped=[i.translate(table) for i in tokens]\n",
    "# words=[words for words in stripped if words.isalpha()]\n",
    "# stop_words = set(stopwords.words('english'))\n",
    "# words=[w for w in words if not w in stop_words]\n",
    "# print(words)"
   ]
  },
  {
   "cell_type": "markdown",
   "metadata": {},
   "source": [
    "----"
   ]
  },
  {
   "cell_type": "markdown",
   "metadata": {},
   "source": [
    "## Yelp Data"
   ]
  },
  {
   "cell_type": "code",
   "execution_count": 840,
   "metadata": {},
   "outputs": [],
   "source": [
    "# MY_API_KEY = \"oUz6eQuLtqUHkxtkIZ8HyrNvFoY9TaItnqNOUY7_miB7jo_ShosXJ_vJzku-YaGjR5WdspGmGPwWm7a5HHUeiIFDJDmROwIYtM_LDDvAxCO9NeXd3dHzsfpzIxPYXHYx\" #  Replace this with your real API key\n",
    "# client = Client(MY_API_KEY)"
   ]
  },
  {
   "cell_type": "markdown",
   "metadata": {},
   "source": [
    "I used the Yelp API, Business Search Endpoint, to retrieve more information about chicago restaurants. But due to limited time, I was not able to integrate the data to our dataframe."
   ]
  },
  {
   "cell_type": "markdown",
   "metadata": {},
   "source": [
    "----"
   ]
  },
  {
   "cell_type": "markdown",
   "metadata": {},
   "source": [
    "### Rearrange New Columns"
   ]
  },
  {
   "cell_type": "code",
   "execution_count": 854,
   "metadata": {
    "scrolled": true
   },
   "outputs": [
    {
     "data": {
      "text/plain": [
       "Index(['dba_name', 'aka_name', 'license_num', 'risk', 'address', 'zip',\n",
       "       'inspection_date', 'results', 'violations', 'latitude', 'longitude',\n",
       "       'location', 'zip_codes', 'community_areas', 'wards', 'crime_frequency',\n",
       "       'sanitation_reports', 'hardship_index', 'community_name',\n",
       "       'num_inspections', 'num_failed_inspections',\n",
       "       'failed_inspections_percentage', 'num_branches', 'chain_size', 'season',\n",
       "       'Temperature_Avg', 'Humidity_Avg', 'is_3d_high', 'violation_nums',\n",
       "       'count_violations', 'count_criticalv', 'count_seriousv', 'count_minorv',\n",
       "       'count_otherv', 'violation_comments'],\n",
       "      dtype='object')"
      ]
     },
     "execution_count": 854,
     "metadata": {},
     "output_type": "execute_result"
    }
   ],
   "source": [
    "df.columns"
   ]
  },
  {
   "cell_type": "code",
   "execution_count": 343,
   "metadata": {},
   "outputs": [],
   "source": [
    "# rearrange_columns = ['dba_name', 'aka_name', 'license_num', 'address','community_areas','community_name','hardship_index', 'crime_frequency',\n",
    "#        'sanitation_reports','inspection_date','num_inspections','num_failed_inspections','failed_inspections_percentage', 'risk', 'results', 'violations', \n",
    "#        'num_branches']\n",
    "\n",
    "# df = df[rearrange_columns]"
   ]
  },
  {
   "cell_type": "markdown",
   "metadata": {},
   "source": [
    "-----------------"
   ]
  },
  {
   "cell_type": "markdown",
   "metadata": {},
   "source": [
    "## Heatmap"
   ]
  },
  {
   "cell_type": "code",
   "execution_count": 856,
   "metadata": {},
   "outputs": [],
   "source": [
    "df_heatmap = df[['results', 'risk', 'hardship_index', 'crime_frequency','sanitation_reports',\n",
    "    'inspection_date', 'num_inspections','num_failed_inspections','failed_inspections_percentage', \n",
    "    'num_branches', 'chain_size','Temperature_Avg','Humidity_Avg','is_3d_high',\n",
    "    'count_violations', 'count_criticalv', 'count_seriousv', 'count_minorv','count_otherv', ]]"
   ]
  },
  {
   "cell_type": "markdown",
   "metadata": {},
   "source": [
    "Change Risk and Chain Size from categorical to numerical features before including them in the heatmap"
   ]
  },
  {
   "cell_type": "code",
   "execution_count": 857,
   "metadata": {},
   "outputs": [
    {
     "name": "stderr",
     "output_type": "stream",
     "text": [
      "C:\\Users\\noura\\Anaconda3\\lib\\site-packages\\pandas\\core\\generic.py:4401: SettingWithCopyWarning: \n",
      "A value is trying to be set on a copy of a slice from a DataFrame.\n",
      "Try using .loc[row_indexer,col_indexer] = value instead\n",
      "\n",
      "See the caveats in the documentation: http://pandas.pydata.org/pandas-docs/stable/indexing.html#indexing-view-versus-copy\n",
      "  self[name] = value\n"
     ]
    }
   ],
   "source": [
    "df_heatmap.risk = df['risk'].apply({'Risk 1 (High)':1, 'Risk 2 (Medium)':2, 'Risk 3 (Low)':3}.get)\n",
    "df_heatmap.chain_size = df['chain_size'].apply({'1':1, '2-6':2, '7+':3}.get)"
   ]
  },
  {
   "cell_type": "code",
   "execution_count": 858,
   "metadata": {
    "scrolled": false
   },
   "outputs": [
    {
     "data": {
      "image/png": "[encoded data removed]",
      "text/plain": [
       "<Figure size 576x432 with 2 Axes>"
      ]
     },
     "metadata": {},
     "output_type": "display_data"
    }
   ],
   "source": [
    "# Compute the correlation matrix\n",
    "corr = df_heatmap.corr()\n",
    "\n",
    "# Generate a mask for the upper triangle\n",
    "mask = np.zeros_like(corr, dtype=np.bool)\n",
    "mask[np.triu_indices_from(mask)] = True\n",
    "\n",
    "# Set up the matplotlib figure\n",
    "plt.figure(figsize=(8,6))\n",
    "\n",
    "# Generate a custom diverging colormap\n",
    "cmap = sns.diverging_palette(220, 10, as_cmap=True)\n",
    "ax = sns.heatmap(corr, cmap=cmap)\n",
    "ax.set_title('Features Correlation');"
   ]
  },
  {
   "cell_type": "markdown",
   "metadata": {},
   "source": [
    "- Results is correlated with failed_inspection_percentage, count_violation, count_critical, count_serious.\n",
    "\n",
    "- Risk is negatively correlated with the number of inspections. This is expected because the higher the risk of the restaurant, the more inspection visits would be scheduled for that restaurant.\n",
    "\n",
    "- Crime and sanitation are positively correlated, consistent with our visualization.\n",
    "\n",
    "- Some features are derived from others, therfore they naturally correlate on the heatmap. Temperature_avg with is_3d_high, chain_size with num_branches, num_failed_inspections with failed_inspection_percentage."
   ]
  },
  {
   "cell_type": "markdown",
   "metadata": {},
   "source": [
    "### PairPlot"
   ]
  },
  {
   "cell_type": "code",
   "execution_count": 859,
   "metadata": {},
   "outputs": [],
   "source": [
    "#sns.pairplot(df)"
   ]
  },
  {
   "cell_type": "markdown",
   "metadata": {},
   "source": [
    "# Modeling "
   ]
  },
  {
   "cell_type": "markdown",
   "metadata": {},
   "source": [
    "We noticed that inspection results are more predictable for restaurants that have multiple observations (eithe multiple inspections or multiple branches). We would like to create two models, one for all observations, and one for restaurants with multiple inspection (more than two). We expect the second model to have higher accuracy."
   ]
  },
  {
   "cell_type": "code",
   "execution_count": 860,
   "metadata": {},
   "outputs": [],
   "source": [
    "df.is_3d_high = df.is_3d_high.apply({1:'T', 0:'F'}.get)"
   ]
  },
  {
   "cell_type": "code",
   "execution_count": 861,
   "metadata": {},
   "outputs": [],
   "source": [
    "model1_df = df.copy()\n",
    "model2_df = df[df.num_inspections>=3].copy()"
   ]
  },
  {
   "cell_type": "code",
   "execution_count": 862,
   "metadata": {},
   "outputs": [],
   "source": [
    "model1_df = model1_df[['community_name','hardship_index', 'crime_frequency',\n",
    "       'sanitation_reports','failed_inspections_percentage','risk','Humidity_Avg',\n",
    "       'is_3d_high', 'chain_size', 'results']]\n",
    "model2_df = model2_df[['community_name','hardship_index', 'crime_frequency',\n",
    "       'sanitation_reports','failed_inspections_percentage', 'risk','Humidity_Avg',\n",
    "       'is_3d_high', 'chain_size', 'results']]"
   ]
  },
  {
   "cell_type": "code",
   "execution_count": 863,
   "metadata": {},
   "outputs": [
    {
     "data": {
      "text/plain": [
       "((39349, 10), (33602, 10))"
      ]
     },
     "execution_count": 863,
     "metadata": {},
     "output_type": "execute_result"
    }
   ],
   "source": [
    "model1_df.shape, model2_df.shape"
   ]
  },
  {
   "cell_type": "markdown",
   "metadata": {},
   "source": [
    "### Baseline Prediction"
   ]
  },
  {
   "cell_type": "code",
   "execution_count": 864,
   "metadata": {},
   "outputs": [
    {
     "data": {
      "text/plain": [
       "0    0.572365\n",
       "1    0.427635\n",
       "Name: results, dtype: float64"
      ]
     },
     "execution_count": 864,
     "metadata": {},
     "output_type": "execute_result"
    }
   ],
   "source": [
    "model1_df.results.value_counts(normalize=True)"
   ]
  },
  {
   "cell_type": "code",
   "execution_count": 865,
   "metadata": {},
   "outputs": [
    {
     "data": {
      "text/plain": [
       "0    0.585203\n",
       "1    0.414797\n",
       "Name: results, dtype: float64"
      ]
     },
     "execution_count": 865,
     "metadata": {},
     "output_type": "execute_result"
    }
   ],
   "source": [
    "model2_df.results.value_counts(normalize=True)"
   ]
  },
  {
   "cell_type": "markdown",
   "metadata": {},
   "source": [
    "### Import Models"
   ]
  },
  {
   "cell_type": "code",
   "execution_count": 866,
   "metadata": {},
   "outputs": [],
   "source": [
    "from sklearn.linear_model import LogisticRegression\n",
    "from sklearn.tree import DecisionTreeClassifier\n",
    "from sklearn.ensemble import RandomForestClassifier\n",
    "import xgboost as xgb\n",
    "from keras.models import Sequential\n",
    "from keras.layers import Dense\n",
    "\n",
    "#from sklearn.metrics import classification evaluation metrics\n",
    "from sklearn.metrics import accuracy_score\n",
    "from sklearn.metrics import precision_score\n",
    "from sklearn.metrics import confusion_matrix\n",
    "from sklearn.metrics import classification_report\n",
    "\n",
    "from sklearn.preprocessing import StandardScaler\n",
    "from sklearn.model_selection import GridSearchCV\n",
    "from sklearn.model_selection import train_test_split"
   ]
  },
  {
   "cell_type": "markdown",
   "metadata": {},
   "source": [
    "## Model 1: All Restaurants"
   ]
  },
  {
   "cell_type": "code",
   "execution_count": 867,
   "metadata": {},
   "outputs": [],
   "source": [
    "X1, y1 = model1_df.iloc[:,:-1],model1_df.iloc[:,-1]"
   ]
  },
  {
   "cell_type": "code",
   "execution_count": 868,
   "metadata": {},
   "outputs": [],
   "source": [
    "X1 = pd.get_dummies(X1)"
   ]
  },
  {
   "cell_type": "code",
   "execution_count": 869,
   "metadata": {},
   "outputs": [
    {
     "data": {
      "text/plain": [
       "(39349, 89)"
      ]
     },
     "execution_count": 869,
     "metadata": {},
     "output_type": "execute_result"
    }
   ],
   "source": [
    "X1.shape"
   ]
  },
  {
   "cell_type": "markdown",
   "metadata": {},
   "source": [
    "### Split the Data to Train and Test"
   ]
  },
  {
   "cell_type": "code",
   "execution_count": 870,
   "metadata": {},
   "outputs": [],
   "source": [
    "# in train_test_split, maintain proportion of labels by stratified\n",
    "X_train1, X_test1, y_train1, y_test1 = train_test_split(X1, y1, random_state=42,  stratify=y1)"
   ]
  },
  {
   "cell_type": "markdown",
   "metadata": {},
   "source": [
    "### Scaling"
   ]
  },
  {
   "cell_type": "code",
   "execution_count": 871,
   "metadata": {},
   "outputs": [],
   "source": [
    "ss = StandardScaler()\n",
    "X_train1_ss = ss.fit_transform(X_train1)\n",
    "X_test1_ss = ss.transform(X_test1)"
   ]
  },
  {
   "cell_type": "markdown",
   "metadata": {},
   "source": [
    "### Logistic Regression "
   ]
  },
  {
   "cell_type": "code",
   "execution_count": 872,
   "metadata": {},
   "outputs": [
    {
     "name": "stdout",
     "output_type": "stream",
     "text": [
      "Fitting 5 folds for each of 20 candidates, totalling 100 fits\n"
     ]
    },
    {
     "name": "stderr",
     "output_type": "stream",
     "text": [
      "[Parallel(n_jobs=-1)]: Done  34 tasks      | elapsed:    9.5s\n",
      "[Parallel(n_jobs=-1)]: Done 100 out of 100 | elapsed:   23.3s finished\n"
     ]
    },
    {
     "data": {
      "text/plain": [
       "GridSearchCV(cv=5, error_score='raise',\n",
       "       estimator=LogisticRegression(C=1.0, class_weight=None, dual=False, fit_intercept=True,\n",
       "          intercept_scaling=1, max_iter=100, multi_class='ovr', n_jobs=1,\n",
       "          penalty='l2', random_state=None, solver='liblinear', tol=0.0001,\n",
       "          verbose=0, warm_start=False),\n",
       "       fit_params=None, iid=True, n_jobs=-1,\n",
       "       param_grid={'penalty': ['l1', 'l2'], 'C': array([0.001  , 0.00215, 0.00464, 0.01   , 0.02154, 0.04642, 0.1    ,\n",
       "       0.21544, 0.46416, 1.     ])},\n",
       "       pre_dispatch='2*n_jobs', refit=True, return_train_score='warn',\n",
       "       scoring=None, verbose=1)"
      ]
     },
     "execution_count": 872,
     "metadata": {},
     "output_type": "execute_result"
    }
   ],
   "source": [
    "# fill the dictionary of parameters\n",
    "gs_params = {'penalty':['l1','l2'],\n",
    "             'C':np.logspace(-3,0,10)}\n",
    "\n",
    "#create gridsearch object\n",
    "lr_grid = GridSearchCV(LogisticRegression(), \n",
    "                             gs_params, \n",
    "                             n_jobs=-1, cv=5, verbose=1)\n",
    "lr_grid.fit(X_train1_ss, y_train1)"
   ]
  },
  {
   "cell_type": "code",
   "execution_count": 873,
   "metadata": {},
   "outputs": [
    {
     "data": {
      "text/plain": [
       "0.7470773609840399"
      ]
     },
     "execution_count": 873,
     "metadata": {},
     "output_type": "execute_result"
    }
   ],
   "source": [
    "# find the best mean cross-validated score that gridsearch found\n",
    "lr_grid.best_score_"
   ]
  },
  {
   "cell_type": "code",
   "execution_count": 874,
   "metadata": {},
   "outputs": [
    {
     "data": {
      "text/plain": [
       "{'C': 0.001, 'penalty': 'l2'}"
      ]
     },
     "execution_count": 874,
     "metadata": {},
     "output_type": "execute_result"
    }
   ],
   "source": [
    "# find the best hyperparameters that gridsearch found\n",
    "lr_grid.best_params_"
   ]
  },
  {
   "cell_type": "code",
   "execution_count": 875,
   "metadata": {},
   "outputs": [],
   "source": [
    "# assign the best estimator to a variable\n",
    "best_lr = lr_grid.best_estimator_"
   ]
  },
  {
   "cell_type": "code",
   "execution_count": 876,
   "metadata": {},
   "outputs": [
    {
     "data": {
      "text/plain": [
       "0.7426306159788575"
      ]
     },
     "execution_count": 876,
     "metadata": {},
     "output_type": "execute_result"
    }
   ],
   "source": [
    "# score your best estimator on the testing data\n",
    "best_lr.score(X_test1_ss, y_test1)"
   ]
  },
  {
   "cell_type": "code",
   "execution_count": 877,
   "metadata": {},
   "outputs": [],
   "source": [
    "lr_y1_pred = best_lr.predict(X_test1_ss)"
   ]
  },
  {
   "cell_type": "markdown",
   "metadata": {},
   "source": [
    "#### Evaluation Metrics"
   ]
  },
  {
   "cell_type": "code",
   "execution_count": 878,
   "metadata": {},
   "outputs": [
    {
     "data": {
      "text/plain": [
       "array([[4643,  988],\n",
       "       [1544, 2663]], dtype=int64)"
      ]
     },
     "execution_count": 878,
     "metadata": {},
     "output_type": "execute_result"
    }
   ],
   "source": [
    "confusion_matrix(y_test1, lr_y1_pred)"
   ]
  },
  {
   "cell_type": "code",
   "execution_count": 879,
   "metadata": {},
   "outputs": [
    {
     "data": {
      "text/plain": [
       "0.7426306159788575"
      ]
     },
     "execution_count": 879,
     "metadata": {},
     "output_type": "execute_result"
    }
   ],
   "source": [
    "accuracy_score(y_test1, lr_y1_pred)"
   ]
  },
  {
   "cell_type": "code",
   "execution_count": 880,
   "metadata": {},
   "outputs": [
    {
     "data": {
      "text/plain": [
       "0.7293892084360449"
      ]
     },
     "execution_count": 880,
     "metadata": {},
     "output_type": "execute_result"
    }
   ],
   "source": [
    "precision_score(y_test1, lr_y1_pred)"
   ]
  },
  {
   "cell_type": "code",
   "execution_count": 881,
   "metadata": {},
   "outputs": [
    {
     "name": "stdout",
     "output_type": "stream",
     "text": [
      "             precision    recall  f1-score   support\n",
      "\n",
      "          0       0.75      0.82      0.79      5631\n",
      "          1       0.73      0.63      0.68      4207\n",
      "\n",
      "avg / total       0.74      0.74      0.74      9838\n",
      "\n"
     ]
    }
   ],
   "source": [
    "print(classification_report(y_test1, lr_y1_pred))"
   ]
  },
  {
   "cell_type": "markdown",
   "metadata": {},
   "source": [
    "#### Feature Importance  "
   ]
  },
  {
   "cell_type": "code",
   "execution_count": 882,
   "metadata": {},
   "outputs": [],
   "source": [
    "coefficients = pd.concat([pd.DataFrame(X1.columns),pd.DataFrame(np.transpose(best_lr.coef_))], axis = 1)"
   ]
  },
  {
   "cell_type": "code",
   "execution_count": 883,
   "metadata": {
    "scrolled": false
   },
   "outputs": [],
   "source": [
    "pd.set_option('display.max_rows',100)\n",
    "pd.set_option('display.max_colwidth', -1)\n",
    "coefficients.columns = [\"feature_name\",\"coefficient\"]"
   ]
  },
  {
   "cell_type": "code",
   "execution_count": 884,
   "metadata": {},
   "outputs": [
    {
     "data": {
      "text/html": [
       "<div>\n",
       "<style scoped>\n",
       "    .dataframe tbody tr th:only-of-type {\n",
       "        vertical-align: middle;\n",
       "    }\n",
       "\n",
       "    .dataframe tbody tr th {\n",
       "        vertical-align: top;\n",
       "    }\n",
       "\n",
       "    .dataframe thead th {\n",
       "        text-align: right;\n",
       "    }\n",
       "</style>\n",
       "<table border=\"1\" class=\"dataframe\">\n",
       "  <thead>\n",
       "    <tr style=\"text-align: right;\">\n",
       "      <th></th>\n",
       "      <th>feature_name</th>\n",
       "      <th>coefficient</th>\n",
       "    </tr>\n",
       "  </thead>\n",
       "  <tbody>\n",
       "    <tr>\n",
       "      <th>3</th>\n",
       "      <td>failed_inspections_percentage</td>\n",
       "      <td>1.247813</td>\n",
       "    </tr>\n",
       "    <tr>\n",
       "      <th>85</th>\n",
       "      <td>is_3d_high_T</td>\n",
       "      <td>0.043137</td>\n",
       "    </tr>\n",
       "    <tr>\n",
       "      <th>60</th>\n",
       "      <td>community_name_O'Hare</td>\n",
       "      <td>0.019269</td>\n",
       "    </tr>\n",
       "    <tr>\n",
       "      <th>57</th>\n",
       "      <td>community_name_North Lawndale</td>\n",
       "      <td>0.018689</td>\n",
       "    </tr>\n",
       "    <tr>\n",
       "      <th>47</th>\n",
       "      <td>community_name_Lower West Side</td>\n",
       "      <td>0.017728</td>\n",
       "    </tr>\n",
       "    <tr>\n",
       "      <th>81</th>\n",
       "      <td>risk_Risk 1 (High)</td>\n",
       "      <td>0.017456</td>\n",
       "    </tr>\n",
       "    <tr>\n",
       "      <th>25</th>\n",
       "      <td>community_name_East Side</td>\n",
       "      <td>0.014709</td>\n",
       "    </tr>\n",
       "    <tr>\n",
       "      <th>78</th>\n",
       "      <td>community_name_West Ridge</td>\n",
       "      <td>0.014202</td>\n",
       "    </tr>\n",
       "    <tr>\n",
       "      <th>54</th>\n",
       "      <td>community_name_Near West Side</td>\n",
       "      <td>0.012596</td>\n",
       "    </tr>\n",
       "    <tr>\n",
       "      <th>19</th>\n",
       "      <td>community_name_Chatham</td>\n",
       "      <td>0.012235</td>\n",
       "    </tr>\n",
       "    <tr>\n",
       "      <th>61</th>\n",
       "      <td>community_name_Oakland</td>\n",
       "      <td>0.010692</td>\n",
       "    </tr>\n",
       "    <tr>\n",
       "      <th>69</th>\n",
       "      <td>community_name_South Lawndale</td>\n",
       "      <td>0.010163</td>\n",
       "    </tr>\n",
       "    <tr>\n",
       "      <th>53</th>\n",
       "      <td>community_name_Near South Side</td>\n",
       "      <td>0.009436</td>\n",
       "    </tr>\n",
       "    <tr>\n",
       "      <th>52</th>\n",
       "      <td>community_name_Near North Side</td>\n",
       "      <td>0.008176</td>\n",
       "    </tr>\n",
       "    <tr>\n",
       "      <th>76</th>\n",
       "      <td>community_name_West Lawn</td>\n",
       "      <td>0.007647</td>\n",
       "    </tr>\n",
       "    <tr>\n",
       "      <th>72</th>\n",
       "      <td>community_name_Washington Park</td>\n",
       "      <td>0.007083</td>\n",
       "    </tr>\n",
       "    <tr>\n",
       "      <th>43</th>\n",
       "      <td>community_name_Lincoln Park</td>\n",
       "      <td>0.006793</td>\n",
       "    </tr>\n",
       "    <tr>\n",
       "      <th>26</th>\n",
       "      <td>community_name_Edgewater</td>\n",
       "      <td>0.006225</td>\n",
       "    </tr>\n",
       "    <tr>\n",
       "      <th>74</th>\n",
       "      <td>community_name_West Englewood</td>\n",
       "      <td>0.006127</td>\n",
       "    </tr>\n",
       "    <tr>\n",
       "      <th>14</th>\n",
       "      <td>community_name_Beverly</td>\n",
       "      <td>0.005851</td>\n",
       "    </tr>\n",
       "    <tr>\n",
       "      <th>28</th>\n",
       "      <td>community_name_Englewood</td>\n",
       "      <td>0.005815</td>\n",
       "    </tr>\n",
       "    <tr>\n",
       "      <th>4</th>\n",
       "      <td>Humidity_Avg</td>\n",
       "      <td>0.005519</td>\n",
       "    </tr>\n",
       "    <tr>\n",
       "      <th>58</th>\n",
       "      <td>community_name_North Park</td>\n",
       "      <td>0.005295</td>\n",
       "    </tr>\n",
       "    <tr>\n",
       "      <th>63</th>\n",
       "      <td>community_name_Pullman</td>\n",
       "      <td>0.005084</td>\n",
       "    </tr>\n",
       "    <tr>\n",
       "      <th>22</th>\n",
       "      <td>community_name_Douglas</td>\n",
       "      <td>0.005053</td>\n",
       "    </tr>\n",
       "    <tr>\n",
       "      <th>9</th>\n",
       "      <td>community_name_Auburn Gresham</td>\n",
       "      <td>0.004657</td>\n",
       "    </tr>\n",
       "    <tr>\n",
       "      <th>11</th>\n",
       "      <td>community_name_Avalon Park</td>\n",
       "      <td>0.004436</td>\n",
       "    </tr>\n",
       "    <tr>\n",
       "      <th>10</th>\n",
       "      <td>community_name_Austin</td>\n",
       "      <td>0.004234</td>\n",
       "    </tr>\n",
       "    <tr>\n",
       "      <th>35</th>\n",
       "      <td>community_name_Hegewisch</td>\n",
       "      <td>0.003958</td>\n",
       "    </tr>\n",
       "    <tr>\n",
       "      <th>70</th>\n",
       "      <td>community_name_Uptown</td>\n",
       "      <td>0.003925</td>\n",
       "    </tr>\n",
       "    <tr>\n",
       "      <th>44</th>\n",
       "      <td>community_name_Lincoln Square</td>\n",
       "      <td>0.003813</td>\n",
       "    </tr>\n",
       "    <tr>\n",
       "      <th>34</th>\n",
       "      <td>community_name_Greater Grand Crossing</td>\n",
       "      <td>0.003476</td>\n",
       "    </tr>\n",
       "    <tr>\n",
       "      <th>0</th>\n",
       "      <td>hardship_index</td>\n",
       "      <td>0.003421</td>\n",
       "    </tr>\n",
       "    <tr>\n",
       "      <th>13</th>\n",
       "      <td>community_name_Belmont Cragin</td>\n",
       "      <td>0.003282</td>\n",
       "    </tr>\n",
       "    <tr>\n",
       "      <th>88</th>\n",
       "      <td>chain_size_7+</td>\n",
       "      <td>0.003139</td>\n",
       "    </tr>\n",
       "    <tr>\n",
       "      <th>46</th>\n",
       "      <td>community_name_Loop</td>\n",
       "      <td>0.003112</td>\n",
       "    </tr>\n",
       "    <tr>\n",
       "      <th>75</th>\n",
       "      <td>community_name_West Garfield Park</td>\n",
       "      <td>0.002708</td>\n",
       "    </tr>\n",
       "    <tr>\n",
       "      <th>42</th>\n",
       "      <td>community_name_Lake View</td>\n",
       "      <td>0.002615</td>\n",
       "    </tr>\n",
       "    <tr>\n",
       "      <th>1</th>\n",
       "      <td>crime_frequency</td>\n",
       "      <td>0.001325</td>\n",
       "    </tr>\n",
       "    <tr>\n",
       "      <th>36</th>\n",
       "      <td>community_name_Hermosa</td>\n",
       "      <td>0.001250</td>\n",
       "    </tr>\n",
       "    <tr>\n",
       "      <th>2</th>\n",
       "      <td>sanitation_reports</td>\n",
       "      <td>0.001075</td>\n",
       "    </tr>\n",
       "    <tr>\n",
       "      <th>50</th>\n",
       "      <td>community_name_Morgan Park</td>\n",
       "      <td>0.000867</td>\n",
       "    </tr>\n",
       "    <tr>\n",
       "      <th>56</th>\n",
       "      <td>community_name_North Center</td>\n",
       "      <td>0.000648</td>\n",
       "    </tr>\n",
       "    <tr>\n",
       "      <th>16</th>\n",
       "      <td>community_name_Brighton Park</td>\n",
       "      <td>0.000636</td>\n",
       "    </tr>\n",
       "    <tr>\n",
       "      <th>86</th>\n",
       "      <td>chain_size_1</td>\n",
       "      <td>-0.000273</td>\n",
       "    </tr>\n",
       "    <tr>\n",
       "      <th>12</th>\n",
       "      <td>community_name_Avondale</td>\n",
       "      <td>-0.000329</td>\n",
       "    </tr>\n",
       "    <tr>\n",
       "      <th>37</th>\n",
       "      <td>community_name_Humboldt park</td>\n",
       "      <td>-0.000523</td>\n",
       "    </tr>\n",
       "    <tr>\n",
       "      <th>64</th>\n",
       "      <td>community_name_Riverdale</td>\n",
       "      <td>-0.001030</td>\n",
       "    </tr>\n",
       "    <tr>\n",
       "      <th>41</th>\n",
       "      <td>community_name_Kenwood</td>\n",
       "      <td>-0.001118</td>\n",
       "    </tr>\n",
       "    <tr>\n",
       "      <th>51</th>\n",
       "      <td>community_name_Mount Greenwood</td>\n",
       "      <td>-0.001237</td>\n",
       "    </tr>\n",
       "    <tr>\n",
       "      <th>30</th>\n",
       "      <td>community_name_Fuller Park</td>\n",
       "      <td>-0.001402</td>\n",
       "    </tr>\n",
       "    <tr>\n",
       "      <th>68</th>\n",
       "      <td>community_name_South Deering</td>\n",
       "      <td>-0.002163</td>\n",
       "    </tr>\n",
       "    <tr>\n",
       "      <th>87</th>\n",
       "      <td>chain_size_2-6</td>\n",
       "      <td>-0.002314</td>\n",
       "    </tr>\n",
       "    <tr>\n",
       "      <th>5</th>\n",
       "      <td>community_name_Albany Park</td>\n",
       "      <td>-0.002435</td>\n",
       "    </tr>\n",
       "    <tr>\n",
       "      <th>62</th>\n",
       "      <td>community_name_Portage Park</td>\n",
       "      <td>-0.002716</td>\n",
       "    </tr>\n",
       "    <tr>\n",
       "      <th>21</th>\n",
       "      <td>community_name_Clearing</td>\n",
       "      <td>-0.002777</td>\n",
       "    </tr>\n",
       "    <tr>\n",
       "      <th>18</th>\n",
       "      <td>community_name_Calumet Heights</td>\n",
       "      <td>-0.002864</td>\n",
       "    </tr>\n",
       "    <tr>\n",
       "      <th>80</th>\n",
       "      <td>community_name_Woodlawn</td>\n",
       "      <td>-0.002866</td>\n",
       "    </tr>\n",
       "    <tr>\n",
       "      <th>38</th>\n",
       "      <td>community_name_Hyde Park</td>\n",
       "      <td>-0.002931</td>\n",
       "    </tr>\n",
       "    <tr>\n",
       "      <th>8</th>\n",
       "      <td>community_name_Ashburn</td>\n",
       "      <td>-0.003398</td>\n",
       "    </tr>\n",
       "    <tr>\n",
       "      <th>31</th>\n",
       "      <td>community_name_Gage Park</td>\n",
       "      <td>-0.004531</td>\n",
       "    </tr>\n",
       "    <tr>\n",
       "      <th>67</th>\n",
       "      <td>community_name_South Chicago</td>\n",
       "      <td>-0.004737</td>\n",
       "    </tr>\n",
       "    <tr>\n",
       "      <th>59</th>\n",
       "      <td>community_name_Norwood Park</td>\n",
       "      <td>-0.005226</td>\n",
       "    </tr>\n",
       "    <tr>\n",
       "      <th>66</th>\n",
       "      <td>community_name_Roseland</td>\n",
       "      <td>-0.005753</td>\n",
       "    </tr>\n",
       "    <tr>\n",
       "      <th>15</th>\n",
       "      <td>community_name_Bridgeport</td>\n",
       "      <td>-0.005909</td>\n",
       "    </tr>\n",
       "    <tr>\n",
       "      <th>29</th>\n",
       "      <td>community_name_Forest Glen</td>\n",
       "      <td>-0.006507</td>\n",
       "    </tr>\n",
       "    <tr>\n",
       "      <th>20</th>\n",
       "      <td>community_name_Chicago Lawn</td>\n",
       "      <td>-0.006589</td>\n",
       "    </tr>\n",
       "    <tr>\n",
       "      <th>23</th>\n",
       "      <td>community_name_Dunning</td>\n",
       "      <td>-0.006735</td>\n",
       "    </tr>\n",
       "    <tr>\n",
       "      <th>79</th>\n",
       "      <td>community_name_West Town</td>\n",
       "      <td>-0.007041</td>\n",
       "    </tr>\n",
       "    <tr>\n",
       "      <th>49</th>\n",
       "      <td>community_name_Montclaire</td>\n",
       "      <td>-0.007050</td>\n",
       "    </tr>\n",
       "    <tr>\n",
       "      <th>40</th>\n",
       "      <td>community_name_Jefferson Park</td>\n",
       "      <td>-0.007501</td>\n",
       "    </tr>\n",
       "    <tr>\n",
       "      <th>71</th>\n",
       "      <td>community_name_Washington Height</td>\n",
       "      <td>-0.007502</td>\n",
       "    </tr>\n",
       "    <tr>\n",
       "      <th>27</th>\n",
       "      <td>community_name_Edison Park</td>\n",
       "      <td>-0.008363</td>\n",
       "    </tr>\n",
       "    <tr>\n",
       "      <th>45</th>\n",
       "      <td>community_name_Logan Square</td>\n",
       "      <td>-0.008384</td>\n",
       "    </tr>\n",
       "    <tr>\n",
       "      <th>6</th>\n",
       "      <td>community_name_Archer Heights</td>\n",
       "      <td>-0.008449</td>\n",
       "    </tr>\n",
       "    <tr>\n",
       "      <th>65</th>\n",
       "      <td>community_name_Rogers Park</td>\n",
       "      <td>-0.008875</td>\n",
       "    </tr>\n",
       "    <tr>\n",
       "      <th>7</th>\n",
       "      <td>community_name_Armour Square</td>\n",
       "      <td>-0.009484</td>\n",
       "    </tr>\n",
       "    <tr>\n",
       "      <th>33</th>\n",
       "      <td>community_name_Grand Boulevard</td>\n",
       "      <td>-0.009550</td>\n",
       "    </tr>\n",
       "    <tr>\n",
       "      <th>24</th>\n",
       "      <td>community_name_East Garfield Park</td>\n",
       "      <td>-0.009603</td>\n",
       "    </tr>\n",
       "    <tr>\n",
       "      <th>32</th>\n",
       "      <td>community_name_Garfield Ridge</td>\n",
       "      <td>-0.010392</td>\n",
       "    </tr>\n",
       "    <tr>\n",
       "      <th>55</th>\n",
       "      <td>community_name_New City</td>\n",
       "      <td>-0.010469</td>\n",
       "    </tr>\n",
       "    <tr>\n",
       "      <th>17</th>\n",
       "      <td>community_name_Burnside</td>\n",
       "      <td>-0.010595</td>\n",
       "    </tr>\n",
       "    <tr>\n",
       "      <th>39</th>\n",
       "      <td>community_name_Irving Park</td>\n",
       "      <td>-0.010915</td>\n",
       "    </tr>\n",
       "    <tr>\n",
       "      <th>48</th>\n",
       "      <td>community_name_McKinley Park</td>\n",
       "      <td>-0.011672</td>\n",
       "    </tr>\n",
       "    <tr>\n",
       "      <th>73</th>\n",
       "      <td>community_name_West Elsdon</td>\n",
       "      <td>-0.013851</td>\n",
       "    </tr>\n",
       "    <tr>\n",
       "      <th>82</th>\n",
       "      <td>risk_Risk 2 (Medium)</td>\n",
       "      <td>-0.014269</td>\n",
       "    </tr>\n",
       "    <tr>\n",
       "      <th>83</th>\n",
       "      <td>risk_Risk 3 (Low)</td>\n",
       "      <td>-0.022511</td>\n",
       "    </tr>\n",
       "    <tr>\n",
       "      <th>77</th>\n",
       "      <td>community_name_West Pullman</td>\n",
       "      <td>-0.026960</td>\n",
       "    </tr>\n",
       "    <tr>\n",
       "      <th>84</th>\n",
       "      <td>is_3d_high_F</td>\n",
       "      <td>-0.043137</td>\n",
       "    </tr>\n",
       "  </tbody>\n",
       "</table>\n",
       "</div>"
      ],
      "text/plain": [
       "                             feature_name  coefficient\n",
       "3   failed_inspections_percentage          1.247813   \n",
       "85  is_3d_high_T                           0.043137   \n",
       "60  community_name_O'Hare                  0.019269   \n",
       "57  community_name_North Lawndale          0.018689   \n",
       "47  community_name_Lower West Side         0.017728   \n",
       "81  risk_Risk 1 (High)                     0.017456   \n",
       "25  community_name_East Side               0.014709   \n",
       "78  community_name_West Ridge              0.014202   \n",
       "54  community_name_Near West Side          0.012596   \n",
       "19  community_name_Chatham                 0.012235   \n",
       "61  community_name_Oakland                 0.010692   \n",
       "69  community_name_South Lawndale          0.010163   \n",
       "53  community_name_Near South Side         0.009436   \n",
       "52  community_name_Near North Side         0.008176   \n",
       "76  community_name_West Lawn               0.007647   \n",
       "72  community_name_Washington Park         0.007083   \n",
       "43  community_name_Lincoln Park            0.006793   \n",
       "26  community_name_Edgewater               0.006225   \n",
       "74  community_name_West Englewood          0.006127   \n",
       "14  community_name_Beverly                 0.005851   \n",
       "28  community_name_Englewood               0.005815   \n",
       "4   Humidity_Avg                           0.005519   \n",
       "58  community_name_North Park              0.005295   \n",
       "63  community_name_Pullman                 0.005084   \n",
       "22  community_name_Douglas                 0.005053   \n",
       "9   community_name_Auburn Gresham          0.004657   \n",
       "11  community_name_Avalon Park             0.004436   \n",
       "10  community_name_Austin                  0.004234   \n",
       "35  community_name_Hegewisch               0.003958   \n",
       "70  community_name_Uptown                  0.003925   \n",
       "44  community_name_Lincoln Square          0.003813   \n",
       "34  community_name_Greater Grand Crossing  0.003476   \n",
       "0   hardship_index                         0.003421   \n",
       "13  community_name_Belmont Cragin          0.003282   \n",
       "88  chain_size_7+                          0.003139   \n",
       "46  community_name_Loop                    0.003112   \n",
       "75  community_name_West Garfield Park      0.002708   \n",
       "42  community_name_Lake View               0.002615   \n",
       "1   crime_frequency                        0.001325   \n",
       "36  community_name_Hermosa                 0.001250   \n",
       "2   sanitation_reports                     0.001075   \n",
       "50  community_name_Morgan Park             0.000867   \n",
       "56  community_name_North Center            0.000648   \n",
       "16  community_name_Brighton Park           0.000636   \n",
       "86  chain_size_1                          -0.000273   \n",
       "12  community_name_Avondale               -0.000329   \n",
       "37  community_name_Humboldt park          -0.000523   \n",
       "64  community_name_Riverdale              -0.001030   \n",
       "41  community_name_Kenwood                -0.001118   \n",
       "51  community_name_Mount Greenwood        -0.001237   \n",
       "30  community_name_Fuller Park            -0.001402   \n",
       "68  community_name_South Deering          -0.002163   \n",
       "87  chain_size_2-6                        -0.002314   \n",
       "5   community_name_Albany Park            -0.002435   \n",
       "62  community_name_Portage Park           -0.002716   \n",
       "21  community_name_Clearing               -0.002777   \n",
       "18  community_name_Calumet Heights        -0.002864   \n",
       "80  community_name_Woodlawn               -0.002866   \n",
       "38  community_name_Hyde Park              -0.002931   \n",
       "8   community_name_Ashburn                -0.003398   \n",
       "31  community_name_Gage Park              -0.004531   \n",
       "67  community_name_South Chicago          -0.004737   \n",
       "59  community_name_Norwood Park           -0.005226   \n",
       "66  community_name_Roseland               -0.005753   \n",
       "15  community_name_Bridgeport             -0.005909   \n",
       "29  community_name_Forest Glen            -0.006507   \n",
       "20  community_name_Chicago Lawn           -0.006589   \n",
       "23  community_name_Dunning                -0.006735   \n",
       "79  community_name_West Town              -0.007041   \n",
       "49  community_name_Montclaire             -0.007050   \n",
       "40  community_name_Jefferson Park         -0.007501   \n",
       "71  community_name_Washington Height      -0.007502   \n",
       "27  community_name_Edison Park            -0.008363   \n",
       "45  community_name_Logan Square           -0.008384   \n",
       "6   community_name_Archer Heights         -0.008449   \n",
       "65  community_name_Rogers Park            -0.008875   \n",
       "7   community_name_Armour Square          -0.009484   \n",
       "33  community_name_Grand Boulevard        -0.009550   \n",
       "24  community_name_East Garfield Park     -0.009603   \n",
       "32  community_name_Garfield Ridge         -0.010392   \n",
       "55  community_name_New City               -0.010469   \n",
       "17  community_name_Burnside               -0.010595   \n",
       "39  community_name_Irving Park            -0.010915   \n",
       "48  community_name_McKinley Park          -0.011672   \n",
       "73  community_name_West Elsdon            -0.013851   \n",
       "82  risk_Risk 2 (Medium)                  -0.014269   \n",
       "83  risk_Risk 3 (Low)                     -0.022511   \n",
       "77  community_name_West Pullman           -0.026960   \n",
       "84  is_3d_high_F                          -0.043137   "
      ]
     },
     "execution_count": 884,
     "metadata": {},
     "output_type": "execute_result"
    }
   ],
   "source": [
    "coefficients.sort_values(by='coefficient',ascending=False)"
   ]
  },
  {
   "cell_type": "markdown",
   "metadata": {},
   "source": [
    "The largest contribution to the model is coming from the failed_inspections_percentage for a restaurants, followed by is_3d_high_T. The rating \"risk_Risk 1 (High)\" is also one of the largest contributors to the model. \n",
    "\n",
    "At the bottom of the dataframe, you will find the greatest negative contributors to a Fail result. When is_3d_high is false, or set to 0, and when a restaurant has risk_Risk 3 (Low).\n",
    "\n",
    "Some community areas have a positive effect and some have a negative effect. Plotting these community areas along with their coefficients on the Chicago city map would be very insightful as some areas might be close together."
   ]
  },
  {
   "cell_type": "markdown",
   "metadata": {},
   "source": [
    "## Decision Tree Classifier"
   ]
  },
  {
   "cell_type": "code",
   "execution_count": 885,
   "metadata": {},
   "outputs": [
    {
     "data": {
      "text/plain": [
       "GridSearchCV(cv=10, error_score='raise',\n",
       "       estimator=DecisionTreeClassifier(class_weight=None, criterion='gini', max_depth=None,\n",
       "            max_features=None, max_leaf_nodes=None,\n",
       "            min_impurity_decrease=0.0, min_impurity_split=None,\n",
       "            min_samples_leaf=1, min_samples_split=2,\n",
       "            min_weight_fraction_leaf=0.0, presort=False, random_state=None,\n",
       "            splitter='best'),\n",
       "       fit_params=None, iid=True, n_jobs=1,\n",
       "       param_grid={'max_depth': range(1, 5)}, pre_dispatch='2*n_jobs',\n",
       "       refit=True, return_train_score='warn', scoring='accuracy',\n",
       "       verbose=0)"
      ]
     },
     "execution_count": 885,
     "metadata": {},
     "output_type": "execute_result"
    }
   ],
   "source": [
    "depth_range = range(1, 5)\n",
    "leaf_range = range(1,15)\n",
    "#n_estimators\n",
    "param_grid = dict(max_depth=depth_range)\n",
    "d_tree = DecisionTreeClassifier()\n",
    "dt_grid = GridSearchCV(d_tree, param_grid, cv=10, scoring='accuracy')\n",
    "dt_grid.fit(X_train1, y_train1)"
   ]
  },
  {
   "cell_type": "code",
   "execution_count": 886,
   "metadata": {},
   "outputs": [
    {
     "name": "stdout",
     "output_type": "stream",
     "text": [
      "0.7462302192402833\n"
     ]
    }
   ],
   "source": [
    "print(dt_grid.best_score_)"
   ]
  },
  {
   "cell_type": "code",
   "execution_count": 887,
   "metadata": {},
   "outputs": [
    {
     "name": "stdout",
     "output_type": "stream",
     "text": [
      "{'max_depth': 4}\n"
     ]
    }
   ],
   "source": [
    "print(dt_grid.best_params_)"
   ]
  },
  {
   "cell_type": "code",
   "execution_count": 888,
   "metadata": {},
   "outputs": [
    {
     "name": "stdout",
     "output_type": "stream",
     "text": [
      "DecisionTreeClassifier(class_weight=None, criterion='gini', max_depth=4,\n",
      "            max_features=None, max_leaf_nodes=None,\n",
      "            min_impurity_decrease=0.0, min_impurity_split=None,\n",
      "            min_samples_leaf=1, min_samples_split=2,\n",
      "            min_weight_fraction_leaf=0.0, presort=False, random_state=None,\n",
      "            splitter='best')\n"
     ]
    }
   ],
   "source": [
    "print(dt_grid.best_estimator_)"
   ]
  },
  {
   "cell_type": "code",
   "execution_count": 889,
   "metadata": {},
   "outputs": [],
   "source": [
    "best_dt = dt_grid.best_estimator_"
   ]
  },
  {
   "cell_type": "code",
   "execution_count": 890,
   "metadata": {},
   "outputs": [],
   "source": [
    "dt_y1_pred = best_dt.predict(X_test1)"
   ]
  },
  {
   "cell_type": "markdown",
   "metadata": {},
   "source": [
    "#### Evaluation Metrics"
   ]
  },
  {
   "cell_type": "code",
   "execution_count": 891,
   "metadata": {},
   "outputs": [
    {
     "data": {
      "text/plain": [
       "array([[4940,  691],\n",
       "       [1841, 2366]], dtype=int64)"
      ]
     },
     "execution_count": 891,
     "metadata": {},
     "output_type": "execute_result"
    }
   ],
   "source": [
    "confusion_matrix(y_test1, dt_y1_pred)"
   ]
  },
  {
   "cell_type": "code",
   "execution_count": 892,
   "metadata": {},
   "outputs": [
    {
     "data": {
      "text/plain": [
       "0.7426306159788575"
      ]
     },
     "execution_count": 892,
     "metadata": {},
     "output_type": "execute_result"
    }
   ],
   "source": [
    "accuracy_score(y_test1, dt_y1_pred)"
   ]
  },
  {
   "cell_type": "code",
   "execution_count": 893,
   "metadata": {},
   "outputs": [
    {
     "data": {
      "text/plain": [
       "0.7739614000654236"
      ]
     },
     "execution_count": 893,
     "metadata": {},
     "output_type": "execute_result"
    }
   ],
   "source": [
    "precision_score(y_test1, dt_y1_pred)"
   ]
  },
  {
   "cell_type": "markdown",
   "metadata": {},
   "source": [
    "#### Feature Importance  "
   ]
  },
  {
   "cell_type": "code",
   "execution_count": 894,
   "metadata": {},
   "outputs": [],
   "source": [
    "dt_coefficients = pd.concat([pd.DataFrame(X1.columns),pd.DataFrame(np.transpose(best_dt.feature_importances_))], axis = 1)"
   ]
  },
  {
   "cell_type": "code",
   "execution_count": 895,
   "metadata": {
    "scrolled": false
   },
   "outputs": [],
   "source": [
    "pd.set_option('display.max_rows',100)\n",
    "pd.set_option('display.max_colwidth', -1)\n",
    "dt_coefficients.columns = [\"feature_name\",\"coefficient\"]"
   ]
  },
  {
   "cell_type": "code",
   "execution_count": 896,
   "metadata": {},
   "outputs": [
    {
     "data": {
      "text/html": [
       "<div>\n",
       "<style scoped>\n",
       "    .dataframe tbody tr th:only-of-type {\n",
       "        vertical-align: middle;\n",
       "    }\n",
       "\n",
       "    .dataframe tbody tr th {\n",
       "        vertical-align: top;\n",
       "    }\n",
       "\n",
       "    .dataframe thead th {\n",
       "        text-align: right;\n",
       "    }\n",
       "</style>\n",
       "<table border=\"1\" class=\"dataframe\">\n",
       "  <thead>\n",
       "    <tr style=\"text-align: right;\">\n",
       "      <th></th>\n",
       "      <th>feature_name</th>\n",
       "      <th>coefficient</th>\n",
       "    </tr>\n",
       "  </thead>\n",
       "  <tbody>\n",
       "    <tr>\n",
       "      <th>3</th>\n",
       "      <td>failed_inspections_percentage</td>\n",
       "      <td>0.997687</td>\n",
       "    </tr>\n",
       "    <tr>\n",
       "      <th>85</th>\n",
       "      <td>is_3d_high_T</td>\n",
       "      <td>0.001979</td>\n",
       "    </tr>\n",
       "    <tr>\n",
       "      <th>4</th>\n",
       "      <td>Humidity_Avg</td>\n",
       "      <td>0.000335</td>\n",
       "    </tr>\n",
       "    <tr>\n",
       "      <th>0</th>\n",
       "      <td>hardship_index</td>\n",
       "      <td>0.000000</td>\n",
       "    </tr>\n",
       "    <tr>\n",
       "      <th>57</th>\n",
       "      <td>community_name_North Lawndale</td>\n",
       "      <td>0.000000</td>\n",
       "    </tr>\n",
       "    <tr>\n",
       "      <th>65</th>\n",
       "      <td>community_name_Rogers Park</td>\n",
       "      <td>0.000000</td>\n",
       "    </tr>\n",
       "    <tr>\n",
       "      <th>64</th>\n",
       "      <td>community_name_Riverdale</td>\n",
       "      <td>0.000000</td>\n",
       "    </tr>\n",
       "    <tr>\n",
       "      <th>63</th>\n",
       "      <td>community_name_Pullman</td>\n",
       "      <td>0.000000</td>\n",
       "    </tr>\n",
       "    <tr>\n",
       "      <th>62</th>\n",
       "      <td>community_name_Portage Park</td>\n",
       "      <td>0.000000</td>\n",
       "    </tr>\n",
       "    <tr>\n",
       "      <th>61</th>\n",
       "      <td>community_name_Oakland</td>\n",
       "      <td>0.000000</td>\n",
       "    </tr>\n",
       "    <tr>\n",
       "      <th>60</th>\n",
       "      <td>community_name_O'Hare</td>\n",
       "      <td>0.000000</td>\n",
       "    </tr>\n",
       "    <tr>\n",
       "      <th>59</th>\n",
       "      <td>community_name_Norwood Park</td>\n",
       "      <td>0.000000</td>\n",
       "    </tr>\n",
       "    <tr>\n",
       "      <th>58</th>\n",
       "      <td>community_name_North Park</td>\n",
       "      <td>0.000000</td>\n",
       "    </tr>\n",
       "    <tr>\n",
       "      <th>55</th>\n",
       "      <td>community_name_New City</td>\n",
       "      <td>0.000000</td>\n",
       "    </tr>\n",
       "    <tr>\n",
       "      <th>56</th>\n",
       "      <td>community_name_North Center</td>\n",
       "      <td>0.000000</td>\n",
       "    </tr>\n",
       "    <tr>\n",
       "      <th>67</th>\n",
       "      <td>community_name_South Chicago</td>\n",
       "      <td>0.000000</td>\n",
       "    </tr>\n",
       "    <tr>\n",
       "      <th>54</th>\n",
       "      <td>community_name_Near West Side</td>\n",
       "      <td>0.000000</td>\n",
       "    </tr>\n",
       "    <tr>\n",
       "      <th>53</th>\n",
       "      <td>community_name_Near South Side</td>\n",
       "      <td>0.000000</td>\n",
       "    </tr>\n",
       "    <tr>\n",
       "      <th>52</th>\n",
       "      <td>community_name_Near North Side</td>\n",
       "      <td>0.000000</td>\n",
       "    </tr>\n",
       "    <tr>\n",
       "      <th>51</th>\n",
       "      <td>community_name_Mount Greenwood</td>\n",
       "      <td>0.000000</td>\n",
       "    </tr>\n",
       "    <tr>\n",
       "      <th>50</th>\n",
       "      <td>community_name_Morgan Park</td>\n",
       "      <td>0.000000</td>\n",
       "    </tr>\n",
       "    <tr>\n",
       "      <th>49</th>\n",
       "      <td>community_name_Montclaire</td>\n",
       "      <td>0.000000</td>\n",
       "    </tr>\n",
       "    <tr>\n",
       "      <th>48</th>\n",
       "      <td>community_name_McKinley Park</td>\n",
       "      <td>0.000000</td>\n",
       "    </tr>\n",
       "    <tr>\n",
       "      <th>66</th>\n",
       "      <td>community_name_Roseland</td>\n",
       "      <td>0.000000</td>\n",
       "    </tr>\n",
       "    <tr>\n",
       "      <th>69</th>\n",
       "      <td>community_name_South Lawndale</td>\n",
       "      <td>0.000000</td>\n",
       "    </tr>\n",
       "    <tr>\n",
       "      <th>68</th>\n",
       "      <td>community_name_South Deering</td>\n",
       "      <td>0.000000</td>\n",
       "    </tr>\n",
       "    <tr>\n",
       "      <th>46</th>\n",
       "      <td>community_name_Loop</td>\n",
       "      <td>0.000000</td>\n",
       "    </tr>\n",
       "    <tr>\n",
       "      <th>87</th>\n",
       "      <td>chain_size_2-6</td>\n",
       "      <td>0.000000</td>\n",
       "    </tr>\n",
       "    <tr>\n",
       "      <th>86</th>\n",
       "      <td>chain_size_1</td>\n",
       "      <td>0.000000</td>\n",
       "    </tr>\n",
       "    <tr>\n",
       "      <th>84</th>\n",
       "      <td>is_3d_high_F</td>\n",
       "      <td>0.000000</td>\n",
       "    </tr>\n",
       "    <tr>\n",
       "      <th>83</th>\n",
       "      <td>risk_Risk 3 (Low)</td>\n",
       "      <td>0.000000</td>\n",
       "    </tr>\n",
       "    <tr>\n",
       "      <th>82</th>\n",
       "      <td>risk_Risk 2 (Medium)</td>\n",
       "      <td>0.000000</td>\n",
       "    </tr>\n",
       "    <tr>\n",
       "      <th>81</th>\n",
       "      <td>risk_Risk 1 (High)</td>\n",
       "      <td>0.000000</td>\n",
       "    </tr>\n",
       "    <tr>\n",
       "      <th>80</th>\n",
       "      <td>community_name_Woodlawn</td>\n",
       "      <td>0.000000</td>\n",
       "    </tr>\n",
       "    <tr>\n",
       "      <th>79</th>\n",
       "      <td>community_name_West Town</td>\n",
       "      <td>0.000000</td>\n",
       "    </tr>\n",
       "    <tr>\n",
       "      <th>78</th>\n",
       "      <td>community_name_West Ridge</td>\n",
       "      <td>0.000000</td>\n",
       "    </tr>\n",
       "    <tr>\n",
       "      <th>77</th>\n",
       "      <td>community_name_West Pullman</td>\n",
       "      <td>0.000000</td>\n",
       "    </tr>\n",
       "    <tr>\n",
       "      <th>76</th>\n",
       "      <td>community_name_West Lawn</td>\n",
       "      <td>0.000000</td>\n",
       "    </tr>\n",
       "    <tr>\n",
       "      <th>75</th>\n",
       "      <td>community_name_West Garfield Park</td>\n",
       "      <td>0.000000</td>\n",
       "    </tr>\n",
       "    <tr>\n",
       "      <th>74</th>\n",
       "      <td>community_name_West Englewood</td>\n",
       "      <td>0.000000</td>\n",
       "    </tr>\n",
       "    <tr>\n",
       "      <th>73</th>\n",
       "      <td>community_name_West Elsdon</td>\n",
       "      <td>0.000000</td>\n",
       "    </tr>\n",
       "    <tr>\n",
       "      <th>72</th>\n",
       "      <td>community_name_Washington Park</td>\n",
       "      <td>0.000000</td>\n",
       "    </tr>\n",
       "    <tr>\n",
       "      <th>71</th>\n",
       "      <td>community_name_Washington Height</td>\n",
       "      <td>0.000000</td>\n",
       "    </tr>\n",
       "    <tr>\n",
       "      <th>70</th>\n",
       "      <td>community_name_Uptown</td>\n",
       "      <td>0.000000</td>\n",
       "    </tr>\n",
       "    <tr>\n",
       "      <th>47</th>\n",
       "      <td>community_name_Lower West Side</td>\n",
       "      <td>0.000000</td>\n",
       "    </tr>\n",
       "    <tr>\n",
       "      <th>44</th>\n",
       "      <td>community_name_Lincoln Square</td>\n",
       "      <td>0.000000</td>\n",
       "    </tr>\n",
       "    <tr>\n",
       "      <th>45</th>\n",
       "      <td>community_name_Logan Square</td>\n",
       "      <td>0.000000</td>\n",
       "    </tr>\n",
       "    <tr>\n",
       "      <th>13</th>\n",
       "      <td>community_name_Belmont Cragin</td>\n",
       "      <td>0.000000</td>\n",
       "    </tr>\n",
       "    <tr>\n",
       "      <th>21</th>\n",
       "      <td>community_name_Clearing</td>\n",
       "      <td>0.000000</td>\n",
       "    </tr>\n",
       "    <tr>\n",
       "      <th>20</th>\n",
       "      <td>community_name_Chicago Lawn</td>\n",
       "      <td>0.000000</td>\n",
       "    </tr>\n",
       "    <tr>\n",
       "      <th>19</th>\n",
       "      <td>community_name_Chatham</td>\n",
       "      <td>0.000000</td>\n",
       "    </tr>\n",
       "    <tr>\n",
       "      <th>18</th>\n",
       "      <td>community_name_Calumet Heights</td>\n",
       "      <td>0.000000</td>\n",
       "    </tr>\n",
       "    <tr>\n",
       "      <th>17</th>\n",
       "      <td>community_name_Burnside</td>\n",
       "      <td>0.000000</td>\n",
       "    </tr>\n",
       "    <tr>\n",
       "      <th>16</th>\n",
       "      <td>community_name_Brighton Park</td>\n",
       "      <td>0.000000</td>\n",
       "    </tr>\n",
       "    <tr>\n",
       "      <th>15</th>\n",
       "      <td>community_name_Bridgeport</td>\n",
       "      <td>0.000000</td>\n",
       "    </tr>\n",
       "    <tr>\n",
       "      <th>14</th>\n",
       "      <td>community_name_Beverly</td>\n",
       "      <td>0.000000</td>\n",
       "    </tr>\n",
       "    <tr>\n",
       "      <th>12</th>\n",
       "      <td>community_name_Avondale</td>\n",
       "      <td>0.000000</td>\n",
       "    </tr>\n",
       "    <tr>\n",
       "      <th>23</th>\n",
       "      <td>community_name_Dunning</td>\n",
       "      <td>0.000000</td>\n",
       "    </tr>\n",
       "    <tr>\n",
       "      <th>11</th>\n",
       "      <td>community_name_Avalon Park</td>\n",
       "      <td>0.000000</td>\n",
       "    </tr>\n",
       "    <tr>\n",
       "      <th>10</th>\n",
       "      <td>community_name_Austin</td>\n",
       "      <td>0.000000</td>\n",
       "    </tr>\n",
       "    <tr>\n",
       "      <th>9</th>\n",
       "      <td>community_name_Auburn Gresham</td>\n",
       "      <td>0.000000</td>\n",
       "    </tr>\n",
       "    <tr>\n",
       "      <th>8</th>\n",
       "      <td>community_name_Ashburn</td>\n",
       "      <td>0.000000</td>\n",
       "    </tr>\n",
       "    <tr>\n",
       "      <th>7</th>\n",
       "      <td>community_name_Armour Square</td>\n",
       "      <td>0.000000</td>\n",
       "    </tr>\n",
       "    <tr>\n",
       "      <th>6</th>\n",
       "      <td>community_name_Archer Heights</td>\n",
       "      <td>0.000000</td>\n",
       "    </tr>\n",
       "    <tr>\n",
       "      <th>5</th>\n",
       "      <td>community_name_Albany Park</td>\n",
       "      <td>0.000000</td>\n",
       "    </tr>\n",
       "    <tr>\n",
       "      <th>2</th>\n",
       "      <td>sanitation_reports</td>\n",
       "      <td>0.000000</td>\n",
       "    </tr>\n",
       "    <tr>\n",
       "      <th>22</th>\n",
       "      <td>community_name_Douglas</td>\n",
       "      <td>0.000000</td>\n",
       "    </tr>\n",
       "    <tr>\n",
       "      <th>24</th>\n",
       "      <td>community_name_East Garfield Park</td>\n",
       "      <td>0.000000</td>\n",
       "    </tr>\n",
       "    <tr>\n",
       "      <th>1</th>\n",
       "      <td>crime_frequency</td>\n",
       "      <td>0.000000</td>\n",
       "    </tr>\n",
       "    <tr>\n",
       "      <th>35</th>\n",
       "      <td>community_name_Hegewisch</td>\n",
       "      <td>0.000000</td>\n",
       "    </tr>\n",
       "    <tr>\n",
       "      <th>43</th>\n",
       "      <td>community_name_Lincoln Park</td>\n",
       "      <td>0.000000</td>\n",
       "    </tr>\n",
       "    <tr>\n",
       "      <th>42</th>\n",
       "      <td>community_name_Lake View</td>\n",
       "      <td>0.000000</td>\n",
       "    </tr>\n",
       "    <tr>\n",
       "      <th>41</th>\n",
       "      <td>community_name_Kenwood</td>\n",
       "      <td>0.000000</td>\n",
       "    </tr>\n",
       "    <tr>\n",
       "      <th>40</th>\n",
       "      <td>community_name_Jefferson Park</td>\n",
       "      <td>0.000000</td>\n",
       "    </tr>\n",
       "    <tr>\n",
       "      <th>39</th>\n",
       "      <td>community_name_Irving Park</td>\n",
       "      <td>0.000000</td>\n",
       "    </tr>\n",
       "    <tr>\n",
       "      <th>38</th>\n",
       "      <td>community_name_Hyde Park</td>\n",
       "      <td>0.000000</td>\n",
       "    </tr>\n",
       "    <tr>\n",
       "      <th>37</th>\n",
       "      <td>community_name_Humboldt park</td>\n",
       "      <td>0.000000</td>\n",
       "    </tr>\n",
       "    <tr>\n",
       "      <th>36</th>\n",
       "      <td>community_name_Hermosa</td>\n",
       "      <td>0.000000</td>\n",
       "    </tr>\n",
       "    <tr>\n",
       "      <th>34</th>\n",
       "      <td>community_name_Greater Grand Crossing</td>\n",
       "      <td>0.000000</td>\n",
       "    </tr>\n",
       "    <tr>\n",
       "      <th>25</th>\n",
       "      <td>community_name_East Side</td>\n",
       "      <td>0.000000</td>\n",
       "    </tr>\n",
       "    <tr>\n",
       "      <th>33</th>\n",
       "      <td>community_name_Grand Boulevard</td>\n",
       "      <td>0.000000</td>\n",
       "    </tr>\n",
       "    <tr>\n",
       "      <th>32</th>\n",
       "      <td>community_name_Garfield Ridge</td>\n",
       "      <td>0.000000</td>\n",
       "    </tr>\n",
       "    <tr>\n",
       "      <th>31</th>\n",
       "      <td>community_name_Gage Park</td>\n",
       "      <td>0.000000</td>\n",
       "    </tr>\n",
       "    <tr>\n",
       "      <th>30</th>\n",
       "      <td>community_name_Fuller Park</td>\n",
       "      <td>0.000000</td>\n",
       "    </tr>\n",
       "    <tr>\n",
       "      <th>29</th>\n",
       "      <td>community_name_Forest Glen</td>\n",
       "      <td>0.000000</td>\n",
       "    </tr>\n",
       "    <tr>\n",
       "      <th>28</th>\n",
       "      <td>community_name_Englewood</td>\n",
       "      <td>0.000000</td>\n",
       "    </tr>\n",
       "    <tr>\n",
       "      <th>27</th>\n",
       "      <td>community_name_Edison Park</td>\n",
       "      <td>0.000000</td>\n",
       "    </tr>\n",
       "    <tr>\n",
       "      <th>26</th>\n",
       "      <td>community_name_Edgewater</td>\n",
       "      <td>0.000000</td>\n",
       "    </tr>\n",
       "    <tr>\n",
       "      <th>88</th>\n",
       "      <td>chain_size_7+</td>\n",
       "      <td>0.000000</td>\n",
       "    </tr>\n",
       "  </tbody>\n",
       "</table>\n",
       "</div>"
      ],
      "text/plain": [
       "                             feature_name  coefficient\n",
       "3   failed_inspections_percentage          0.997687   \n",
       "85  is_3d_high_T                           0.001979   \n",
       "4   Humidity_Avg                           0.000335   \n",
       "0   hardship_index                         0.000000   \n",
       "57  community_name_North Lawndale          0.000000   \n",
       "65  community_name_Rogers Park             0.000000   \n",
       "64  community_name_Riverdale               0.000000   \n",
       "63  community_name_Pullman                 0.000000   \n",
       "62  community_name_Portage Park            0.000000   \n",
       "61  community_name_Oakland                 0.000000   \n",
       "60  community_name_O'Hare                  0.000000   \n",
       "59  community_name_Norwood Park            0.000000   \n",
       "58  community_name_North Park              0.000000   \n",
       "55  community_name_New City                0.000000   \n",
       "56  community_name_North Center            0.000000   \n",
       "67  community_name_South Chicago           0.000000   \n",
       "54  community_name_Near West Side          0.000000   \n",
       "53  community_name_Near South Side         0.000000   \n",
       "52  community_name_Near North Side         0.000000   \n",
       "51  community_name_Mount Greenwood         0.000000   \n",
       "50  community_name_Morgan Park             0.000000   \n",
       "49  community_name_Montclaire              0.000000   \n",
       "48  community_name_McKinley Park           0.000000   \n",
       "66  community_name_Roseland                0.000000   \n",
       "69  community_name_South Lawndale          0.000000   \n",
       "68  community_name_South Deering           0.000000   \n",
       "46  community_name_Loop                    0.000000   \n",
       "87  chain_size_2-6                         0.000000   \n",
       "86  chain_size_1                           0.000000   \n",
       "84  is_3d_high_F                           0.000000   \n",
       "83  risk_Risk 3 (Low)                      0.000000   \n",
       "82  risk_Risk 2 (Medium)                   0.000000   \n",
       "81  risk_Risk 1 (High)                     0.000000   \n",
       "80  community_name_Woodlawn                0.000000   \n",
       "79  community_name_West Town               0.000000   \n",
       "78  community_name_West Ridge              0.000000   \n",
       "77  community_name_West Pullman            0.000000   \n",
       "76  community_name_West Lawn               0.000000   \n",
       "75  community_name_West Garfield Park      0.000000   \n",
       "74  community_name_West Englewood          0.000000   \n",
       "73  community_name_West Elsdon             0.000000   \n",
       "72  community_name_Washington Park         0.000000   \n",
       "71  community_name_Washington Height       0.000000   \n",
       "70  community_name_Uptown                  0.000000   \n",
       "47  community_name_Lower West Side         0.000000   \n",
       "44  community_name_Lincoln Square          0.000000   \n",
       "45  community_name_Logan Square            0.000000   \n",
       "13  community_name_Belmont Cragin          0.000000   \n",
       "21  community_name_Clearing                0.000000   \n",
       "20  community_name_Chicago Lawn            0.000000   \n",
       "19  community_name_Chatham                 0.000000   \n",
       "18  community_name_Calumet Heights         0.000000   \n",
       "17  community_name_Burnside                0.000000   \n",
       "16  community_name_Brighton Park           0.000000   \n",
       "15  community_name_Bridgeport              0.000000   \n",
       "14  community_name_Beverly                 0.000000   \n",
       "12  community_name_Avondale                0.000000   \n",
       "23  community_name_Dunning                 0.000000   \n",
       "11  community_name_Avalon Park             0.000000   \n",
       "10  community_name_Austin                  0.000000   \n",
       "9   community_name_Auburn Gresham          0.000000   \n",
       "8   community_name_Ashburn                 0.000000   \n",
       "7   community_name_Armour Square           0.000000   \n",
       "6   community_name_Archer Heights          0.000000   \n",
       "5   community_name_Albany Park             0.000000   \n",
       "2   sanitation_reports                     0.000000   \n",
       "22  community_name_Douglas                 0.000000   \n",
       "24  community_name_East Garfield Park      0.000000   \n",
       "1   crime_frequency                        0.000000   \n",
       "35  community_name_Hegewisch               0.000000   \n",
       "43  community_name_Lincoln Park            0.000000   \n",
       "42  community_name_Lake View               0.000000   \n",
       "41  community_name_Kenwood                 0.000000   \n",
       "40  community_name_Jefferson Park          0.000000   \n",
       "39  community_name_Irving Park             0.000000   \n",
       "38  community_name_Hyde Park               0.000000   \n",
       "37  community_name_Humboldt park           0.000000   \n",
       "36  community_name_Hermosa                 0.000000   \n",
       "34  community_name_Greater Grand Crossing  0.000000   \n",
       "25  community_name_East Side               0.000000   \n",
       "33  community_name_Grand Boulevard         0.000000   \n",
       "32  community_name_Garfield Ridge          0.000000   \n",
       "31  community_name_Gage Park               0.000000   \n",
       "30  community_name_Fuller Park             0.000000   \n",
       "29  community_name_Forest Glen             0.000000   \n",
       "28  community_name_Englewood               0.000000   \n",
       "27  community_name_Edison Park             0.000000   \n",
       "26  community_name_Edgewater               0.000000   \n",
       "88  chain_size_7+                          0.000000   "
      ]
     },
     "execution_count": 896,
     "metadata": {},
     "output_type": "execute_result"
    }
   ],
   "source": [
    "dt_coefficients.sort_values(by='coefficient',ascending=False)"
   ]
  },
  {
   "cell_type": "markdown",
   "metadata": {},
   "source": [
    "The decision tree model only used 3 features: failed_inspections_percentage, is_3d_high_T, Humidity_Avg"
   ]
  },
  {
   "cell_type": "markdown",
   "metadata": {},
   "source": [
    "## Random Forests"
   ]
  },
  {
   "cell_type": "code",
   "execution_count": 897,
   "metadata": {},
   "outputs": [
    {
     "data": {
      "text/plain": [
       "GridSearchCV(cv=5, error_score='raise',\n",
       "       estimator=RandomForestClassifier(bootstrap=True, class_weight=None, criterion='gini',\n",
       "            max_depth=None, max_features='auto', max_leaf_nodes=None,\n",
       "            min_impurity_decrease=0.0, min_impurity_split=None,\n",
       "            min_samples_leaf=1, min_samples_split=2,\n",
       "            min_weight_fraction_leaf=0.0, n_estimators=10, n_jobs=1,\n",
       "            oob_score=False, random_state=42, verbose=0, warm_start=False),\n",
       "       fit_params=None, iid=True, n_jobs=1,\n",
       "       param_grid={'n_estimators': [100, 120], 'max_depth': [6, 7, 8], 'criterion': ['gini']},\n",
       "       pre_dispatch='2*n_jobs', refit=True, return_train_score='warn',\n",
       "       scoring=None, verbose=0)"
      ]
     },
     "execution_count": 897,
     "metadata": {},
     "output_type": "execute_result"
    }
   ],
   "source": [
    "rfc=RandomForestClassifier(random_state=42)\n",
    "param_grid = { \n",
    "    'n_estimators': [100,120],\n",
    "    #'max_features': ['auto', 'sqrt', 'log2'],\n",
    "    'max_depth' : [6,7,8],\n",
    "    'criterion' :['gini']\n",
    "}\n",
    "rf_grid = GridSearchCV(estimator=rfc, param_grid=param_grid, cv= 5)\n",
    "rf_grid.fit(X_train1, y_train1)"
   ]
  },
  {
   "cell_type": "code",
   "execution_count": 898,
   "metadata": {},
   "outputs": [
    {
     "data": {
      "text/plain": [
       "{'criterion': 'gini', 'max_depth': 6, 'n_estimators': 100}"
      ]
     },
     "execution_count": 898,
     "metadata": {},
     "output_type": "execute_result"
    }
   ],
   "source": [
    "rf_grid.best_params_"
   ]
  },
  {
   "cell_type": "code",
   "execution_count": 899,
   "metadata": {},
   "outputs": [
    {
     "data": {
      "text/plain": [
       "0.7461285622310325"
      ]
     },
     "execution_count": 899,
     "metadata": {},
     "output_type": "execute_result"
    }
   ],
   "source": [
    "rf_grid.best_score_"
   ]
  },
  {
   "cell_type": "code",
   "execution_count": 900,
   "metadata": {},
   "outputs": [],
   "source": [
    "best_rf = rf_grid.best_estimator_"
   ]
  },
  {
   "cell_type": "code",
   "execution_count": 901,
   "metadata": {},
   "outputs": [],
   "source": [
    "rf_y1_pred = best_rf.predict(X_test1)"
   ]
  },
  {
   "cell_type": "markdown",
   "metadata": {},
   "source": [
    "#### Evaluation Metrics"
   ]
  },
  {
   "cell_type": "code",
   "execution_count": 902,
   "metadata": {},
   "outputs": [
    {
     "data": {
      "text/plain": [
       "array([[4679,  952],\n",
       "       [1568, 2639]], dtype=int64)"
      ]
     },
     "execution_count": 902,
     "metadata": {},
     "output_type": "execute_result"
    }
   ],
   "source": [
    "confusion_matrix(y_test1, rf_y1_pred)"
   ]
  },
  {
   "cell_type": "code",
   "execution_count": 903,
   "metadata": {},
   "outputs": [
    {
     "data": {
      "text/plain": [
       "0.7438503760927018"
      ]
     },
     "execution_count": 903,
     "metadata": {},
     "output_type": "execute_result"
    }
   ],
   "source": [
    "accuracy_score(y_test1, rf_y1_pred)"
   ]
  },
  {
   "cell_type": "code",
   "execution_count": 904,
   "metadata": {},
   "outputs": [
    {
     "data": {
      "text/plain": [
       "0.7348927875243665"
      ]
     },
     "execution_count": 904,
     "metadata": {},
     "output_type": "execute_result"
    }
   ],
   "source": [
    "precision_score(y_test1, rf_y1_pred)"
   ]
  },
  {
   "cell_type": "markdown",
   "metadata": {},
   "source": [
    "#### Feature Importance "
   ]
  },
  {
   "cell_type": "code",
   "execution_count": 905,
   "metadata": {},
   "outputs": [],
   "source": [
    "rf_coefficients = pd.concat([pd.DataFrame(X1.columns),pd.DataFrame(np.transpose(best_rf.feature_importances_))], axis = 1)"
   ]
  },
  {
   "cell_type": "code",
   "execution_count": 906,
   "metadata": {
    "scrolled": false
   },
   "outputs": [],
   "source": [
    "pd.set_option('display.max_rows',100)\n",
    "pd.set_option('display.max_colwidth', -1)\n",
    "rf_coefficients.columns = [\"feature_name\",\"coefficient\"]"
   ]
  },
  {
   "cell_type": "code",
   "execution_count": 907,
   "metadata": {
    "scrolled": true
   },
   "outputs": [
    {
     "data": {
      "text/html": [
       "<div>\n",
       "<style scoped>\n",
       "    .dataframe tbody tr th:only-of-type {\n",
       "        vertical-align: middle;\n",
       "    }\n",
       "\n",
       "    .dataframe tbody tr th {\n",
       "        vertical-align: top;\n",
       "    }\n",
       "\n",
       "    .dataframe thead th {\n",
       "        text-align: right;\n",
       "    }\n",
       "</style>\n",
       "<table border=\"1\" class=\"dataframe\">\n",
       "  <thead>\n",
       "    <tr style=\"text-align: right;\">\n",
       "      <th></th>\n",
       "      <th>feature_name</th>\n",
       "      <th>coefficient</th>\n",
       "    </tr>\n",
       "  </thead>\n",
       "  <tbody>\n",
       "    <tr>\n",
       "      <th>3</th>\n",
       "      <td>failed_inspections_percentage</td>\n",
       "      <td>0.761308</td>\n",
       "    </tr>\n",
       "    <tr>\n",
       "      <th>0</th>\n",
       "      <td>hardship_index</td>\n",
       "      <td>0.036143</td>\n",
       "    </tr>\n",
       "    <tr>\n",
       "      <th>4</th>\n",
       "      <td>Humidity_Avg</td>\n",
       "      <td>0.027560</td>\n",
       "    </tr>\n",
       "    <tr>\n",
       "      <th>1</th>\n",
       "      <td>crime_frequency</td>\n",
       "      <td>0.020694</td>\n",
       "    </tr>\n",
       "    <tr>\n",
       "      <th>84</th>\n",
       "      <td>is_3d_high_F</td>\n",
       "      <td>0.018238</td>\n",
       "    </tr>\n",
       "    <tr>\n",
       "      <th>2</th>\n",
       "      <td>sanitation_reports</td>\n",
       "      <td>0.013656</td>\n",
       "    </tr>\n",
       "    <tr>\n",
       "      <th>33</th>\n",
       "      <td>community_name_Grand Boulevard</td>\n",
       "      <td>0.012745</td>\n",
       "    </tr>\n",
       "    <tr>\n",
       "      <th>81</th>\n",
       "      <td>risk_Risk 1 (High)</td>\n",
       "      <td>0.012273</td>\n",
       "    </tr>\n",
       "    <tr>\n",
       "      <th>82</th>\n",
       "      <td>risk_Risk 2 (Medium)</td>\n",
       "      <td>0.010551</td>\n",
       "    </tr>\n",
       "    <tr>\n",
       "      <th>47</th>\n",
       "      <td>community_name_Lower West Side</td>\n",
       "      <td>0.010533</td>\n",
       "    </tr>\n",
       "    <tr>\n",
       "      <th>77</th>\n",
       "      <td>community_name_West Pullman</td>\n",
       "      <td>0.009868</td>\n",
       "    </tr>\n",
       "    <tr>\n",
       "      <th>85</th>\n",
       "      <td>is_3d_high_T</td>\n",
       "      <td>0.008547</td>\n",
       "    </tr>\n",
       "    <tr>\n",
       "      <th>60</th>\n",
       "      <td>community_name_O'Hare</td>\n",
       "      <td>0.006294</td>\n",
       "    </tr>\n",
       "    <tr>\n",
       "      <th>28</th>\n",
       "      <td>community_name_Englewood</td>\n",
       "      <td>0.004688</td>\n",
       "    </tr>\n",
       "    <tr>\n",
       "      <th>88</th>\n",
       "      <td>chain_size_7+</td>\n",
       "      <td>0.004477</td>\n",
       "    </tr>\n",
       "    <tr>\n",
       "      <th>86</th>\n",
       "      <td>chain_size_1</td>\n",
       "      <td>0.003300</td>\n",
       "    </tr>\n",
       "    <tr>\n",
       "      <th>57</th>\n",
       "      <td>community_name_North Lawndale</td>\n",
       "      <td>0.003042</td>\n",
       "    </tr>\n",
       "    <tr>\n",
       "      <th>87</th>\n",
       "      <td>chain_size_2-6</td>\n",
       "      <td>0.002687</td>\n",
       "    </tr>\n",
       "    <tr>\n",
       "      <th>48</th>\n",
       "      <td>community_name_McKinley Park</td>\n",
       "      <td>0.002381</td>\n",
       "    </tr>\n",
       "    <tr>\n",
       "      <th>83</th>\n",
       "      <td>risk_Risk 3 (Low)</td>\n",
       "      <td>0.002295</td>\n",
       "    </tr>\n",
       "    <tr>\n",
       "      <th>31</th>\n",
       "      <td>community_name_Gage Park</td>\n",
       "      <td>0.002294</td>\n",
       "    </tr>\n",
       "    <tr>\n",
       "      <th>73</th>\n",
       "      <td>community_name_West Elsdon</td>\n",
       "      <td>0.002037</td>\n",
       "    </tr>\n",
       "    <tr>\n",
       "      <th>11</th>\n",
       "      <td>community_name_Avalon Park</td>\n",
       "      <td>0.001677</td>\n",
       "    </tr>\n",
       "    <tr>\n",
       "      <th>39</th>\n",
       "      <td>community_name_Irving Park</td>\n",
       "      <td>0.001420</td>\n",
       "    </tr>\n",
       "    <tr>\n",
       "      <th>67</th>\n",
       "      <td>community_name_South Chicago</td>\n",
       "      <td>0.001197</td>\n",
       "    </tr>\n",
       "    <tr>\n",
       "      <th>43</th>\n",
       "      <td>community_name_Lincoln Park</td>\n",
       "      <td>0.001034</td>\n",
       "    </tr>\n",
       "    <tr>\n",
       "      <th>29</th>\n",
       "      <td>community_name_Forest Glen</td>\n",
       "      <td>0.000974</td>\n",
       "    </tr>\n",
       "    <tr>\n",
       "      <th>45</th>\n",
       "      <td>community_name_Logan Square</td>\n",
       "      <td>0.000945</td>\n",
       "    </tr>\n",
       "    <tr>\n",
       "      <th>27</th>\n",
       "      <td>community_name_Edison Park</td>\n",
       "      <td>0.000936</td>\n",
       "    </tr>\n",
       "    <tr>\n",
       "      <th>53</th>\n",
       "      <td>community_name_Near South Side</td>\n",
       "      <td>0.000884</td>\n",
       "    </tr>\n",
       "    <tr>\n",
       "      <th>30</th>\n",
       "      <td>community_name_Fuller Park</td>\n",
       "      <td>0.000843</td>\n",
       "    </tr>\n",
       "    <tr>\n",
       "      <th>40</th>\n",
       "      <td>community_name_Jefferson Park</td>\n",
       "      <td>0.000690</td>\n",
       "    </tr>\n",
       "    <tr>\n",
       "      <th>36</th>\n",
       "      <td>community_name_Hermosa</td>\n",
       "      <td>0.000676</td>\n",
       "    </tr>\n",
       "    <tr>\n",
       "      <th>62</th>\n",
       "      <td>community_name_Portage Park</td>\n",
       "      <td>0.000625</td>\n",
       "    </tr>\n",
       "    <tr>\n",
       "      <th>79</th>\n",
       "      <td>community_name_West Town</td>\n",
       "      <td>0.000619</td>\n",
       "    </tr>\n",
       "    <tr>\n",
       "      <th>23</th>\n",
       "      <td>community_name_Dunning</td>\n",
       "      <td>0.000616</td>\n",
       "    </tr>\n",
       "    <tr>\n",
       "      <th>6</th>\n",
       "      <td>community_name_Archer Heights</td>\n",
       "      <td>0.000517</td>\n",
       "    </tr>\n",
       "    <tr>\n",
       "      <th>66</th>\n",
       "      <td>community_name_Roseland</td>\n",
       "      <td>0.000507</td>\n",
       "    </tr>\n",
       "    <tr>\n",
       "      <th>46</th>\n",
       "      <td>community_name_Loop</td>\n",
       "      <td>0.000447</td>\n",
       "    </tr>\n",
       "    <tr>\n",
       "      <th>74</th>\n",
       "      <td>community_name_West Englewood</td>\n",
       "      <td>0.000438</td>\n",
       "    </tr>\n",
       "    <tr>\n",
       "      <th>61</th>\n",
       "      <td>community_name_Oakland</td>\n",
       "      <td>0.000437</td>\n",
       "    </tr>\n",
       "    <tr>\n",
       "      <th>54</th>\n",
       "      <td>community_name_Near West Side</td>\n",
       "      <td>0.000433</td>\n",
       "    </tr>\n",
       "    <tr>\n",
       "      <th>65</th>\n",
       "      <td>community_name_Rogers Park</td>\n",
       "      <td>0.000430</td>\n",
       "    </tr>\n",
       "    <tr>\n",
       "      <th>9</th>\n",
       "      <td>community_name_Auburn Gresham</td>\n",
       "      <td>0.000418</td>\n",
       "    </tr>\n",
       "    <tr>\n",
       "      <th>63</th>\n",
       "      <td>community_name_Pullman</td>\n",
       "      <td>0.000380</td>\n",
       "    </tr>\n",
       "    <tr>\n",
       "      <th>21</th>\n",
       "      <td>community_name_Clearing</td>\n",
       "      <td>0.000376</td>\n",
       "    </tr>\n",
       "    <tr>\n",
       "      <th>25</th>\n",
       "      <td>community_name_East Side</td>\n",
       "      <td>0.000367</td>\n",
       "    </tr>\n",
       "    <tr>\n",
       "      <th>19</th>\n",
       "      <td>community_name_Chatham</td>\n",
       "      <td>0.000360</td>\n",
       "    </tr>\n",
       "    <tr>\n",
       "      <th>16</th>\n",
       "      <td>community_name_Brighton Park</td>\n",
       "      <td>0.000358</td>\n",
       "    </tr>\n",
       "    <tr>\n",
       "      <th>72</th>\n",
       "      <td>community_name_Washington Park</td>\n",
       "      <td>0.000355</td>\n",
       "    </tr>\n",
       "    <tr>\n",
       "      <th>59</th>\n",
       "      <td>community_name_Norwood Park</td>\n",
       "      <td>0.000334</td>\n",
       "    </tr>\n",
       "    <tr>\n",
       "      <th>10</th>\n",
       "      <td>community_name_Austin</td>\n",
       "      <td>0.000333</td>\n",
       "    </tr>\n",
       "    <tr>\n",
       "      <th>69</th>\n",
       "      <td>community_name_South Lawndale</td>\n",
       "      <td>0.000325</td>\n",
       "    </tr>\n",
       "    <tr>\n",
       "      <th>55</th>\n",
       "      <td>community_name_New City</td>\n",
       "      <td>0.000318</td>\n",
       "    </tr>\n",
       "    <tr>\n",
       "      <th>7</th>\n",
       "      <td>community_name_Armour Square</td>\n",
       "      <td>0.000302</td>\n",
       "    </tr>\n",
       "    <tr>\n",
       "      <th>34</th>\n",
       "      <td>community_name_Greater Grand Crossing</td>\n",
       "      <td>0.000295</td>\n",
       "    </tr>\n",
       "    <tr>\n",
       "      <th>76</th>\n",
       "      <td>community_name_West Lawn</td>\n",
       "      <td>0.000246</td>\n",
       "    </tr>\n",
       "    <tr>\n",
       "      <th>50</th>\n",
       "      <td>community_name_Morgan Park</td>\n",
       "      <td>0.000219</td>\n",
       "    </tr>\n",
       "    <tr>\n",
       "      <th>12</th>\n",
       "      <td>community_name_Avondale</td>\n",
       "      <td>0.000210</td>\n",
       "    </tr>\n",
       "    <tr>\n",
       "      <th>20</th>\n",
       "      <td>community_name_Chicago Lawn</td>\n",
       "      <td>0.000192</td>\n",
       "    </tr>\n",
       "    <tr>\n",
       "      <th>18</th>\n",
       "      <td>community_name_Calumet Heights</td>\n",
       "      <td>0.000182</td>\n",
       "    </tr>\n",
       "    <tr>\n",
       "      <th>64</th>\n",
       "      <td>community_name_Riverdale</td>\n",
       "      <td>0.000165</td>\n",
       "    </tr>\n",
       "    <tr>\n",
       "      <th>15</th>\n",
       "      <td>community_name_Bridgeport</td>\n",
       "      <td>0.000164</td>\n",
       "    </tr>\n",
       "    <tr>\n",
       "      <th>26</th>\n",
       "      <td>community_name_Edgewater</td>\n",
       "      <td>0.000153</td>\n",
       "    </tr>\n",
       "    <tr>\n",
       "      <th>13</th>\n",
       "      <td>community_name_Belmont Cragin</td>\n",
       "      <td>0.000152</td>\n",
       "    </tr>\n",
       "    <tr>\n",
       "      <th>52</th>\n",
       "      <td>community_name_Near North Side</td>\n",
       "      <td>0.000147</td>\n",
       "    </tr>\n",
       "    <tr>\n",
       "      <th>17</th>\n",
       "      <td>community_name_Burnside</td>\n",
       "      <td>0.000141</td>\n",
       "    </tr>\n",
       "    <tr>\n",
       "      <th>14</th>\n",
       "      <td>community_name_Beverly</td>\n",
       "      <td>0.000139</td>\n",
       "    </tr>\n",
       "    <tr>\n",
       "      <th>58</th>\n",
       "      <td>community_name_North Park</td>\n",
       "      <td>0.000135</td>\n",
       "    </tr>\n",
       "    <tr>\n",
       "      <th>24</th>\n",
       "      <td>community_name_East Garfield Park</td>\n",
       "      <td>0.000126</td>\n",
       "    </tr>\n",
       "    <tr>\n",
       "      <th>42</th>\n",
       "      <td>community_name_Lake View</td>\n",
       "      <td>0.000125</td>\n",
       "    </tr>\n",
       "    <tr>\n",
       "      <th>49</th>\n",
       "      <td>community_name_Montclaire</td>\n",
       "      <td>0.000123</td>\n",
       "    </tr>\n",
       "    <tr>\n",
       "      <th>32</th>\n",
       "      <td>community_name_Garfield Ridge</td>\n",
       "      <td>0.000122</td>\n",
       "    </tr>\n",
       "    <tr>\n",
       "      <th>71</th>\n",
       "      <td>community_name_Washington Height</td>\n",
       "      <td>0.000113</td>\n",
       "    </tr>\n",
       "    <tr>\n",
       "      <th>44</th>\n",
       "      <td>community_name_Lincoln Square</td>\n",
       "      <td>0.000103</td>\n",
       "    </tr>\n",
       "    <tr>\n",
       "      <th>35</th>\n",
       "      <td>community_name_Hegewisch</td>\n",
       "      <td>0.000102</td>\n",
       "    </tr>\n",
       "    <tr>\n",
       "      <th>75</th>\n",
       "      <td>community_name_West Garfield Park</td>\n",
       "      <td>0.000101</td>\n",
       "    </tr>\n",
       "    <tr>\n",
       "      <th>80</th>\n",
       "      <td>community_name_Woodlawn</td>\n",
       "      <td>0.000065</td>\n",
       "    </tr>\n",
       "    <tr>\n",
       "      <th>37</th>\n",
       "      <td>community_name_Humboldt park</td>\n",
       "      <td>0.000053</td>\n",
       "    </tr>\n",
       "    <tr>\n",
       "      <th>8</th>\n",
       "      <td>community_name_Ashburn</td>\n",
       "      <td>0.000048</td>\n",
       "    </tr>\n",
       "    <tr>\n",
       "      <th>51</th>\n",
       "      <td>community_name_Mount Greenwood</td>\n",
       "      <td>0.000041</td>\n",
       "    </tr>\n",
       "    <tr>\n",
       "      <th>70</th>\n",
       "      <td>community_name_Uptown</td>\n",
       "      <td>0.000041</td>\n",
       "    </tr>\n",
       "    <tr>\n",
       "      <th>22</th>\n",
       "      <td>community_name_Douglas</td>\n",
       "      <td>0.000032</td>\n",
       "    </tr>\n",
       "    <tr>\n",
       "      <th>5</th>\n",
       "      <td>community_name_Albany Park</td>\n",
       "      <td>0.000032</td>\n",
       "    </tr>\n",
       "    <tr>\n",
       "      <th>38</th>\n",
       "      <td>community_name_Hyde Park</td>\n",
       "      <td>0.000017</td>\n",
       "    </tr>\n",
       "    <tr>\n",
       "      <th>41</th>\n",
       "      <td>community_name_Kenwood</td>\n",
       "      <td>0.000014</td>\n",
       "    </tr>\n",
       "    <tr>\n",
       "      <th>78</th>\n",
       "      <td>community_name_West Ridge</td>\n",
       "      <td>0.000012</td>\n",
       "    </tr>\n",
       "    <tr>\n",
       "      <th>56</th>\n",
       "      <td>community_name_North Center</td>\n",
       "      <td>0.000007</td>\n",
       "    </tr>\n",
       "    <tr>\n",
       "      <th>68</th>\n",
       "      <td>community_name_South Deering</td>\n",
       "      <td>0.000000</td>\n",
       "    </tr>\n",
       "  </tbody>\n",
       "</table>\n",
       "</div>"
      ],
      "text/plain": [
       "                             feature_name  coefficient\n",
       "3   failed_inspections_percentage          0.761308   \n",
       "0   hardship_index                         0.036143   \n",
       "4   Humidity_Avg                           0.027560   \n",
       "1   crime_frequency                        0.020694   \n",
       "84  is_3d_high_F                           0.018238   \n",
       "2   sanitation_reports                     0.013656   \n",
       "33  community_name_Grand Boulevard         0.012745   \n",
       "81  risk_Risk 1 (High)                     0.012273   \n",
       "82  risk_Risk 2 (Medium)                   0.010551   \n",
       "47  community_name_Lower West Side         0.010533   \n",
       "77  community_name_West Pullman            0.009868   \n",
       "85  is_3d_high_T                           0.008547   \n",
       "60  community_name_O'Hare                  0.006294   \n",
       "28  community_name_Englewood               0.004688   \n",
       "88  chain_size_7+                          0.004477   \n",
       "86  chain_size_1                           0.003300   \n",
       "57  community_name_North Lawndale          0.003042   \n",
       "87  chain_size_2-6                         0.002687   \n",
       "48  community_name_McKinley Park           0.002381   \n",
       "83  risk_Risk 3 (Low)                      0.002295   \n",
       "31  community_name_Gage Park               0.002294   \n",
       "73  community_name_West Elsdon             0.002037   \n",
       "11  community_name_Avalon Park             0.001677   \n",
       "39  community_name_Irving Park             0.001420   \n",
       "67  community_name_South Chicago           0.001197   \n",
       "43  community_name_Lincoln Park            0.001034   \n",
       "29  community_name_Forest Glen             0.000974   \n",
       "45  community_name_Logan Square            0.000945   \n",
       "27  community_name_Edison Park             0.000936   \n",
       "53  community_name_Near South Side         0.000884   \n",
       "30  community_name_Fuller Park             0.000843   \n",
       "40  community_name_Jefferson Park          0.000690   \n",
       "36  community_name_Hermosa                 0.000676   \n",
       "62  community_name_Portage Park            0.000625   \n",
       "79  community_name_West Town               0.000619   \n",
       "23  community_name_Dunning                 0.000616   \n",
       "6   community_name_Archer Heights          0.000517   \n",
       "66  community_name_Roseland                0.000507   \n",
       "46  community_name_Loop                    0.000447   \n",
       "74  community_name_West Englewood          0.000438   \n",
       "61  community_name_Oakland                 0.000437   \n",
       "54  community_name_Near West Side          0.000433   \n",
       "65  community_name_Rogers Park             0.000430   \n",
       "9   community_name_Auburn Gresham          0.000418   \n",
       "63  community_name_Pullman                 0.000380   \n",
       "21  community_name_Clearing                0.000376   \n",
       "25  community_name_East Side               0.000367   \n",
       "19  community_name_Chatham                 0.000360   \n",
       "16  community_name_Brighton Park           0.000358   \n",
       "72  community_name_Washington Park         0.000355   \n",
       "59  community_name_Norwood Park            0.000334   \n",
       "10  community_name_Austin                  0.000333   \n",
       "69  community_name_South Lawndale          0.000325   \n",
       "55  community_name_New City                0.000318   \n",
       "7   community_name_Armour Square           0.000302   \n",
       "34  community_name_Greater Grand Crossing  0.000295   \n",
       "76  community_name_West Lawn               0.000246   \n",
       "50  community_name_Morgan Park             0.000219   \n",
       "12  community_name_Avondale                0.000210   \n",
       "20  community_name_Chicago Lawn            0.000192   \n",
       "18  community_name_Calumet Heights         0.000182   \n",
       "64  community_name_Riverdale               0.000165   \n",
       "15  community_name_Bridgeport              0.000164   \n",
       "26  community_name_Edgewater               0.000153   \n",
       "13  community_name_Belmont Cragin          0.000152   \n",
       "52  community_name_Near North Side         0.000147   \n",
       "17  community_name_Burnside                0.000141   \n",
       "14  community_name_Beverly                 0.000139   \n",
       "58  community_name_North Park              0.000135   \n",
       "24  community_name_East Garfield Park      0.000126   \n",
       "42  community_name_Lake View               0.000125   \n",
       "49  community_name_Montclaire              0.000123   \n",
       "32  community_name_Garfield Ridge          0.000122   \n",
       "71  community_name_Washington Height       0.000113   \n",
       "44  community_name_Lincoln Square          0.000103   \n",
       "35  community_name_Hegewisch               0.000102   \n",
       "75  community_name_West Garfield Park      0.000101   \n",
       "80  community_name_Woodlawn                0.000065   \n",
       "37  community_name_Humboldt park           0.000053   \n",
       "8   community_name_Ashburn                 0.000048   \n",
       "51  community_name_Mount Greenwood         0.000041   \n",
       "70  community_name_Uptown                  0.000041   \n",
       "22  community_name_Douglas                 0.000032   \n",
       "5   community_name_Albany Park             0.000032   \n",
       "38  community_name_Hyde Park               0.000017   \n",
       "41  community_name_Kenwood                 0.000014   \n",
       "78  community_name_West Ridge              0.000012   \n",
       "56  community_name_North Center            0.000007   \n",
       "68  community_name_South Deering           0.000000   "
      ]
     },
     "execution_count": 907,
     "metadata": {},
     "output_type": "execute_result"
    }
   ],
   "source": [
    "rf_coefficients.sort_values(by='coefficient',ascending=False)"
   ]
  },
  {
   "cell_type": "markdown",
   "metadata": {},
   "source": [
    "As seen in the dataframe above, the 5 most predictive features of inspection failure are failed_inspections_percentage,\n",
    "hardship_index, Humidity_Avg, crime_frequency, is_3d_high_F."
   ]
  },
  {
   "cell_type": "markdown",
   "metadata": {},
   "source": [
    "## XGBoost"
   ]
  },
  {
   "cell_type": "code",
   "execution_count": 908,
   "metadata": {},
   "outputs": [
    {
     "name": "stderr",
     "output_type": "stream",
     "text": [
      "C:\\Users\\noura\\Anaconda3\\lib\\site-packages\\xgboost\\core.py:587: FutureWarning: Series.base is deprecated and will be removed in a future version\n",
      "  if getattr(data, 'base', None) is not None and \\\n",
      "C:\\Users\\noura\\Anaconda3\\lib\\site-packages\\xgboost\\core.py:588: FutureWarning: Series.base is deprecated and will be removed in a future version\n",
      "  data.base is not None and isinstance(data, np.ndarray) \\\n"
     ]
    }
   ],
   "source": [
    "dmatrix = xgb.DMatrix(data=X1,label=y1)\n",
    "params = {\"objective\":\"reg:logistic\", \"max_depth\":3}\n",
    "\n",
    "# Perform cross_validation: cv_results\n",
    "xg_cv = xgb.cv(dtrain=dmatrix, params=params, nfold=3, num_boost_round=5, metrics=\"auc\", as_pandas=True, seed=123)"
   ]
  },
  {
   "cell_type": "code",
   "execution_count": 909,
   "metadata": {},
   "outputs": [
    {
     "name": "stdout",
     "output_type": "stream",
     "text": [
      "   train-auc-mean  train-auc-std  test-auc-mean  test-auc-std\n",
      "0  0.833125        0.001317       0.832528       0.002391    \n",
      "1  0.835751        0.001262       0.835185       0.002696    \n",
      "2  0.836657        0.001297       0.836180       0.002547    \n",
      "3  0.836782        0.001324       0.836362       0.002583    \n",
      "4  0.836846        0.001372       0.836410       0.002595    \n"
     ]
    }
   ],
   "source": [
    "# Print cv_results\n",
    "print(xg_cv)"
   ]
  },
  {
   "cell_type": "code",
   "execution_count": 910,
   "metadata": {},
   "outputs": [
    {
     "name": "stdout",
     "output_type": "stream",
     "text": [
      "0.83641\n"
     ]
    }
   ],
   "source": [
    "# Print the AUC\n",
    "print((xg_cv[\"test-auc-mean\"]).iloc[-1])"
   ]
  },
  {
   "cell_type": "markdown",
   "metadata": {},
   "source": [
    "## Neural Network"
   ]
  },
  {
   "cell_type": "code",
   "execution_count": 911,
   "metadata": {},
   "outputs": [],
   "source": [
    "#1# Build NN\n",
    "#     - number of layers \n",
    "#     - number of neurals\n",
    "#     - activation function "
   ]
  },
  {
   "cell_type": "code",
   "execution_count": 912,
   "metadata": {},
   "outputs": [
    {
     "data": {
      "text/plain": [
       "((29511, 89), (29511, 89))"
      ]
     },
     "execution_count": 912,
     "metadata": {},
     "output_type": "execute_result"
    }
   ],
   "source": [
    "X_train1_ss.shape, X_train1.shape"
   ]
  },
  {
   "cell_type": "code",
   "execution_count": 913,
   "metadata": {},
   "outputs": [],
   "source": [
    "model = Sequential()\n",
    "model.add(Dense(2, activation='relu', input_shape=(X_train1_ss.shape[1],)))\n",
    "model.add(Dense(1, activation='sigmoid'))"
   ]
  },
  {
   "cell_type": "code",
   "execution_count": 914,
   "metadata": {},
   "outputs": [
    {
     "name": "stdout",
     "output_type": "stream",
     "text": [
      "_________________________________________________________________\n",
      "Layer (type)                 Output Shape              Param #   \n",
      "=================================================================\n",
      "dense_3 (Dense)              (None, 2)                 180       \n",
      "_________________________________________________________________\n",
      "dense_4 (Dense)              (None, 1)                 3         \n",
      "=================================================================\n",
      "Total params: 183\n",
      "Trainable params: 183\n",
      "Non-trainable params: 0\n",
      "_________________________________________________________________\n"
     ]
    }
   ],
   "source": [
    "model.summary()"
   ]
  },
  {
   "cell_type": "code",
   "execution_count": 915,
   "metadata": {},
   "outputs": [],
   "source": [
    "#2# Compile NN\n",
    "#     - loss function\n",
    "#     - optimizer"
   ]
  },
  {
   "cell_type": "code",
   "execution_count": 916,
   "metadata": {},
   "outputs": [],
   "source": [
    "model.compile(loss='binary_crossentropy', optimizer='adam', metrics=['accuracy'])"
   ]
  },
  {
   "cell_type": "code",
   "execution_count": 917,
   "metadata": {},
   "outputs": [],
   "source": [
    "#3# Fit NN\n",
    "#     - epoch\n",
    "#     - batch size "
   ]
  },
  {
   "cell_type": "code",
   "execution_count": 918,
   "metadata": {},
   "outputs": [
    {
     "name": "stdout",
     "output_type": "stream",
     "text": [
      "Train on 29511 samples, validate on 9838 samples\n",
      "Epoch 1/100\n",
      " - 1s - loss: 0.6336 - acc: 0.6312 - val_loss: 0.5753 - val_acc: 0.7267\n",
      "Epoch 2/100\n",
      " - 1s - loss: 0.5423 - acc: 0.7376 - val_loss: 0.5244 - val_acc: 0.7364\n",
      "Epoch 3/100\n",
      " - 1s - loss: 0.5161 - acc: 0.7429 - val_loss: 0.5122 - val_acc: 0.7408\n",
      "Epoch 4/100\n",
      " - 1s - loss: 0.5084 - acc: 0.7434 - val_loss: 0.5065 - val_acc: 0.7411\n",
      "Epoch 5/100\n",
      " - 1s - loss: 0.5042 - acc: 0.7439 - val_loss: 0.5035 - val_acc: 0.7398\n",
      "Epoch 6/100\n",
      " - 1s - loss: 0.5012 - acc: 0.7453 - val_loss: 0.5008 - val_acc: 0.7394\n",
      "Epoch 7/100\n",
      " - 1s - loss: 0.4986 - acc: 0.7436 - val_loss: 0.4990 - val_acc: 0.7430\n",
      "Epoch 8/100\n",
      " - 1s - loss: 0.4964 - acc: 0.7435 - val_loss: 0.4963 - val_acc: 0.7422\n",
      "Epoch 9/100\n",
      " - 1s - loss: 0.4946 - acc: 0.7440 - val_loss: 0.4951 - val_acc: 0.7435\n",
      "Epoch 10/100\n",
      " - 1s - loss: 0.4927 - acc: 0.7435 - val_loss: 0.4939 - val_acc: 0.7415\n",
      "Epoch 11/100\n",
      " - 1s - loss: 0.4909 - acc: 0.7448 - val_loss: 0.4928 - val_acc: 0.7399\n",
      "Epoch 12/100\n",
      " - 1s - loss: 0.4898 - acc: 0.7459 - val_loss: 0.4912 - val_acc: 0.7437\n",
      "Epoch 13/100\n",
      " - 1s - loss: 0.4888 - acc: 0.7446 - val_loss: 0.4895 - val_acc: 0.7419\n",
      "Epoch 14/100\n",
      " - 1s - loss: 0.4878 - acc: 0.7447 - val_loss: 0.4886 - val_acc: 0.7420\n",
      "Epoch 15/100\n",
      " - 1s - loss: 0.4871 - acc: 0.7459 - val_loss: 0.4879 - val_acc: 0.7407\n",
      "Epoch 16/100\n",
      " - 1s - loss: 0.4866 - acc: 0.7450 - val_loss: 0.4877 - val_acc: 0.7407\n",
      "Epoch 17/100\n",
      " - 1s - loss: 0.4862 - acc: 0.7444 - val_loss: 0.4874 - val_acc: 0.7423\n",
      "Epoch 18/100\n",
      " - 1s - loss: 0.4857 - acc: 0.7449 - val_loss: 0.4869 - val_acc: 0.7424\n",
      "Epoch 19/100\n",
      " - 1s - loss: 0.4855 - acc: 0.7440 - val_loss: 0.4859 - val_acc: 0.7421\n",
      "Epoch 20/100\n",
      " - 1s - loss: 0.4854 - acc: 0.7448 - val_loss: 0.4854 - val_acc: 0.7424\n",
      "Epoch 21/100\n",
      " - 1s - loss: 0.4853 - acc: 0.7458 - val_loss: 0.4852 - val_acc: 0.7445\n",
      "Epoch 22/100\n",
      " - 1s - loss: 0.4851 - acc: 0.7437 - val_loss: 0.4861 - val_acc: 0.7437\n",
      "Epoch 23/100\n",
      " - 1s - loss: 0.4852 - acc: 0.7439 - val_loss: 0.4852 - val_acc: 0.7424\n",
      "Epoch 24/100\n",
      " - 1s - loss: 0.4849 - acc: 0.7444 - val_loss: 0.4850 - val_acc: 0.7461\n",
      "Epoch 25/100\n",
      " - 1s - loss: 0.4849 - acc: 0.7452 - val_loss: 0.4856 - val_acc: 0.7400\n",
      "Epoch 26/100\n",
      " - 1s - loss: 0.4848 - acc: 0.7436 - val_loss: 0.4846 - val_acc: 0.7427\n",
      "Epoch 27/100\n",
      " - 1s - loss: 0.4846 - acc: 0.7449 - val_loss: 0.4851 - val_acc: 0.7396\n",
      "Epoch 28/100\n",
      " - 1s - loss: 0.4848 - acc: 0.7461 - val_loss: 0.4844 - val_acc: 0.7432\n",
      "Epoch 29/100\n",
      " - 1s - loss: 0.4847 - acc: 0.7452 - val_loss: 0.4843 - val_acc: 0.7469\n",
      "Epoch 30/100\n",
      " - 1s - loss: 0.4847 - acc: 0.7456 - val_loss: 0.4841 - val_acc: 0.7450\n",
      "Epoch 31/100\n",
      " - 1s - loss: 0.4844 - acc: 0.7460 - val_loss: 0.4853 - val_acc: 0.7429\n",
      "Epoch 32/100\n",
      " - 1s - loss: 0.4845 - acc: 0.7453 - val_loss: 0.4852 - val_acc: 0.7448\n",
      "Epoch 33/100\n",
      " - 1s - loss: 0.4845 - acc: 0.7447 - val_loss: 0.4846 - val_acc: 0.7420\n",
      "Epoch 34/100\n",
      " - 1s - loss: 0.4845 - acc: 0.7475 - val_loss: 0.4851 - val_acc: 0.7431\n",
      "Epoch 35/100\n",
      " - 1s - loss: 0.4847 - acc: 0.7446 - val_loss: 0.4843 - val_acc: 0.7447\n",
      "Epoch 36/100\n",
      " - 1s - loss: 0.4846 - acc: 0.7461 - val_loss: 0.4847 - val_acc: 0.7418\n",
      "Epoch 37/100\n",
      " - 1s - loss: 0.4844 - acc: 0.7451 - val_loss: 0.4847 - val_acc: 0.7425\n",
      "Epoch 38/100\n",
      " - 1s - loss: 0.4849 - acc: 0.7448 - val_loss: 0.4842 - val_acc: 0.7428\n",
      "Epoch 39/100\n",
      " - 1s - loss: 0.4845 - acc: 0.7464 - val_loss: 0.4846 - val_acc: 0.7433\n",
      "Epoch 40/100\n",
      " - 1s - loss: 0.4843 - acc: 0.7449 - val_loss: 0.4832 - val_acc: 0.7437\n",
      "Epoch 41/100\n",
      " - 1s - loss: 0.4816 - acc: 0.7441 - val_loss: 0.4806 - val_acc: 0.7434\n",
      "Epoch 42/100\n",
      " - 1s - loss: 0.4797 - acc: 0.7467 - val_loss: 0.4799 - val_acc: 0.7451\n",
      "Epoch 43/100\n",
      " - 1s - loss: 0.4793 - acc: 0.7463 - val_loss: 0.4805 - val_acc: 0.7442\n",
      "Epoch 44/100\n",
      " - 1s - loss: 0.4795 - acc: 0.7449 - val_loss: 0.4801 - val_acc: 0.7426\n",
      "Epoch 45/100\n",
      " - 1s - loss: 0.4795 - acc: 0.7480 - val_loss: 0.4800 - val_acc: 0.7435\n",
      "Epoch 46/100\n",
      " - 1s - loss: 0.4795 - acc: 0.7464 - val_loss: 0.4805 - val_acc: 0.7462\n",
      "Epoch 47/100\n",
      " - 1s - loss: 0.4793 - acc: 0.7469 - val_loss: 0.4803 - val_acc: 0.7449\n",
      "Epoch 48/100\n",
      " - 1s - loss: 0.4794 - acc: 0.7477 - val_loss: 0.4799 - val_acc: 0.7447\n",
      "Epoch 49/100\n",
      " - 1s - loss: 0.4792 - acc: 0.7442 - val_loss: 0.4801 - val_acc: 0.7442\n",
      "Epoch 50/100\n",
      " - 1s - loss: 0.4790 - acc: 0.7462 - val_loss: 0.4796 - val_acc: 0.7445\n",
      "Epoch 51/100\n",
      " - 1s - loss: 0.4793 - acc: 0.7466 - val_loss: 0.4797 - val_acc: 0.7452\n",
      "Epoch 52/100\n",
      " - 1s - loss: 0.4793 - acc: 0.7466 - val_loss: 0.4799 - val_acc: 0.7437\n",
      "Epoch 53/100\n",
      " - 1s - loss: 0.4790 - acc: 0.7449 - val_loss: 0.4811 - val_acc: 0.7422\n",
      "Epoch 54/100\n",
      " - 1s - loss: 0.4791 - acc: 0.7458 - val_loss: 0.4795 - val_acc: 0.7433\n",
      "Epoch 55/100\n",
      " - 1s - loss: 0.4790 - acc: 0.7452 - val_loss: 0.4804 - val_acc: 0.7467\n",
      "Epoch 56/100\n",
      " - 1s - loss: 0.4791 - acc: 0.7462 - val_loss: 0.4799 - val_acc: 0.7427\n",
      "Epoch 57/100\n",
      " - 1s - loss: 0.4790 - acc: 0.7462 - val_loss: 0.4800 - val_acc: 0.7454\n",
      "Epoch 58/100\n",
      " - 1s - loss: 0.4791 - acc: 0.7461 - val_loss: 0.4794 - val_acc: 0.7455\n",
      "Epoch 59/100\n",
      " - 1s - loss: 0.4790 - acc: 0.7462 - val_loss: 0.4801 - val_acc: 0.7449\n",
      "Epoch 60/100\n",
      " - 1s - loss: 0.4790 - acc: 0.7453 - val_loss: 0.4799 - val_acc: 0.7425\n",
      "Epoch 61/100\n",
      " - 1s - loss: 0.4790 - acc: 0.7469 - val_loss: 0.4799 - val_acc: 0.7439\n",
      "Epoch 62/100\n",
      " - 1s - loss: 0.4790 - acc: 0.7457 - val_loss: 0.4790 - val_acc: 0.7463\n",
      "Epoch 63/100\n",
      " - 1s - loss: 0.4790 - acc: 0.7462 - val_loss: 0.4803 - val_acc: 0.7453\n",
      "Epoch 64/100\n",
      " - 1s - loss: 0.4791 - acc: 0.7468 - val_loss: 0.4802 - val_acc: 0.7426\n",
      "Epoch 65/100\n",
      " - 1s - loss: 0.4789 - acc: 0.7448 - val_loss: 0.4799 - val_acc: 0.7434\n",
      "Epoch 66/100\n",
      " - 1s - loss: 0.4789 - acc: 0.7472 - val_loss: 0.4803 - val_acc: 0.7441\n",
      "Epoch 67/100\n",
      " - 1s - loss: 0.4790 - acc: 0.7472 - val_loss: 0.4802 - val_acc: 0.7437\n",
      "Epoch 68/100\n",
      " - 1s - loss: 0.4790 - acc: 0.7462 - val_loss: 0.4809 - val_acc: 0.7452\n",
      "Epoch 69/100\n",
      " - 1s - loss: 0.4791 - acc: 0.7461 - val_loss: 0.4802 - val_acc: 0.7469\n",
      "Epoch 70/100\n",
      " - 1s - loss: 0.4793 - acc: 0.7446 - val_loss: 0.4804 - val_acc: 0.7448\n",
      "Epoch 71/100\n",
      " - 1s - loss: 0.4791 - acc: 0.7444 - val_loss: 0.4797 - val_acc: 0.7435\n",
      "Epoch 72/100\n",
      " - 1s - loss: 0.4789 - acc: 0.7448 - val_loss: 0.4802 - val_acc: 0.7464\n",
      "Epoch 73/100\n",
      " - 1s - loss: 0.4790 - acc: 0.7464 - val_loss: 0.4798 - val_acc: 0.7442\n",
      "Epoch 74/100\n",
      " - 1s - loss: 0.4790 - acc: 0.7457 - val_loss: 0.4805 - val_acc: 0.7444\n",
      "Epoch 75/100\n",
      " - 1s - loss: 0.4789 - acc: 0.7466 - val_loss: 0.4796 - val_acc: 0.7451\n",
      "Epoch 76/100\n",
      " - 1s - loss: 0.4792 - acc: 0.7453 - val_loss: 0.4796 - val_acc: 0.7441\n",
      "Epoch 77/100\n",
      " - 1s - loss: 0.4788 - acc: 0.7449 - val_loss: 0.4793 - val_acc: 0.7433\n",
      "Epoch 78/100\n",
      " - 1s - loss: 0.4790 - acc: 0.7468 - val_loss: 0.4802 - val_acc: 0.7429\n",
      "Epoch 79/100\n",
      " - 1s - loss: 0.4790 - acc: 0.7462 - val_loss: 0.4792 - val_acc: 0.7434\n",
      "Epoch 80/100\n",
      " - 1s - loss: 0.4788 - acc: 0.7462 - val_loss: 0.4796 - val_acc: 0.7464\n",
      "Epoch 81/100\n",
      " - 1s - loss: 0.4789 - acc: 0.7472 - val_loss: 0.4798 - val_acc: 0.7437\n",
      "Epoch 82/100\n",
      " - 1s - loss: 0.4789 - acc: 0.7463 - val_loss: 0.4795 - val_acc: 0.7453\n",
      "Epoch 83/100\n",
      " - 1s - loss: 0.4789 - acc: 0.7455 - val_loss: 0.4800 - val_acc: 0.7450\n",
      "Epoch 84/100\n",
      " - 1s - loss: 0.4786 - acc: 0.7466 - val_loss: 0.4804 - val_acc: 0.7443\n",
      "Epoch 85/100\n",
      " - 1s - loss: 0.4789 - acc: 0.7454 - val_loss: 0.4805 - val_acc: 0.7429\n",
      "Epoch 86/100\n",
      " - 1s - loss: 0.4790 - acc: 0.7476 - val_loss: 0.4794 - val_acc: 0.7449\n",
      "Epoch 87/100\n",
      " - 1s - loss: 0.4789 - acc: 0.7449 - val_loss: 0.4793 - val_acc: 0.7430\n",
      "Epoch 88/100\n",
      " - 1s - loss: 0.4788 - acc: 0.7457 - val_loss: 0.4790 - val_acc: 0.7423\n",
      "Epoch 89/100\n",
      " - 1s - loss: 0.4788 - acc: 0.7458 - val_loss: 0.4793 - val_acc: 0.7449\n",
      "Epoch 90/100\n",
      " - 1s - loss: 0.4787 - acc: 0.7485 - val_loss: 0.4796 - val_acc: 0.7450\n",
      "Epoch 91/100\n",
      " - 1s - loss: 0.4786 - acc: 0.7471 - val_loss: 0.4800 - val_acc: 0.7430\n",
      "Epoch 92/100\n",
      " - 1s - loss: 0.4789 - acc: 0.7460 - val_loss: 0.4803 - val_acc: 0.7448\n",
      "Epoch 93/100\n",
      " - 1s - loss: 0.4789 - acc: 0.7449 - val_loss: 0.4794 - val_acc: 0.7462\n",
      "Epoch 94/100\n",
      " - 1s - loss: 0.4788 - acc: 0.7477 - val_loss: 0.4795 - val_acc: 0.7451\n",
      "Epoch 95/100\n",
      " - 1s - loss: 0.4790 - acc: 0.7445 - val_loss: 0.4788 - val_acc: 0.7454\n",
      "Epoch 96/100\n",
      " - 1s - loss: 0.4787 - acc: 0.7450 - val_loss: 0.4797 - val_acc: 0.7433\n"
     ]
    },
    {
     "name": "stdout",
     "output_type": "stream",
     "text": [
      "Epoch 97/100\n",
      " - 1s - loss: 0.4788 - acc: 0.7466 - val_loss: 0.4797 - val_acc: 0.7458\n",
      "Epoch 98/100\n",
      " - 1s - loss: 0.4787 - acc: 0.7450 - val_loss: 0.4795 - val_acc: 0.7437\n",
      "Epoch 99/100\n",
      " - 1s - loss: 0.4789 - acc: 0.7462 - val_loss: 0.4798 - val_acc: 0.7436\n",
      "Epoch 100/100\n",
      " - 1s - loss: 0.4788 - acc: 0.7465 - val_loss: 0.4800 - val_acc: 0.7447\n"
     ]
    }
   ],
   "source": [
    "results = model.fit(X_train1_ss,\n",
    "         y_train1,\n",
    "         batch_size=None,\n",
    "         epochs=100,\n",
    "         verbose=2,\n",
    "         validation_data=(X_test1_ss, y_test1))"
   ]
  },
  {
   "cell_type": "code",
   "execution_count": 919,
   "metadata": {},
   "outputs": [
    {
     "data": {
      "text/plain": [
       "dict_keys(['val_loss', 'val_acc', 'loss', 'acc'])"
      ]
     },
     "execution_count": 919,
     "metadata": {},
     "output_type": "execute_result"
    }
   ],
   "source": [
    "results.history.keys()"
   ]
  },
  {
   "cell_type": "code",
   "execution_count": 920,
   "metadata": {},
   "outputs": [
    {
     "data": {
      "text/plain": [
       "0.7446635495140486"
      ]
     },
     "execution_count": 920,
     "metadata": {},
     "output_type": "execute_result"
    }
   ],
   "source": [
    "results.history['val_acc'][-1]"
   ]
  },
  {
   "cell_type": "code",
   "execution_count": 921,
   "metadata": {},
   "outputs": [],
   "source": [
    "## plot loss function\n",
    "test_loss = results.history['val_loss']\n",
    "train_loss = results.history['loss']"
   ]
  },
  {
   "cell_type": "code",
   "execution_count": 922,
   "metadata": {
    "scrolled": true
   },
   "outputs": [
    {
     "data": {
      "image/png": "[encoded data removed]",
      "text/plain": [
       "<Figure size 432x288 with 1 Axes>"
      ]
     },
     "metadata": {},
     "output_type": "display_data"
    }
   ],
   "source": [
    "plt.plot(train_loss, label='Training loss')\n",
    "plt.plot(test_loss, label='Testing loss')\n",
    "plt.plot(results.history['val_acc'], label='test acc')\n",
    "plt.legend();"
   ]
  },
  {
   "cell_type": "markdown",
   "metadata": {},
   "source": [
    "The neural network doesnt seem to be performing well and needs to be reviewed."
   ]
  },
  {
   "cell_type": "markdown",
   "metadata": {},
   "source": [
    "---"
   ]
  },
  {
   "cell_type": "markdown",
   "metadata": {},
   "source": [
    "## Model 2: Restaurants with 3 and more Inspection Visits"
   ]
  },
  {
   "cell_type": "code",
   "execution_count": 923,
   "metadata": {},
   "outputs": [],
   "source": [
    "X2, y2 = model2_df.iloc[:,:-1],model2_df.iloc[:,-1]"
   ]
  },
  {
   "cell_type": "code",
   "execution_count": 924,
   "metadata": {},
   "outputs": [],
   "source": [
    "X2 = pd.get_dummies(X2)"
   ]
  },
  {
   "cell_type": "markdown",
   "metadata": {},
   "source": [
    "### Split the Data to Train and Test"
   ]
  },
  {
   "cell_type": "code",
   "execution_count": 925,
   "metadata": {},
   "outputs": [],
   "source": [
    "# in train_test_split, maintain proportion of labels by stratified\n",
    "X_train2, X_test2, y_train2, y_test2 = train_test_split(X2, y2, random_state=42,  stratify=y2)"
   ]
  },
  {
   "cell_type": "markdown",
   "metadata": {},
   "source": [
    "### Scaling"
   ]
  },
  {
   "cell_type": "code",
   "execution_count": 926,
   "metadata": {},
   "outputs": [],
   "source": [
    "ss = StandardScaler()\n",
    "X_train2_ss = ss.fit_transform(X_train2)\n",
    "X_test2_ss = ss.transform(X_test2)"
   ]
  },
  {
   "cell_type": "markdown",
   "metadata": {},
   "source": [
    "### Logistic Regression "
   ]
  },
  {
   "cell_type": "code",
   "execution_count": 927,
   "metadata": {},
   "outputs": [
    {
     "name": "stdout",
     "output_type": "stream",
     "text": [
      "Fitting 5 folds for each of 20 candidates, totalling 100 fits\n"
     ]
    },
    {
     "name": "stderr",
     "output_type": "stream",
     "text": [
      "[Parallel(n_jobs=-1)]: Done  34 tasks      | elapsed:   11.0s\n",
      "[Parallel(n_jobs=-1)]: Done 100 out of 100 | elapsed:   22.7s finished\n"
     ]
    },
    {
     "data": {
      "text/plain": [
       "GridSearchCV(cv=5, error_score='raise',\n",
       "       estimator=LogisticRegression(C=1.0, class_weight=None, dual=False, fit_intercept=True,\n",
       "          intercept_scaling=1, max_iter=100, multi_class='ovr', n_jobs=1,\n",
       "          penalty='l2', random_state=None, solver='liblinear', tol=0.0001,\n",
       "          verbose=0, warm_start=False),\n",
       "       fit_params=None, iid=True, n_jobs=-1,\n",
       "       param_grid={'penalty': ['l1', 'l2'], 'C': array([0.001  , 0.00215, 0.00464, 0.01   , 0.02154, 0.04642, 0.1    ,\n",
       "       0.21544, 0.46416, 1.     ])},\n",
       "       pre_dispatch='2*n_jobs', refit=True, return_train_score='warn',\n",
       "       scoring=None, verbose=1)"
      ]
     },
     "execution_count": 927,
     "metadata": {},
     "output_type": "execute_result"
    }
   ],
   "source": [
    "# fill the dictionary of parameters\n",
    "gs_params = {'penalty':['l1','l2'],\n",
    "             'C':np.logspace(-3,0,10)}\n",
    "\n",
    "#create gridsearch object\n",
    "lr_grid = GridSearchCV(LogisticRegression(), \n",
    "                             gs_params, \n",
    "                             n_jobs=-1, cv=5, verbose=1)\n",
    "lr_grid.fit(X_train2_ss, y_train2)"
   ]
  },
  {
   "cell_type": "code",
   "execution_count": 928,
   "metadata": {},
   "outputs": [
    {
     "data": {
      "text/plain": [
       "0.727709217888179"
      ]
     },
     "execution_count": 928,
     "metadata": {},
     "output_type": "execute_result"
    }
   ],
   "source": [
    "# find the best mean cross-validated score that gridsearch found\n",
    "lr_grid.best_score_"
   ]
  },
  {
   "cell_type": "code",
   "execution_count": 930,
   "metadata": {},
   "outputs": [
    {
     "data": {
      "text/plain": [
       "{'C': 0.01, 'penalty': 'l1'}"
      ]
     },
     "execution_count": 930,
     "metadata": {},
     "output_type": "execute_result"
    }
   ],
   "source": [
    "# find the best hyperparameters that gridsearch found\n",
    "lr_grid.best_params_"
   ]
  },
  {
   "cell_type": "code",
   "execution_count": 934,
   "metadata": {},
   "outputs": [],
   "source": [
    "# assign the best estimator to a variable\n",
    "best_lr = lr_grid.best_estimator_"
   ]
  },
  {
   "cell_type": "code",
   "execution_count": 935,
   "metadata": {},
   "outputs": [
    {
     "data": {
      "text/plain": [
       "0.7282466373050828"
      ]
     },
     "execution_count": 935,
     "metadata": {},
     "output_type": "execute_result"
    }
   ],
   "source": [
    "# score the best estimator on the testing data\n",
    "best_lr.score(X_test2_ss, y_test2)"
   ]
  },
  {
   "cell_type": "code",
   "execution_count": 936,
   "metadata": {},
   "outputs": [],
   "source": [
    "lr_y2_pred = best_lr.predict(X_test2_ss)"
   ]
  },
  {
   "cell_type": "markdown",
   "metadata": {},
   "source": [
    "#### Evaluation Metrics"
   ]
  },
  {
   "cell_type": "code",
   "execution_count": 937,
   "metadata": {},
   "outputs": [
    {
     "data": {
      "text/plain": [
       "array([[4161,  755],\n",
       "       [1528, 1957]], dtype=int64)"
      ]
     },
     "execution_count": 937,
     "metadata": {},
     "output_type": "execute_result"
    }
   ],
   "source": [
    "confusion_matrix(y_test2, lr_y2_pred)"
   ]
  },
  {
   "cell_type": "code",
   "execution_count": 938,
   "metadata": {},
   "outputs": [
    {
     "data": {
      "text/plain": [
       "0.7282466373050828"
      ]
     },
     "execution_count": 938,
     "metadata": {},
     "output_type": "execute_result"
    }
   ],
   "source": [
    "accuracy_score(y_test2, lr_y2_pred)"
   ]
  },
  {
   "cell_type": "code",
   "execution_count": 939,
   "metadata": {},
   "outputs": [
    {
     "data": {
      "text/plain": [
       "0.7216076696165191"
      ]
     },
     "execution_count": 939,
     "metadata": {},
     "output_type": "execute_result"
    }
   ],
   "source": [
    "precision_score(y_test2, lr_y2_pred)"
   ]
  },
  {
   "cell_type": "markdown",
   "metadata": {},
   "source": [
    "### Decision Tree Classifier"
   ]
  },
  {
   "cell_type": "code",
   "execution_count": 940,
   "metadata": {},
   "outputs": [
    {
     "data": {
      "text/plain": [
       "GridSearchCV(cv=10, error_score='raise',\n",
       "       estimator=DecisionTreeClassifier(class_weight=None, criterion='gini', max_depth=None,\n",
       "            max_features=None, max_leaf_nodes=None,\n",
       "            min_impurity_decrease=0.0, min_impurity_split=None,\n",
       "            min_samples_leaf=1, min_samples_split=2,\n",
       "            min_weight_fraction_leaf=0.0, presort=False, random_state=None,\n",
       "            splitter='best'),\n",
       "       fit_params=None, iid=True, n_jobs=1,\n",
       "       param_grid={'max_depth': range(1, 5)}, pre_dispatch='2*n_jobs',\n",
       "       refit=True, return_train_score='warn', scoring='accuracy',\n",
       "       verbose=0)"
      ]
     },
     "execution_count": 940,
     "metadata": {},
     "output_type": "execute_result"
    }
   ],
   "source": [
    "depth_range = range(1, 5)\n",
    "leaf_range = range(1,15)\n",
    "#n_estimators\n",
    "param_grid = dict(max_depth=depth_range)\n",
    "d_tree = DecisionTreeClassifier()\n",
    "dt_grid = GridSearchCV(d_tree, param_grid, cv=10, scoring='accuracy')\n",
    "dt_grid.fit(X_train2, y_train2)"
   ]
  },
  {
   "cell_type": "code",
   "execution_count": 941,
   "metadata": {},
   "outputs": [
    {
     "name": "stdout",
     "output_type": "stream",
     "text": [
      "0.7262410221816594\n"
     ]
    }
   ],
   "source": [
    "print(dt_grid.best_score_)"
   ]
  },
  {
   "cell_type": "code",
   "execution_count": 942,
   "metadata": {},
   "outputs": [
    {
     "name": "stdout",
     "output_type": "stream",
     "text": [
      "{'max_depth': 1}\n"
     ]
    }
   ],
   "source": [
    "print(dt_grid.best_params_)"
   ]
  },
  {
   "cell_type": "code",
   "execution_count": 943,
   "metadata": {},
   "outputs": [
    {
     "name": "stdout",
     "output_type": "stream",
     "text": [
      "DecisionTreeClassifier(class_weight=None, criterion='gini', max_depth=1,\n",
      "            max_features=None, max_leaf_nodes=None,\n",
      "            min_impurity_decrease=0.0, min_impurity_split=None,\n",
      "            min_samples_leaf=1, min_samples_split=2,\n",
      "            min_weight_fraction_leaf=0.0, presort=False, random_state=None,\n",
      "            splitter='best')\n"
     ]
    }
   ],
   "source": [
    "print(dt_grid.best_estimator_)"
   ]
  },
  {
   "cell_type": "code",
   "execution_count": 944,
   "metadata": {},
   "outputs": [],
   "source": [
    "best_dt = dt_grid.best_estimator_"
   ]
  },
  {
   "cell_type": "code",
   "execution_count": 945,
   "metadata": {},
   "outputs": [],
   "source": [
    "dt_y2_pred = best_dt.predict(X_test2)"
   ]
  },
  {
   "cell_type": "markdown",
   "metadata": {},
   "source": [
    "#### Evaluation Metrics"
   ]
  },
  {
   "cell_type": "markdown",
   "metadata": {},
   "source": [
    "### Evaluation Metrics"
   ]
  },
  {
   "cell_type": "code",
   "execution_count": 946,
   "metadata": {},
   "outputs": [
    {
     "data": {
      "text/plain": [
       "array([[3765, 1151],\n",
       "       [1192, 2293]], dtype=int64)"
      ]
     },
     "execution_count": 946,
     "metadata": {},
     "output_type": "execute_result"
    }
   ],
   "source": [
    "confusion_matrix(y_test2, dt_y2_pred)"
   ]
  },
  {
   "cell_type": "code",
   "execution_count": 947,
   "metadata": {},
   "outputs": [
    {
     "data": {
      "text/plain": [
       "0.7211046304011427"
      ]
     },
     "execution_count": 947,
     "metadata": {},
     "output_type": "execute_result"
    }
   ],
   "source": [
    "accuracy_score(y_test2, dt_y2_pred)"
   ]
  },
  {
   "cell_type": "code",
   "execution_count": 948,
   "metadata": {},
   "outputs": [
    {
     "data": {
      "text/plain": [
       "0.6657955865272939"
      ]
     },
     "execution_count": 948,
     "metadata": {},
     "output_type": "execute_result"
    }
   ],
   "source": [
    "precision_score(y_test2, dt_y2_pred)"
   ]
  },
  {
   "cell_type": "markdown",
   "metadata": {},
   "source": [
    "### Random Forests"
   ]
  },
  {
   "cell_type": "code",
   "execution_count": 949,
   "metadata": {},
   "outputs": [
    {
     "data": {
      "text/plain": [
       "GridSearchCV(cv=5, error_score='raise',\n",
       "       estimator=RandomForestClassifier(bootstrap=True, class_weight=None, criterion='gini',\n",
       "            max_depth=None, max_features='auto', max_leaf_nodes=None,\n",
       "            min_impurity_decrease=0.0, min_impurity_split=None,\n",
       "            min_samples_leaf=1, min_samples_split=2,\n",
       "            min_weight_fraction_leaf=0.0, n_estimators=10, n_jobs=1,\n",
       "            oob_score=False, random_state=42, verbose=0, warm_start=False),\n",
       "       fit_params=None, iid=True, n_jobs=1,\n",
       "       param_grid={'n_estimators': [100, 120], 'max_depth': [6, 7, 8], 'criterion': ['gini']},\n",
       "       pre_dispatch='2*n_jobs', refit=True, return_train_score='warn',\n",
       "       scoring=None, verbose=0)"
      ]
     },
     "execution_count": 949,
     "metadata": {},
     "output_type": "execute_result"
    }
   ],
   "source": [
    "rfc=RandomForestClassifier(random_state=42)\n",
    "param_grid = { \n",
    "    'n_estimators': [100,120],\n",
    "    #'max_features': ['auto', 'sqrt', 'log2'],\n",
    "    'max_depth' : [6,7,8],\n",
    "    'criterion' :['gini']\n",
    "}\n",
    "rf_grid = GridSearchCV(estimator=rfc, param_grid=param_grid, cv= 5)\n",
    "rf_grid.fit(X_train2, y_train2)"
   ]
  },
  {
   "cell_type": "code",
   "execution_count": 950,
   "metadata": {},
   "outputs": [
    {
     "data": {
      "text/plain": [
       "{'criterion': 'gini', 'max_depth': 8, 'n_estimators': 120}"
      ]
     },
     "execution_count": 950,
     "metadata": {},
     "output_type": "execute_result"
    }
   ],
   "source": [
    "rf_grid.best_params_"
   ]
  },
  {
   "cell_type": "code",
   "execution_count": 951,
   "metadata": {},
   "outputs": [
    {
     "data": {
      "text/plain": [
       "0.7255267648109202"
      ]
     },
     "execution_count": 951,
     "metadata": {},
     "output_type": "execute_result"
    }
   ],
   "source": [
    "rf_grid.best_score_"
   ]
  },
  {
   "cell_type": "code",
   "execution_count": 952,
   "metadata": {},
   "outputs": [],
   "source": [
    "best_rf = rf_grid.best_estimator_"
   ]
  },
  {
   "cell_type": "code",
   "execution_count": 953,
   "metadata": {},
   "outputs": [],
   "source": [
    "rf_y2_pred = best_rf.predict(X_test2)"
   ]
  },
  {
   "cell_type": "markdown",
   "metadata": {},
   "source": [
    "#### Evaluation Metrics"
   ]
  },
  {
   "cell_type": "code",
   "execution_count": 954,
   "metadata": {},
   "outputs": [
    {
     "data": {
      "text/plain": [
       "array([[3785, 1131],\n",
       "       [1227, 2258]], dtype=int64)"
      ]
     },
     "execution_count": 954,
     "metadata": {},
     "output_type": "execute_result"
    }
   ],
   "source": [
    "confusion_matrix(y_test2, rf_y2_pred)"
   ]
  },
  {
   "cell_type": "code",
   "execution_count": 955,
   "metadata": {},
   "outputs": [
    {
     "data": {
      "text/plain": [
       "0.7193191286751577"
      ]
     },
     "execution_count": 955,
     "metadata": {},
     "output_type": "execute_result"
    }
   ],
   "source": [
    "accuracy_score(y_test2, rf_y2_pred)"
   ]
  },
  {
   "cell_type": "code",
   "execution_count": 956,
   "metadata": {},
   "outputs": [
    {
     "data": {
      "text/plain": [
       "0.6662732369430511"
      ]
     },
     "execution_count": 956,
     "metadata": {},
     "output_type": "execute_result"
    }
   ],
   "source": [
    "precision_score(y_test2, rf_y2_pred)"
   ]
  },
  {
   "cell_type": "markdown",
   "metadata": {},
   "source": [
    "## XGBoost"
   ]
  },
  {
   "cell_type": "markdown",
   "metadata": {},
   "source": [
    "### XGBoost with Grid Search"
   ]
  },
  {
   "cell_type": "code",
   "execution_count": 957,
   "metadata": {},
   "outputs": [
    {
     "name": "stderr",
     "output_type": "stream",
     "text": [
      "C:\\Users\\noura\\Anaconda3\\lib\\site-packages\\xgboost\\core.py:587: FutureWarning: Series.base is deprecated and will be removed in a future version\n",
      "  if getattr(data, 'base', None) is not None and \\\n",
      "C:\\Users\\noura\\Anaconda3\\lib\\site-packages\\xgboost\\core.py:588: FutureWarning: Series.base is deprecated and will be removed in a future version\n",
      "  data.base is not None and isinstance(data, np.ndarray) \\\n"
     ]
    },
    {
     "name": "stdout",
     "output_type": "stream",
     "text": [
      "   train-auc-mean  train-auc-std  test-auc-mean  test-auc-std\n",
      "0  0.797298        0.000786       0.795971       0.002337    \n",
      "1  0.799550        0.000452       0.798440       0.003223    \n",
      "2  0.801374        0.001097       0.800647       0.002165    \n",
      "3  0.801951        0.000532       0.801213       0.002507    \n",
      "4  0.802403        0.000967       0.801653       0.002337    \n",
      "0.8016533333333333\n"
     ]
    }
   ],
   "source": [
    "dmatrix = xgb.DMatrix(data=X2,label=y2)\n",
    "\n",
    "\n",
    "params = {\"objective\":\"reg:logistic\", \"max_depth\":3}\n",
    "\n",
    "# Perform cross_validation: cv_results\n",
    "xg_cv = xgb.cv(dtrain=dmatrix, params=params, nfold=3, num_boost_round=5, metrics=\"auc\", as_pandas=True, seed=123)\n",
    "\n",
    "# Print cv_results\n",
    "print(xg_cv)\n",
    "\n",
    "# Print the AUC\n",
    "print((xg_cv[\"test-auc-mean\"]).iloc[-1])"
   ]
  },
  {
   "cell_type": "markdown",
   "metadata": {},
   "source": [
    "## Model1 vs Model2"
   ]
  },
  {
   "cell_type": "markdown",
   "metadata": {},
   "source": [
    "The accuracy & precision of our model has decreased througout the four algorithms used. It seems that our models perform better with the whole dataset than with restaurants with 3 and more inspections."
   ]
  },
  {
   "attachments": {},
   "cell_type": "markdown",
   "metadata": {},
   "source": [
    "| Model | Accuracy-Model1 | Accuracy-Model2 |Precision-Model1 |Precision-Model2 |\n",
    "|------|------|------|\n",
    "|   Logistic Regression  | 0.742 | 0.728 | 0.729 |0.721 |\n",
    "|   Decision Tree  | 0.742 | 0.721 | 0.773 | 0.665 |\n",
    "|   Random Forrest  | 0.743 | 0.719 | 0.734 | 0.666 |\n",
    "|   XGBoost with CV  | 0.836 | 0.801 |  |   |\n"
   ]
  },
  {
   "cell_type": "markdown",
   "metadata": {},
   "source": [
    "# Conclusion"
   ]
  },
  {
   "cell_type": "markdown",
   "metadata": {},
   "source": [
    "In this research project we tried to predict restaurant inspection results using weather data, community area features, chain size, restaurant risk level, and percentage of past failed visists (failed here includes pass with conditions). According to our analysis and our models' feature importance, the feature that has the highest correlation with the results of an inspection is the percentage of past failed inspections. Other features also correlated with an inspection's results, but very weakly.\n",
    "\n",
    "We created two models, one for the complete dataset, and another for the observations with more than two insepctions. According to our results, the first model outperformed the second one.\n",
    "\n",
    "Our recommendation for future work is to add more features to the dataset, mainly features about the restaurants themselves. Other than the restaurant risk level and the chain size, our dataset was lacking information about the restaurants themselves, such as the type of cuisine, the price range, and customer ratings from social media. \n",
    "\n",
    "Furthermore, the community area could be investigated further. According to the feature importance of the models, some community areas are either positively or negatively correlated with the results of an inspection. We could add a feature that represents the 9 regions of Chicago, they might show a pattern that we could not see with 77 community areas. "
   ]
  }
 ],
 "metadata": {
  "kernelspec": {
   "display_name": "Python 3",
   "language": "python",
   "name": "python3"
  },
  "language_info": {
   "codemirror_mode": {
    "name": "ipython",
    "version": 3
   },
   "file_extension": ".py",
   "mimetype": "text/x-python",
   "name": "python",
   "nbconvert_exporter": "python",
   "pygments_lexer": "ipython3",
   "version": "3.6.5"
  }
 },
 "nbformat": 4,
 "nbformat_minor": 2
}

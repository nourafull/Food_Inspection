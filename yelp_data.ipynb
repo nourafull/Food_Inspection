{
 "cells": [
  {
   "cell_type": "code",
   "execution_count": null,
   "metadata": {},
   "outputs": [],
   "source": [
    "# url = 'https://www.yelp.com/search?find_desc=SUBWAY&find_loc=Chicago%2C%20IL'\n",
    "# req=requests.get(url)\n",
    "# print('The status code is {}'.format(req.status_code))\n",
    "#req.text"
   ]
  },
  {
   "cell_type": "code",
   "execution_count": 29,
   "metadata": {},
   "outputs": [],
   "source": [
    "import requests\n",
    "import json\n",
    "import pandas as pd\n",
    "#import json_decode"
   ]
  },
  {
   "cell_type": "code",
   "execution_count": 30,
   "metadata": {},
   "outputs": [],
   "source": [
    "api_key='oUz6eQuLtqUHkxtkIZ8HyrNvFoY9TaItnqNOUY7_miB7jo_ShosXJ_vJzku-YaGjR5WdspGmGPwWm7a5HHUeiIFDJDmROwIYtM_LDDvAxCO9NeXd3dHzsfpzIxPYXHYx'\n",
    "headers = {'Authorization': 'Bearer %s' % api_key}"
   ]
  },
  {
   "cell_type": "code",
   "execution_count": 31,
   "metadata": {},
   "outputs": [],
   "source": []
  },
  {
   "cell_type": "code",
   "execution_count": 32,
   "metadata": {},
   "outputs": [
    {
     "name": "stdout",
     "output_type": "stream",
     "text": [
      "The status code is 200\n"
     ]
    }
   ],
   "source": [
    "url='https://api.yelp.com/v3/businesses/search'\n",
    "\n",
    "# In the dictionary, term can take values like food, cafes or businesses like McDonalds\n",
    "#params = {'latitude':41.93942462169401,'longitude':-87.66811073298523 ,'address1':'3167 N LINCOLN AVE', 'city':'Chicago'}#, 'name':'SUBWAY'}\n",
    "params = {'term':'Restaurants','location':'Chicago, IL','limit':50,'offset':0}\n",
    "# Making a get request to the API\n",
    "req=requests.get(url, params=params, headers=headers)\n",
    " \n",
    "# proceed only if the status code is 200\n",
    "print('The status code is {}'.format(req.status_code))"
   ]
  },
  {
   "cell_type": "code",
   "execution_count": 33,
   "metadata": {},
   "outputs": [
    {
     "data": {
      "text/plain": [
       "200"
      ]
     },
     "execution_count": 33,
     "metadata": {},
     "output_type": "execute_result"
    }
   ],
   "source": [
    "req.status_code"
   ]
  },
  {
   "cell_type": "code",
   "execution_count": 34,
   "metadata": {},
   "outputs": [],
   "source": [
    "json_dict = json.loads(req.text)\n",
    "pd.DataFrame(json_dict['businesses'])"
   ]
  },
  {
   "cell_type": "code",
   "execution_count": 37,
   "metadata": {},
   "outputs": [],
   "source": [
    "columns = []\n",
    "for key in  json_dict[\"businesses\"][0].keys():\n",
    "    try :\n",
    "        columns += row[key].keys()\n",
    "    except:\n",
    "        columns.append(key)"
   ]
  },
  {
   "cell_type": "code",
   "execution_count": 38,
   "metadata": {},
   "outputs": [],
   "source": [
    "ylp = pd.DataFrame(columns=columns)"
   ]
  },
  {
   "cell_type": "code",
   "execution_count": 63,
   "metadata": {},
   "outputs": [],
   "source": [
    "headers = {'Authorization': 'Bearer %s' % api_key}\n",
    "url='https://api.yelp.com/v3/businesses/search'\n",
    "params = {'term':'Restaurants','location':'Chicago, IL','limit':50,'offset':0}\n",
    "# Making a get request to the API\n",
    "req=requests.get(url, params=params, headers=headers)\n",
    "json_dict = json.loads(req.text)\n",
    "ylp = pd.DataFrame(json_dict['businesses'])"
   ]
  },
  {
   "cell_type": "code",
   "execution_count": 65,
   "metadata": {
    "scrolled": false
   },
   "outputs": [],
   "source": [
    "status = True\n",
    "offset = 50\n",
    "\n",
    "while status:\n",
    "    try: \n",
    "        params = {'term':'Restaurants','location':'Chicago, IL','limit':50,'offset': offset }\n",
    "        req=requests.get(url, params=params, headers=headers)\n",
    "        json_df = json.loads(req.text)\n",
    "        ylp = ylp.append(pd.DataFrame(json_df['businesses']),ignore_index=True)\n",
    "        \n",
    "        offset += 50\n",
    "        if req.status_code != 200:\n",
    "            break\n",
    "    except:\n",
    "        status=False"
   ]
  },
  {
   "cell_type": "code",
   "execution_count": 66,
   "metadata": {},
   "outputs": [
    {
     "data": {
      "text/plain": [
       "(1000, 16)"
      ]
     },
     "execution_count": 66,
     "metadata": {},
     "output_type": "execute_result"
    }
   ],
   "source": [
    "ylp.shape"
   ]
  },
  {
   "cell_type": "code",
   "execution_count": null,
   "metadata": {},
   "outputs": [],
   "source": []
  }
 ],
 "metadata": {
  "kernelspec": {
   "display_name": "Python 3",
   "language": "python",
   "name": "python3"
  },
  "language_info": {
   "codemirror_mode": {
    "name": "ipython",
    "version": 3
   },
   "file_extension": ".py",
   "mimetype": "text/x-python",
   "name": "python",
   "nbconvert_exporter": "python",
   "pygments_lexer": "ipython3",
   "version": "3.6.5"
  }
 },
 "nbformat": 4,
 "nbformat_minor": 2
}
